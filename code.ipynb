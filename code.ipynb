{
  "metadata": {
    "colab": {
      "gpuType": "T4",
      "provenance": []
    },
    "kaggle": {
      "accelerator": "gpu",
      "dataSources": [
        {
          "sourceId": 8152603,
          "sourceType": "datasetVersion",
          "datasetId": 4821909
        },
        {
          "sourceId": 8198838,
          "sourceType": "datasetVersion",
          "datasetId": 4856797
        }
      ],
      "dockerImageVersionId": 30699,
      "isInternetEnabled": true,
      "language": "python",
      "sourceType": "notebook",
      "isGpuEnabled": true
    },
    "kernelspec": {
      "name": "python3",
      "display_name": "Python 3",
      "language": "python"
    },
    "language_info": {
      "name": "python",
      "version": "3.10.13",
      "mimetype": "text/x-python",
      "codemirror_mode": {
        "name": "ipython",
        "version": 3
      },
      "pygments_lexer": "ipython3",
      "nbconvert_exporter": "python",
      "file_extension": ".py"
    }
  },
  "nbformat_minor": 0,
  "nbformat": 4,
  "cells": [
    {
      "cell_type": "code",
      "source": [
        "!pip install -U portalocker\n",
        "!python -m spacy download en_core_web_sm\n",
        "!python -m spacy download de_core_news_sm\n",
        "!pip install evaluate"
      ],
      "metadata": {
        "colab": {
          "base_uri": "https://localhost:8080/"
        },
        "id": "aqB2K51gghsT",
        "outputId": "4199cbaa-a98a-4b79-cd15-a78f1adfb725",
        "execution": {
          "iopub.status.busy": "2024-05-10T22:51:17.975217Z",
          "iopub.execute_input": "2024-05-10T22:51:17.976221Z",
          "iopub.status.idle": "2024-05-10T22:52:26.695990Z",
          "shell.execute_reply.started": "2024-05-10T22:51:17.976171Z",
          "shell.execute_reply": "2024-05-10T22:52:26.694597Z"
        },
        "trusted": true
      },
      "execution_count": null,
      "outputs": [
        {
          "name": "stdout",
          "text": "Requirement already satisfied: portalocker in /opt/conda/lib/python3.10/site-packages (2.8.2)\nCollecting en-core-web-sm==3.7.1\n  Downloading https://github.com/explosion/spacy-models/releases/download/en_core_web_sm-3.7.1/en_core_web_sm-3.7.1-py3-none-any.whl (12.8 MB)\n\u001b[2K     \u001b[90m━━━━━━━━━━━━━━━━━━━━━━━━━━━━━━━━━━━━━━━━\u001b[0m \u001b[32m12.8/12.8 MB\u001b[0m \u001b[31m66.8 MB/s\u001b[0m eta \u001b[36m0:00:00\u001b[0m00:01\u001b[0m00:01\u001b[0m\n\u001b[?25hRequirement already satisfied: spacy<3.8.0,>=3.7.2 in /opt/conda/lib/python3.10/site-packages (from en-core-web-sm==3.7.1) (3.7.3)\nRequirement already satisfied: spacy-legacy<3.1.0,>=3.0.11 in /opt/conda/lib/python3.10/site-packages (from spacy<3.8.0,>=3.7.2->en-core-web-sm==3.7.1) (3.0.12)\nRequirement already satisfied: spacy-loggers<2.0.0,>=1.0.0 in /opt/conda/lib/python3.10/site-packages (from spacy<3.8.0,>=3.7.2->en-core-web-sm==3.7.1) (1.0.5)\nRequirement already satisfied: murmurhash<1.1.0,>=0.28.0 in /opt/conda/lib/python3.10/site-packages (from spacy<3.8.0,>=3.7.2->en-core-web-sm==3.7.1) (1.0.10)\nRequirement already satisfied: cymem<2.1.0,>=2.0.2 in /opt/conda/lib/python3.10/site-packages (from spacy<3.8.0,>=3.7.2->en-core-web-sm==3.7.1) (2.0.8)\nRequirement already satisfied: preshed<3.1.0,>=3.0.2 in /opt/conda/lib/python3.10/site-packages (from spacy<3.8.0,>=3.7.2->en-core-web-sm==3.7.1) (3.0.9)\nRequirement already satisfied: thinc<8.3.0,>=8.2.2 in /opt/conda/lib/python3.10/site-packages (from spacy<3.8.0,>=3.7.2->en-core-web-sm==3.7.1) (8.2.2)\nRequirement already satisfied: wasabi<1.2.0,>=0.9.1 in /opt/conda/lib/python3.10/site-packages (from spacy<3.8.0,>=3.7.2->en-core-web-sm==3.7.1) (1.1.2)\nRequirement already satisfied: srsly<3.0.0,>=2.4.3 in /opt/conda/lib/python3.10/site-packages (from spacy<3.8.0,>=3.7.2->en-core-web-sm==3.7.1) (2.4.8)\nRequirement already satisfied: catalogue<2.1.0,>=2.0.6 in /opt/conda/lib/python3.10/site-packages (from spacy<3.8.0,>=3.7.2->en-core-web-sm==3.7.1) (2.0.10)\nRequirement already satisfied: weasel<0.4.0,>=0.1.0 in /opt/conda/lib/python3.10/site-packages (from spacy<3.8.0,>=3.7.2->en-core-web-sm==3.7.1) (0.3.4)\nRequirement already satisfied: typer<0.10.0,>=0.3.0 in /opt/conda/lib/python3.10/site-packages (from spacy<3.8.0,>=3.7.2->en-core-web-sm==3.7.1) (0.9.0)\nRequirement already satisfied: smart-open<7.0.0,>=5.2.1 in /opt/conda/lib/python3.10/site-packages (from spacy<3.8.0,>=3.7.2->en-core-web-sm==3.7.1) (6.4.0)\nRequirement already satisfied: tqdm<5.0.0,>=4.38.0 in /opt/conda/lib/python3.10/site-packages (from spacy<3.8.0,>=3.7.2->en-core-web-sm==3.7.1) (4.66.1)\nRequirement already satisfied: requests<3.0.0,>=2.13.0 in /opt/conda/lib/python3.10/site-packages (from spacy<3.8.0,>=3.7.2->en-core-web-sm==3.7.1) (2.31.0)\nRequirement already satisfied: pydantic!=1.8,!=1.8.1,<3.0.0,>=1.7.4 in /opt/conda/lib/python3.10/site-packages (from spacy<3.8.0,>=3.7.2->en-core-web-sm==3.7.1) (2.5.3)\nRequirement already satisfied: jinja2 in /opt/conda/lib/python3.10/site-packages (from spacy<3.8.0,>=3.7.2->en-core-web-sm==3.7.1) (3.1.2)\nRequirement already satisfied: setuptools in /opt/conda/lib/python3.10/site-packages (from spacy<3.8.0,>=3.7.2->en-core-web-sm==3.7.1) (69.0.3)\nRequirement already satisfied: packaging>=20.0 in /opt/conda/lib/python3.10/site-packages (from spacy<3.8.0,>=3.7.2->en-core-web-sm==3.7.1) (21.3)\nRequirement already satisfied: langcodes<4.0.0,>=3.2.0 in /opt/conda/lib/python3.10/site-packages (from spacy<3.8.0,>=3.7.2->en-core-web-sm==3.7.1) (3.3.0)\nRequirement already satisfied: numpy>=1.19.0 in /opt/conda/lib/python3.10/site-packages (from spacy<3.8.0,>=3.7.2->en-core-web-sm==3.7.1) (1.26.4)\nRequirement already satisfied: pyparsing!=3.0.5,>=2.0.2 in /opt/conda/lib/python3.10/site-packages (from packaging>=20.0->spacy<3.8.0,>=3.7.2->en-core-web-sm==3.7.1) (3.1.1)\nRequirement already satisfied: annotated-types>=0.4.0 in /opt/conda/lib/python3.10/site-packages (from pydantic!=1.8,!=1.8.1,<3.0.0,>=1.7.4->spacy<3.8.0,>=3.7.2->en-core-web-sm==3.7.1) (0.6.0)\nRequirement already satisfied: pydantic-core==2.14.6 in /opt/conda/lib/python3.10/site-packages (from pydantic!=1.8,!=1.8.1,<3.0.0,>=1.7.4->spacy<3.8.0,>=3.7.2->en-core-web-sm==3.7.1) (2.14.6)\nRequirement already satisfied: typing-extensions>=4.6.1 in /opt/conda/lib/python3.10/site-packages (from pydantic!=1.8,!=1.8.1,<3.0.0,>=1.7.4->spacy<3.8.0,>=3.7.2->en-core-web-sm==3.7.1) (4.9.0)\nRequirement already satisfied: charset-normalizer<4,>=2 in /opt/conda/lib/python3.10/site-packages (from requests<3.0.0,>=2.13.0->spacy<3.8.0,>=3.7.2->en-core-web-sm==3.7.1) (3.3.2)\nRequirement already satisfied: idna<4,>=2.5 in /opt/conda/lib/python3.10/site-packages (from requests<3.0.0,>=2.13.0->spacy<3.8.0,>=3.7.2->en-core-web-sm==3.7.1) (3.6)\nRequirement already satisfied: urllib3<3,>=1.21.1 in /opt/conda/lib/python3.10/site-packages (from requests<3.0.0,>=2.13.0->spacy<3.8.0,>=3.7.2->en-core-web-sm==3.7.1) (1.26.18)\nRequirement already satisfied: certifi>=2017.4.17 in /opt/conda/lib/python3.10/site-packages (from requests<3.0.0,>=2.13.0->spacy<3.8.0,>=3.7.2->en-core-web-sm==3.7.1) (2024.2.2)\nRequirement already satisfied: blis<0.8.0,>=0.7.8 in /opt/conda/lib/python3.10/site-packages (from thinc<8.3.0,>=8.2.2->spacy<3.8.0,>=3.7.2->en-core-web-sm==3.7.1) (0.7.10)\nRequirement already satisfied: confection<1.0.0,>=0.0.1 in /opt/conda/lib/python3.10/site-packages (from thinc<8.3.0,>=8.2.2->spacy<3.8.0,>=3.7.2->en-core-web-sm==3.7.1) (0.1.4)\nRequirement already satisfied: click<9.0.0,>=7.1.1 in /opt/conda/lib/python3.10/site-packages (from typer<0.10.0,>=0.3.0->spacy<3.8.0,>=3.7.2->en-core-web-sm==3.7.1) (8.1.7)\nRequirement already satisfied: cloudpathlib<0.17.0,>=0.7.0 in /opt/conda/lib/python3.10/site-packages (from weasel<0.4.0,>=0.1.0->spacy<3.8.0,>=3.7.2->en-core-web-sm==3.7.1) (0.16.0)\nRequirement already satisfied: MarkupSafe>=2.0 in /opt/conda/lib/python3.10/site-packages (from jinja2->spacy<3.8.0,>=3.7.2->en-core-web-sm==3.7.1) (2.1.3)\n\u001b[38;5;2m✔ Download and installation successful\u001b[0m\nYou can now load the package via spacy.load('en_core_web_sm')\nCollecting de-core-news-sm==3.7.0\n  Downloading https://github.com/explosion/spacy-models/releases/download/de_core_news_sm-3.7.0/de_core_news_sm-3.7.0-py3-none-any.whl (14.6 MB)\n\u001b[2K     \u001b[90m━━━━━━━━━━━━━━━━━━━━━━━━━━━━━━━━━━━━━━━━\u001b[0m \u001b[32m14.6/14.6 MB\u001b[0m \u001b[31m68.7 MB/s\u001b[0m eta \u001b[36m0:00:00\u001b[0m00:01\u001b[0m00:01\u001b[0m\n\u001b[?25hRequirement already satisfied: spacy<3.8.0,>=3.7.0 in /opt/conda/lib/python3.10/site-packages (from de-core-news-sm==3.7.0) (3.7.3)\nRequirement already satisfied: spacy-legacy<3.1.0,>=3.0.11 in /opt/conda/lib/python3.10/site-packages (from spacy<3.8.0,>=3.7.0->de-core-news-sm==3.7.0) (3.0.12)\nRequirement already satisfied: spacy-loggers<2.0.0,>=1.0.0 in /opt/conda/lib/python3.10/site-packages (from spacy<3.8.0,>=3.7.0->de-core-news-sm==3.7.0) (1.0.5)\nRequirement already satisfied: murmurhash<1.1.0,>=0.28.0 in /opt/conda/lib/python3.10/site-packages (from spacy<3.8.0,>=3.7.0->de-core-news-sm==3.7.0) (1.0.10)\nRequirement already satisfied: cymem<2.1.0,>=2.0.2 in /opt/conda/lib/python3.10/site-packages (from spacy<3.8.0,>=3.7.0->de-core-news-sm==3.7.0) (2.0.8)\nRequirement already satisfied: preshed<3.1.0,>=3.0.2 in /opt/conda/lib/python3.10/site-packages (from spacy<3.8.0,>=3.7.0->de-core-news-sm==3.7.0) (3.0.9)\nRequirement already satisfied: thinc<8.3.0,>=8.2.2 in /opt/conda/lib/python3.10/site-packages (from spacy<3.8.0,>=3.7.0->de-core-news-sm==3.7.0) (8.2.2)\nRequirement already satisfied: wasabi<1.2.0,>=0.9.1 in /opt/conda/lib/python3.10/site-packages (from spacy<3.8.0,>=3.7.0->de-core-news-sm==3.7.0) (1.1.2)\nRequirement already satisfied: srsly<3.0.0,>=2.4.3 in /opt/conda/lib/python3.10/site-packages (from spacy<3.8.0,>=3.7.0->de-core-news-sm==3.7.0) (2.4.8)\nRequirement already satisfied: catalogue<2.1.0,>=2.0.6 in /opt/conda/lib/python3.10/site-packages (from spacy<3.8.0,>=3.7.0->de-core-news-sm==3.7.0) (2.0.10)\nRequirement already satisfied: weasel<0.4.0,>=0.1.0 in /opt/conda/lib/python3.10/site-packages (from spacy<3.8.0,>=3.7.0->de-core-news-sm==3.7.0) (0.3.4)\nRequirement already satisfied: typer<0.10.0,>=0.3.0 in /opt/conda/lib/python3.10/site-packages (from spacy<3.8.0,>=3.7.0->de-core-news-sm==3.7.0) (0.9.0)\nRequirement already satisfied: smart-open<7.0.0,>=5.2.1 in /opt/conda/lib/python3.10/site-packages (from spacy<3.8.0,>=3.7.0->de-core-news-sm==3.7.0) (6.4.0)\nRequirement already satisfied: tqdm<5.0.0,>=4.38.0 in /opt/conda/lib/python3.10/site-packages (from spacy<3.8.0,>=3.7.0->de-core-news-sm==3.7.0) (4.66.1)\nRequirement already satisfied: requests<3.0.0,>=2.13.0 in /opt/conda/lib/python3.10/site-packages (from spacy<3.8.0,>=3.7.0->de-core-news-sm==3.7.0) (2.31.0)\nRequirement already satisfied: pydantic!=1.8,!=1.8.1,<3.0.0,>=1.7.4 in /opt/conda/lib/python3.10/site-packages (from spacy<3.8.0,>=3.7.0->de-core-news-sm==3.7.0) (2.5.3)\nRequirement already satisfied: jinja2 in /opt/conda/lib/python3.10/site-packages (from spacy<3.8.0,>=3.7.0->de-core-news-sm==3.7.0) (3.1.2)\nRequirement already satisfied: setuptools in /opt/conda/lib/python3.10/site-packages (from spacy<3.8.0,>=3.7.0->de-core-news-sm==3.7.0) (69.0.3)\nRequirement already satisfied: packaging>=20.0 in /opt/conda/lib/python3.10/site-packages (from spacy<3.8.0,>=3.7.0->de-core-news-sm==3.7.0) (21.3)\nRequirement already satisfied: langcodes<4.0.0,>=3.2.0 in /opt/conda/lib/python3.10/site-packages (from spacy<3.8.0,>=3.7.0->de-core-news-sm==3.7.0) (3.3.0)\nRequirement already satisfied: numpy>=1.19.0 in /opt/conda/lib/python3.10/site-packages (from spacy<3.8.0,>=3.7.0->de-core-news-sm==3.7.0) (1.26.4)\nRequirement already satisfied: pyparsing!=3.0.5,>=2.0.2 in /opt/conda/lib/python3.10/site-packages (from packaging>=20.0->spacy<3.8.0,>=3.7.0->de-core-news-sm==3.7.0) (3.1.1)\nRequirement already satisfied: annotated-types>=0.4.0 in /opt/conda/lib/python3.10/site-packages (from pydantic!=1.8,!=1.8.1,<3.0.0,>=1.7.4->spacy<3.8.0,>=3.7.0->de-core-news-sm==3.7.0) (0.6.0)\nRequirement already satisfied: pydantic-core==2.14.6 in /opt/conda/lib/python3.10/site-packages (from pydantic!=1.8,!=1.8.1,<3.0.0,>=1.7.4->spacy<3.8.0,>=3.7.0->de-core-news-sm==3.7.0) (2.14.6)\nRequirement already satisfied: typing-extensions>=4.6.1 in /opt/conda/lib/python3.10/site-packages (from pydantic!=1.8,!=1.8.1,<3.0.0,>=1.7.4->spacy<3.8.0,>=3.7.0->de-core-news-sm==3.7.0) (4.9.0)\nRequirement already satisfied: charset-normalizer<4,>=2 in /opt/conda/lib/python3.10/site-packages (from requests<3.0.0,>=2.13.0->spacy<3.8.0,>=3.7.0->de-core-news-sm==3.7.0) (3.3.2)\nRequirement already satisfied: idna<4,>=2.5 in /opt/conda/lib/python3.10/site-packages (from requests<3.0.0,>=2.13.0->spacy<3.8.0,>=3.7.0->de-core-news-sm==3.7.0) (3.6)\nRequirement already satisfied: urllib3<3,>=1.21.1 in /opt/conda/lib/python3.10/site-packages (from requests<3.0.0,>=2.13.0->spacy<3.8.0,>=3.7.0->de-core-news-sm==3.7.0) (1.26.18)\nRequirement already satisfied: certifi>=2017.4.17 in /opt/conda/lib/python3.10/site-packages (from requests<3.0.0,>=2.13.0->spacy<3.8.0,>=3.7.0->de-core-news-sm==3.7.0) (2024.2.2)\nRequirement already satisfied: blis<0.8.0,>=0.7.8 in /opt/conda/lib/python3.10/site-packages (from thinc<8.3.0,>=8.2.2->spacy<3.8.0,>=3.7.0->de-core-news-sm==3.7.0) (0.7.10)\nRequirement already satisfied: confection<1.0.0,>=0.0.1 in /opt/conda/lib/python3.10/site-packages (from thinc<8.3.0,>=8.2.2->spacy<3.8.0,>=3.7.0->de-core-news-sm==3.7.0) (0.1.4)\nRequirement already satisfied: click<9.0.0,>=7.1.1 in /opt/conda/lib/python3.10/site-packages (from typer<0.10.0,>=0.3.0->spacy<3.8.0,>=3.7.0->de-core-news-sm==3.7.0) (8.1.7)\nRequirement already satisfied: cloudpathlib<0.17.0,>=0.7.0 in /opt/conda/lib/python3.10/site-packages (from weasel<0.4.0,>=0.1.0->spacy<3.8.0,>=3.7.0->de-core-news-sm==3.7.0) (0.16.0)\nRequirement already satisfied: MarkupSafe>=2.0 in /opt/conda/lib/python3.10/site-packages (from jinja2->spacy<3.8.0,>=3.7.0->de-core-news-sm==3.7.0) (2.1.3)\n\u001b[38;5;2m✔ Download and installation successful\u001b[0m\nYou can now load the package via spacy.load('de_core_news_sm')\nCollecting evaluate\n  Downloading evaluate-0.4.2-py3-none-any.whl.metadata (9.3 kB)\nRequirement already satisfied: datasets>=2.0.0 in /opt/conda/lib/python3.10/site-packages (from evaluate) (2.18.0)\nRequirement already satisfied: numpy>=1.17 in /opt/conda/lib/python3.10/site-packages (from evaluate) (1.26.4)\nRequirement already satisfied: dill in /opt/conda/lib/python3.10/site-packages (from evaluate) (0.3.8)\nRequirement already satisfied: pandas in /opt/conda/lib/python3.10/site-packages (from evaluate) (2.1.4)\nRequirement already satisfied: requests>=2.19.0 in /opt/conda/lib/python3.10/site-packages (from evaluate) (2.31.0)\nRequirement already satisfied: tqdm>=4.62.1 in /opt/conda/lib/python3.10/site-packages (from evaluate) (4.66.1)\nRequirement already satisfied: xxhash in /opt/conda/lib/python3.10/site-packages (from evaluate) (3.4.1)\nRequirement already satisfied: multiprocess in /opt/conda/lib/python3.10/site-packages (from evaluate) (0.70.16)\nRequirement already satisfied: fsspec>=2021.05.0 in /opt/conda/lib/python3.10/site-packages (from fsspec[http]>=2021.05.0->evaluate) (2024.2.0)\nRequirement already satisfied: huggingface-hub>=0.7.0 in /opt/conda/lib/python3.10/site-packages (from evaluate) (0.22.2)\nRequirement already satisfied: packaging in /opt/conda/lib/python3.10/site-packages (from evaluate) (21.3)\nRequirement already satisfied: filelock in /opt/conda/lib/python3.10/site-packages (from datasets>=2.0.0->evaluate) (3.13.1)\nRequirement already satisfied: pyarrow>=12.0.0 in /opt/conda/lib/python3.10/site-packages (from datasets>=2.0.0->evaluate) (15.0.2)\nRequirement already satisfied: pyarrow-hotfix in /opt/conda/lib/python3.10/site-packages (from datasets>=2.0.0->evaluate) (0.6)\nRequirement already satisfied: aiohttp in /opt/conda/lib/python3.10/site-packages (from datasets>=2.0.0->evaluate) (3.9.1)\nRequirement already satisfied: pyyaml>=5.1 in /opt/conda/lib/python3.10/site-packages (from datasets>=2.0.0->evaluate) (6.0.1)\nRequirement already satisfied: typing-extensions>=3.7.4.3 in /opt/conda/lib/python3.10/site-packages (from huggingface-hub>=0.7.0->evaluate) (4.9.0)\nRequirement already satisfied: pyparsing!=3.0.5,>=2.0.2 in /opt/conda/lib/python3.10/site-packages (from packaging->evaluate) (3.1.1)\nRequirement already satisfied: charset-normalizer<4,>=2 in /opt/conda/lib/python3.10/site-packages (from requests>=2.19.0->evaluate) (3.3.2)\nRequirement already satisfied: idna<4,>=2.5 in /opt/conda/lib/python3.10/site-packages (from requests>=2.19.0->evaluate) (3.6)\nRequirement already satisfied: urllib3<3,>=1.21.1 in /opt/conda/lib/python3.10/site-packages (from requests>=2.19.0->evaluate) (1.26.18)\nRequirement already satisfied: certifi>=2017.4.17 in /opt/conda/lib/python3.10/site-packages (from requests>=2.19.0->evaluate) (2024.2.2)\nRequirement already satisfied: python-dateutil>=2.8.2 in /opt/conda/lib/python3.10/site-packages (from pandas->evaluate) (2.9.0.post0)\nRequirement already satisfied: pytz>=2020.1 in /opt/conda/lib/python3.10/site-packages (from pandas->evaluate) (2023.3.post1)\nRequirement already satisfied: tzdata>=2022.1 in /opt/conda/lib/python3.10/site-packages (from pandas->evaluate) (2023.4)\nRequirement already satisfied: attrs>=17.3.0 in /opt/conda/lib/python3.10/site-packages (from aiohttp->datasets>=2.0.0->evaluate) (23.2.0)\nRequirement already satisfied: multidict<7.0,>=4.5 in /opt/conda/lib/python3.10/site-packages (from aiohttp->datasets>=2.0.0->evaluate) (6.0.4)\nRequirement already satisfied: yarl<2.0,>=1.0 in /opt/conda/lib/python3.10/site-packages (from aiohttp->datasets>=2.0.0->evaluate) (1.9.3)\nRequirement already satisfied: frozenlist>=1.1.1 in /opt/conda/lib/python3.10/site-packages (from aiohttp->datasets>=2.0.0->evaluate) (1.4.1)\nRequirement already satisfied: aiosignal>=1.1.2 in /opt/conda/lib/python3.10/site-packages (from aiohttp->datasets>=2.0.0->evaluate) (1.3.1)\nRequirement already satisfied: async-timeout<5.0,>=4.0 in /opt/conda/lib/python3.10/site-packages (from aiohttp->datasets>=2.0.0->evaluate) (4.0.3)\nRequirement already satisfied: six>=1.5 in /opt/conda/lib/python3.10/site-packages (from python-dateutil>=2.8.2->pandas->evaluate) (1.16.0)\nDownloading evaluate-0.4.2-py3-none-any.whl (84 kB)\n\u001b[2K   \u001b[90m━━━━━━━━━━━━━━━━━━━━━━━━━━━━━━━━━━━━━━━━\u001b[0m \u001b[32m84.1/84.1 kB\u001b[0m \u001b[31m2.0 MB/s\u001b[0m eta \u001b[36m0:00:00\u001b[0ma \u001b[36m0:00:01\u001b[0m\n\u001b[?25hInstalling collected packages: evaluate\nSuccessfully installed evaluate-0.4.2\n",
          "output_type": "stream"
        }
      ]
    },
    {
      "cell_type": "code",
      "source": [
        "from torchtext.data.utils import get_tokenizer\n",
        "from torchtext.vocab import build_vocab_from_iterator\n",
        "from typing import Iterable, List\n",
        "from torch.nn.utils.rnn import pad_sequence\n",
        "from torch.utils.data import DataLoader, Dataset\n",
        "from timeit import default_timer as timer\n",
        "from torch.nn import Transformer\n",
        "from torch import Tensor\n",
        "from sklearn.model_selection import train_test_split\n",
        "from tqdm.auto import tqdm\n",
        "import torch.nn as nn\n",
        "import torch\n",
        "import torch.nn.functional as F\n",
        "import numpy as np\n",
        "import math\n",
        "import os\n",
        "import pandas as pd\n",
        "import re\n",
        "import unicodedata\n",
        "import matplotlib.pyplot as plt\n",
        "import re\n",
        "import string\n",
        "from unicodedata import normalize\n",
        "from pickle import dump\n",
        "import pickle\n",
        "import evaluate\n"
      ],
      "metadata": {
        "id": "BnbJKR5Ngui8",
        "execution": {
          "iopub.status.busy": "2024-05-10T22:52:26.699018Z",
          "iopub.execute_input": "2024-05-10T22:52:26.699523Z",
          "iopub.status.idle": "2024-05-10T22:52:39.051695Z",
          "shell.execute_reply.started": "2024-05-10T22:52:26.699462Z",
          "shell.execute_reply": "2024-05-10T22:52:39.050554Z"
        },
        "trusted": true
      },
      "execution_count": null,
      "outputs": []
    },
    {
      "cell_type": "code",
      "source": [
        "seed = 42\n",
        "np.random.seed(seed)\n",
        "torch.manual_seed(seed)\n",
        "torch.cuda.manual_seed(seed)\n"
      ],
      "metadata": {
        "id": "xz8L6A_ejIjd",
        "execution": {
          "iopub.status.busy": "2024-05-10T22:52:39.053096Z",
          "iopub.execute_input": "2024-05-10T22:52:39.053520Z",
          "iopub.status.idle": "2024-05-10T22:52:39.071130Z",
          "shell.execute_reply.started": "2024-05-10T22:52:39.053451Z",
          "shell.execute_reply": "2024-05-10T22:52:39.070020Z"
        },
        "trusted": true
      },
      "execution_count": null,
      "outputs": []
    },
    {
      "cell_type": "code",
      "source": [
        "SRC_LANGUAGE = 'en'\n",
        "TGT_LANGUAGE = 'de'"
      ],
      "metadata": {
        "id": "N17X8lkejJ6p",
        "execution": {
          "iopub.status.busy": "2024-05-10T22:52:39.074962Z",
          "iopub.execute_input": "2024-05-10T22:52:39.076003Z",
          "iopub.status.idle": "2024-05-10T22:52:39.090344Z",
          "shell.execute_reply.started": "2024-05-10T22:52:39.075959Z",
          "shell.execute_reply": "2024-05-10T22:52:39.089233Z"
        },
        "trusted": true
      },
      "execution_count": null,
      "outputs": []
    },
    {
      "cell_type": "code",
      "source": [
        "token_transform = {}\n",
        "vocab_transform = {}"
      ],
      "metadata": {
        "id": "0gITTHWtpM9w",
        "execution": {
          "iopub.status.busy": "2024-05-10T22:52:39.091806Z",
          "iopub.execute_input": "2024-05-10T22:52:39.092204Z",
          "iopub.status.idle": "2024-05-10T22:52:39.099689Z",
          "shell.execute_reply.started": "2024-05-10T22:52:39.092168Z",
          "shell.execute_reply": "2024-05-10T22:52:39.098541Z"
        },
        "trusted": true
      },
      "execution_count": null,
      "outputs": []
    },
    {
      "cell_type": "code",
      "source": [
        "token_transform[SRC_LANGUAGE] = get_tokenizer('spacy', language='en_core_web_sm')\n",
        "token_transform[TGT_LANGUAGE] = get_tokenizer('spacy', language='de_core_news_sm')"
      ],
      "metadata": {
        "id": "oAfgErJDfHAu",
        "execution": {
          "iopub.status.busy": "2024-05-10T22:52:39.101140Z",
          "iopub.execute_input": "2024-05-10T22:52:39.101580Z",
          "iopub.status.idle": "2024-05-10T22:52:42.436783Z",
          "shell.execute_reply.started": "2024-05-10T22:52:39.101526Z",
          "shell.execute_reply": "2024-05-10T22:52:42.435875Z"
        },
        "trusted": true
      },
      "execution_count": null,
      "outputs": []
    },
    {
      "cell_type": "markdown",
      "source": [
        "multi30k"
      ],
      "metadata": {
        "id": "z3HmnijI5A16"
      }
    },
    {
      "cell_type": "code",
      "source": [
        "!pip install datasets"
      ],
      "metadata": {
        "colab": {
          "base_uri": "https://localhost:8080/"
        },
        "id": "P82WTYC6xA1S",
        "outputId": "88003374-bb21-4e31-f479-8eddaf292176",
        "execution": {
          "iopub.status.busy": "2024-05-10T22:52:42.438247Z",
          "iopub.execute_input": "2024-05-10T22:52:42.438691Z",
          "iopub.status.idle": "2024-05-10T22:52:56.459760Z",
          "shell.execute_reply.started": "2024-05-10T22:52:42.438652Z",
          "shell.execute_reply": "2024-05-10T22:52:56.458575Z"
        },
        "trusted": true
      },
      "execution_count": null,
      "outputs": [
        {
          "name": "stdout",
          "text": "Requirement already satisfied: datasets in /opt/conda/lib/python3.10/site-packages (2.18.0)\nRequirement already satisfied: filelock in /opt/conda/lib/python3.10/site-packages (from datasets) (3.13.1)\nRequirement already satisfied: numpy>=1.17 in /opt/conda/lib/python3.10/site-packages (from datasets) (1.26.4)\nRequirement already satisfied: pyarrow>=12.0.0 in /opt/conda/lib/python3.10/site-packages (from datasets) (15.0.2)\nRequirement already satisfied: pyarrow-hotfix in /opt/conda/lib/python3.10/site-packages (from datasets) (0.6)\nRequirement already satisfied: dill<0.3.9,>=0.3.0 in /opt/conda/lib/python3.10/site-packages (from datasets) (0.3.8)\nRequirement already satisfied: pandas in /opt/conda/lib/python3.10/site-packages (from datasets) (2.1.4)\nRequirement already satisfied: requests>=2.19.0 in /opt/conda/lib/python3.10/site-packages (from datasets) (2.31.0)\nRequirement already satisfied: tqdm>=4.62.1 in /opt/conda/lib/python3.10/site-packages (from datasets) (4.66.1)\nRequirement already satisfied: xxhash in /opt/conda/lib/python3.10/site-packages (from datasets) (3.4.1)\nRequirement already satisfied: multiprocess in /opt/conda/lib/python3.10/site-packages (from datasets) (0.70.16)\nRequirement already satisfied: fsspec<=2024.2.0,>=2023.1.0 in /opt/conda/lib/python3.10/site-packages (from fsspec[http]<=2024.2.0,>=2023.1.0->datasets) (2024.2.0)\nRequirement already satisfied: aiohttp in /opt/conda/lib/python3.10/site-packages (from datasets) (3.9.1)\nRequirement already satisfied: huggingface-hub>=0.19.4 in /opt/conda/lib/python3.10/site-packages (from datasets) (0.22.2)\nRequirement already satisfied: packaging in /opt/conda/lib/python3.10/site-packages (from datasets) (21.3)\nRequirement already satisfied: pyyaml>=5.1 in /opt/conda/lib/python3.10/site-packages (from datasets) (6.0.1)\nRequirement already satisfied: attrs>=17.3.0 in /opt/conda/lib/python3.10/site-packages (from aiohttp->datasets) (23.2.0)\nRequirement already satisfied: multidict<7.0,>=4.5 in /opt/conda/lib/python3.10/site-packages (from aiohttp->datasets) (6.0.4)\nRequirement already satisfied: yarl<2.0,>=1.0 in /opt/conda/lib/python3.10/site-packages (from aiohttp->datasets) (1.9.3)\nRequirement already satisfied: frozenlist>=1.1.1 in /opt/conda/lib/python3.10/site-packages (from aiohttp->datasets) (1.4.1)\nRequirement already satisfied: aiosignal>=1.1.2 in /opt/conda/lib/python3.10/site-packages (from aiohttp->datasets) (1.3.1)\nRequirement already satisfied: async-timeout<5.0,>=4.0 in /opt/conda/lib/python3.10/site-packages (from aiohttp->datasets) (4.0.3)\nRequirement already satisfied: typing-extensions>=3.7.4.3 in /opt/conda/lib/python3.10/site-packages (from huggingface-hub>=0.19.4->datasets) (4.9.0)\nRequirement already satisfied: pyparsing!=3.0.5,>=2.0.2 in /opt/conda/lib/python3.10/site-packages (from packaging->datasets) (3.1.1)\nRequirement already satisfied: charset-normalizer<4,>=2 in /opt/conda/lib/python3.10/site-packages (from requests>=2.19.0->datasets) (3.3.2)\nRequirement already satisfied: idna<4,>=2.5 in /opt/conda/lib/python3.10/site-packages (from requests>=2.19.0->datasets) (3.6)\nRequirement already satisfied: urllib3<3,>=1.21.1 in /opt/conda/lib/python3.10/site-packages (from requests>=2.19.0->datasets) (1.26.18)\nRequirement already satisfied: certifi>=2017.4.17 in /opt/conda/lib/python3.10/site-packages (from requests>=2.19.0->datasets) (2024.2.2)\nRequirement already satisfied: python-dateutil>=2.8.2 in /opt/conda/lib/python3.10/site-packages (from pandas->datasets) (2.9.0.post0)\nRequirement already satisfied: pytz>=2020.1 in /opt/conda/lib/python3.10/site-packages (from pandas->datasets) (2023.3.post1)\nRequirement already satisfied: tzdata>=2022.1 in /opt/conda/lib/python3.10/site-packages (from pandas->datasets) (2023.4)\nRequirement already satisfied: six>=1.5 in /opt/conda/lib/python3.10/site-packages (from python-dateutil>=2.8.2->pandas->datasets) (1.16.0)\n",
          "output_type": "stream"
        }
      ]
    },
    {
      "cell_type": "code",
      "source": [
        "from datasets import load_dataset\n",
        "\n",
        "train_data, valid_data, test_data = load_dataset(\"bentrevett/multi30k\", split=[\"train\", \"validation\", \"test\"])"
      ],
      "metadata": {
        "id": "8uQ0NiiExEq5",
        "execution": {
          "iopub.status.busy": "2024-05-10T22:52:56.461861Z",
          "iopub.execute_input": "2024-05-10T22:52:56.462208Z",
          "iopub.status.idle": "2024-05-10T22:52:57.309603Z",
          "shell.execute_reply.started": "2024-05-10T22:52:56.462178Z",
          "shell.execute_reply": "2024-05-10T22:52:57.308544Z"
        },
        "trusted": true
      },
      "execution_count": null,
      "outputs": []
    },
    {
      "cell_type": "code",
      "source": [
        "tokenizer_en = get_tokenizer(\"basic_english\")\n",
        "tokenizer_de = get_tokenizer(\"basic_english\")"
      ],
      "metadata": {
        "id": "1aXbT1R3E6sX",
        "execution": {
          "iopub.status.busy": "2024-05-10T22:52:57.311247Z",
          "iopub.execute_input": "2024-05-10T22:52:57.311960Z",
          "iopub.status.idle": "2024-05-10T22:52:57.316740Z",
          "shell.execute_reply.started": "2024-05-10T22:52:57.311921Z",
          "shell.execute_reply": "2024-05-10T22:52:57.315752Z"
        },
        "trusted": true
      },
      "execution_count": null,
      "outputs": []
    },
    {
      "cell_type": "code",
      "source": [
        "def get_data(data):\n",
        "  english_sentences = [example['en'] for example in data]\n",
        "  german_sentences = [example['de'] for example in data]\n",
        "\n",
        "  return pd.DataFrame({'English': english_sentences, 'German': german_sentences})\n"
      ],
      "metadata": {
        "id": "DSHPMUxWIXNQ",
        "execution": {
          "iopub.status.busy": "2024-05-10T22:52:57.320708Z",
          "iopub.execute_input": "2024-05-10T22:52:57.321028Z",
          "iopub.status.idle": "2024-05-10T22:52:57.329507Z",
          "shell.execute_reply.started": "2024-05-10T22:52:57.321003Z",
          "shell.execute_reply": "2024-05-10T22:52:57.328492Z"
        },
        "trusted": true
      },
      "execution_count": null,
      "outputs": []
    },
    {
      "cell_type": "code",
      "source": [
        "train_dataset = get_data(train_data)\n",
        "valid_dataset = get_data(valid_data)\n",
        "test_dataset = get_data(test_data)"
      ],
      "metadata": {
        "id": "xncRkZgWKBhC",
        "execution": {
          "iopub.status.busy": "2024-05-10T22:52:57.330727Z",
          "iopub.execute_input": "2024-05-10T22:52:57.331099Z",
          "iopub.status.idle": "2024-05-10T22:52:59.920156Z",
          "shell.execute_reply.started": "2024-05-10T22:52:57.331071Z",
          "shell.execute_reply": "2024-05-10T22:52:59.919060Z"
        },
        "trusted": true
      },
      "execution_count": null,
      "outputs": []
    },
    {
      "cell_type": "code",
      "source": [
        "def filter_non_numeric(data):\n",
        "    data = data[~data['English'].apply(lambda x: isinstance(x, (int, float)))]\n",
        "    data = data[~data['German'].apply(lambda x: isinstance(x, (int, float)))]\n",
        "    return data"
      ],
      "metadata": {
        "id": "ChZm5Lq4y9r_",
        "execution": {
          "iopub.status.busy": "2024-05-10T22:52:59.921769Z",
          "iopub.execute_input": "2024-05-10T22:52:59.922083Z",
          "iopub.status.idle": "2024-05-10T22:52:59.928833Z",
          "shell.execute_reply.started": "2024-05-10T22:52:59.922058Z",
          "shell.execute_reply": "2024-05-10T22:52:59.927558Z"
        },
        "trusted": true
      },
      "execution_count": null,
      "outputs": []
    },
    {
      "cell_type": "code",
      "source": [
        "train_dataset = filter_non_numeric(train_dataset)\n",
        "valid_dataset = filter_non_numeric(valid_dataset)\n",
        "test_dataset = filter_non_numeric(test_dataset)"
      ],
      "metadata": {
        "id": "W0djPLZ4zKRk",
        "execution": {
          "iopub.status.busy": "2024-05-10T22:52:59.929979Z",
          "iopub.execute_input": "2024-05-10T22:52:59.930288Z",
          "iopub.status.idle": "2024-05-10T22:52:59.982173Z",
          "shell.execute_reply.started": "2024-05-10T22:52:59.930264Z",
          "shell.execute_reply": "2024-05-10T22:52:59.981287Z"
        },
        "trusted": true
      },
      "execution_count": null,
      "outputs": []
    },
    {
      "cell_type": "code",
      "source": [
        "def unicode_to_ascii(s):\n",
        "    return ''.join(c for c in unicodedata.normalize('NFD', s) if unicodedata.category(c) != 'Mn')\n",
        "\n",
        "def normalize_string(s):\n",
        "    s = s.lower().strip()\n",
        "    s = unicode_to_ascii(s)\n",
        "    s = re.sub(r\"([.!?])\", r\" \\1\", s)\n",
        "    s = re.sub(r\"[^a-zA-Z.!?]+\", r\" \", s)\n",
        "    s = re.sub(r\"\\s+\", r\" \", s).strip()\n",
        "    return s"
      ],
      "metadata": {
        "id": "z5XlKOoGzrtx",
        "execution": {
          "iopub.status.busy": "2024-05-10T22:52:59.983388Z",
          "iopub.execute_input": "2024-05-10T22:52:59.983723Z",
          "iopub.status.idle": "2024-05-10T22:52:59.991141Z",
          "shell.execute_reply.started": "2024-05-10T22:52:59.983696Z",
          "shell.execute_reply": "2024-05-10T22:52:59.989990Z"
        },
        "trusted": true
      },
      "execution_count": null,
      "outputs": []
    },
    {
      "cell_type": "code",
      "source": [
        "def clean(df, col1, col2 ):\n",
        "    df[col1] = df[col1].apply(normalize_string)\n",
        "    df[col2] = df[col2].apply(normalize_string)\n",
        "\n",
        "    return df"
      ],
      "metadata": {
        "id": "oD4EKskd0ehf",
        "execution": {
          "iopub.status.busy": "2024-05-10T22:53:53.198237Z",
          "iopub.execute_input": "2024-05-10T22:53:53.198698Z",
          "iopub.status.idle": "2024-05-10T22:53:53.204682Z",
          "shell.execute_reply.started": "2024-05-10T22:53:53.198665Z",
          "shell.execute_reply": "2024-05-10T22:53:53.203394Z"
        },
        "trusted": true
      },
      "execution_count": null,
      "outputs": []
    },
    {
      "cell_type": "code",
      "source": [
        "\n",
        "train_dataset= clean(train_dataset, 'English', 'German')\n",
        "valid_dataset= clean(valid_dataset, 'English', 'German')\n",
        "test_dataset= clean(test_dataset, 'English', 'German')\n"
      ],
      "metadata": {
        "id": "FEI6w3pay64Y",
        "execution": {
          "iopub.status.busy": "2024-05-10T22:53:54.173450Z",
          "iopub.execute_input": "2024-05-10T22:53:54.173882Z",
          "iopub.status.idle": "2024-05-10T22:53:57.095713Z",
          "shell.execute_reply.started": "2024-05-10T22:53:54.173850Z",
          "shell.execute_reply": "2024-05-10T22:53:57.094731Z"
        },
        "trusted": true
      },
      "execution_count": null,
      "outputs": []
    },
    {
      "cell_type": "code",
      "source": [
        "train_dataset_temp = train_dataset\n",
        "test_dataset_temp = test_dataset\n",
        "valid_dataset_temp = valid_dataset"
      ],
      "metadata": {
        "id": "yKHIPbVlr9Lm",
        "execution": {
          "iopub.status.busy": "2024-05-10T22:53:57.097432Z",
          "iopub.execute_input": "2024-05-10T22:53:57.097743Z",
          "iopub.status.idle": "2024-05-10T22:53:57.105107Z",
          "shell.execute_reply.started": "2024-05-10T22:53:57.097718Z",
          "shell.execute_reply": "2024-05-10T22:53:57.104030Z"
        },
        "trusted": true
      },
      "execution_count": null,
      "outputs": []
    },
    {
      "cell_type": "code",
      "source": [
        "actuals = test_dataset['German'].values.tolist()"
      ],
      "metadata": {
        "id": "Nb3aMat_r9Lm",
        "execution": {
          "iopub.status.busy": "2024-05-10T22:53:57.106412Z",
          "iopub.execute_input": "2024-05-10T22:53:57.106758Z",
          "iopub.status.idle": "2024-05-10T22:53:57.114892Z",
          "shell.execute_reply.started": "2024-05-10T22:53:57.106723Z",
          "shell.execute_reply": "2024-05-10T22:53:57.113513Z"
        },
        "trusted": true
      },
      "execution_count": null,
      "outputs": []
    },
    {
      "cell_type": "code",
      "source": [
        "references = test_dataset['English'].values.tolist()\n",
        "\n",
        "bleu = evaluate.load(\"bleu\")"
      ],
      "metadata": {
        "id": "rGQZSMk9FgGU",
        "execution": {
          "iopub.status.busy": "2024-05-10T22:53:57.117516Z",
          "iopub.execute_input": "2024-05-10T22:53:57.118031Z",
          "iopub.status.idle": "2024-05-10T22:53:58.317332Z",
          "shell.execute_reply.started": "2024-05-10T22:53:57.117998Z",
          "shell.execute_reply": "2024-05-10T22:53:58.316278Z"
        },
        "trusted": true,
        "colab": {
          "referenced_widgets": [
            "2edd556609c5408dbd99c96d38264cec",
            "4d453511ce1a43bdb5414f4ca36fa27f",
            "42f79ff664f0415b96c7b53991d78b14"
          ]
        },
        "outputId": "7497e067-fec3-469f-c040-e1874ee7f79b"
      },
      "execution_count": null,
      "outputs": [
        {
          "output_type": "display_data",
          "data": {
            "text/plain": "Downloading builder script:   0%|          | 0.00/5.94k [00:00<?, ?B/s]",
            "application/vnd.jupyter.widget-view+json": {
              "version_major": 2,
              "version_minor": 0,
              "model_id": "2edd556609c5408dbd99c96d38264cec"
            }
          },
          "metadata": {}
        },
        {
          "output_type": "display_data",
          "data": {
            "text/plain": "Downloading extra modules:   0%|          | 0.00/1.55k [00:00<?, ?B/s]",
            "application/vnd.jupyter.widget-view+json": {
              "version_major": 2,
              "version_minor": 0,
              "model_id": "4d453511ce1a43bdb5414f4ca36fa27f"
            }
          },
          "metadata": {}
        },
        {
          "output_type": "display_data",
          "data": {
            "text/plain": "Downloading extra modules:   0%|          | 0.00/3.34k [00:00<?, ?B/s]",
            "application/vnd.jupyter.widget-view+json": {
              "version_major": 2,
              "version_minor": 0,
              "model_id": "42f79ff664f0415b96c7b53991d78b14"
            }
          },
          "metadata": {}
        }
      ]
    },
    {
      "cell_type": "code",
      "source": [
        "test_dataset"
      ],
      "metadata": {
        "colab": {
          "base_uri": "https://localhost:8080/",
          "height": 423
        },
        "id": "-M2FjxPK_dbP",
        "outputId": "0fb7fd3e-9d12-4ae2-f5a7-592aa0ad05af",
        "execution": {
          "iopub.status.busy": "2024-05-10T22:53:58.318651Z",
          "iopub.execute_input": "2024-05-10T22:53:58.318967Z",
          "iopub.status.idle": "2024-05-10T22:53:58.333805Z",
          "shell.execute_reply.started": "2024-05-10T22:53:58.318940Z",
          "shell.execute_reply": "2024-05-10T22:53:58.332576Z"
        },
        "trusted": true
      },
      "execution_count": null,
      "outputs": [
        {
          "execution_count": 155,
          "output_type": "execute_result",
          "data": {
            "text/plain": "                                               English  \\\n0       a man in an orange hat starring at something .   \n1    a boston terrier is running on lush green gras...   \n2    a girl in karate uniform breaking a stick with...   \n3    five people wearing winter jackets and helmets...   \n4              people are fixing the roof of a house .   \n..                                                 ...   \n995  marathon runners are racing on a city street w...   \n996  asian woman wearing a sunhat while riding a bi...   \n997  some children are outside playing in the dirt ...   \n998      an older man is playing a video arcade game .   \n999  a girl at the shore of a beach with a mountain...   \n\n                                                German  \n0    ein mann mit einem orangefarbenen hut der etwa...  \n1    ein boston terrier lauft uber saftig grunes gr...  \n2    ein madchen in einem karateanzug bricht ein br...  \n3    funf leute in winterjacken und mit helmen steh...  \n4             leute reparieren das dach eines hauses .  \n..                                                 ...  \n995  marathonlauferinnen laufen auf einer stadtisch...  \n996  asiatische frau tragt einen sonnenhut beim fah...  \n997  ein paar kinder sind im freien und spielen auf...  \n998           ein alterer mann spielt ein videospiel .  \n999  ein madchen an einer kuste mit einem berg im h...  \n\n[1000 rows x 2 columns]",
            "text/html": "<div>\n<style scoped>\n    .dataframe tbody tr th:only-of-type {\n        vertical-align: middle;\n    }\n\n    .dataframe tbody tr th {\n        vertical-align: top;\n    }\n\n    .dataframe thead th {\n        text-align: right;\n    }\n</style>\n<table border=\"1\" class=\"dataframe\">\n  <thead>\n    <tr style=\"text-align: right;\">\n      <th></th>\n      <th>English</th>\n      <th>German</th>\n    </tr>\n  </thead>\n  <tbody>\n    <tr>\n      <th>0</th>\n      <td>a man in an orange hat starring at something .</td>\n      <td>ein mann mit einem orangefarbenen hut der etwa...</td>\n    </tr>\n    <tr>\n      <th>1</th>\n      <td>a boston terrier is running on lush green gras...</td>\n      <td>ein boston terrier lauft uber saftig grunes gr...</td>\n    </tr>\n    <tr>\n      <th>2</th>\n      <td>a girl in karate uniform breaking a stick with...</td>\n      <td>ein madchen in einem karateanzug bricht ein br...</td>\n    </tr>\n    <tr>\n      <th>3</th>\n      <td>five people wearing winter jackets and helmets...</td>\n      <td>funf leute in winterjacken und mit helmen steh...</td>\n    </tr>\n    <tr>\n      <th>4</th>\n      <td>people are fixing the roof of a house .</td>\n      <td>leute reparieren das dach eines hauses .</td>\n    </tr>\n    <tr>\n      <th>...</th>\n      <td>...</td>\n      <td>...</td>\n    </tr>\n    <tr>\n      <th>995</th>\n      <td>marathon runners are racing on a city street w...</td>\n      <td>marathonlauferinnen laufen auf einer stadtisch...</td>\n    </tr>\n    <tr>\n      <th>996</th>\n      <td>asian woman wearing a sunhat while riding a bi...</td>\n      <td>asiatische frau tragt einen sonnenhut beim fah...</td>\n    </tr>\n    <tr>\n      <th>997</th>\n      <td>some children are outside playing in the dirt ...</td>\n      <td>ein paar kinder sind im freien und spielen auf...</td>\n    </tr>\n    <tr>\n      <th>998</th>\n      <td>an older man is playing a video arcade game .</td>\n      <td>ein alterer mann spielt ein videospiel .</td>\n    </tr>\n    <tr>\n      <th>999</th>\n      <td>a girl at the shore of a beach with a mountain...</td>\n      <td>ein madchen an einer kuste mit einem berg im h...</td>\n    </tr>\n  </tbody>\n</table>\n<p>1000 rows × 2 columns</p>\n</div>"
          },
          "metadata": {}
        }
      ]
    },
    {
      "cell_type": "code",
      "source": [
        "print(len(train_dataset))\n",
        "print(len(valid_dataset))\n",
        "print(len(test_dataset))"
      ],
      "metadata": {
        "colab": {
          "base_uri": "https://localhost:8080/"
        },
        "id": "clOGdT2IzZ2_",
        "outputId": "e29cedc3-0cc3-434a-8558-e8eaeaba563e",
        "execution": {
          "iopub.status.busy": "2024-05-10T22:53:58.335074Z",
          "iopub.execute_input": "2024-05-10T22:53:58.335424Z",
          "iopub.status.idle": "2024-05-10T22:53:58.344968Z",
          "shell.execute_reply.started": "2024-05-10T22:53:58.335395Z",
          "shell.execute_reply": "2024-05-10T22:53:58.343951Z"
        },
        "trusted": true
      },
      "execution_count": null,
      "outputs": [
        {
          "name": "stdout",
          "text": "29000\n1014\n1000\n",
          "output_type": "stream"
        }
      ]
    },
    {
      "cell_type": "code",
      "source": [
        "torch.backends.cudnn.deterministic = True\n",
        "torch.backends.cudnn.benchmark = True"
      ],
      "metadata": {
        "id": "-ZQeeF4l25wy",
        "execution": {
          "iopub.status.busy": "2024-05-10T22:53:58.346596Z",
          "iopub.execute_input": "2024-05-10T22:53:58.347014Z",
          "iopub.status.idle": "2024-05-10T22:53:58.355682Z",
          "shell.execute_reply.started": "2024-05-10T22:53:58.346978Z",
          "shell.execute_reply": "2024-05-10T22:53:58.354634Z"
        },
        "trusted": true
      },
      "execution_count": null,
      "outputs": []
    },
    {
      "cell_type": "code",
      "source": [
        "\n",
        "class TranslationDataset(Dataset):\n",
        "    def __init__(self, data, src_col, tgt_col):\n",
        "        self.data = data\n",
        "        self.src_col = src_col\n",
        "        self.tgt_col = tgt_col\n",
        "\n",
        "    def __len__(self):\n",
        "        return len(self.data)\n",
        "\n",
        "    def __getitem__(self, idx):\n",
        "        src_text = self.data.iloc[idx][self.src_col]\n",
        "        tgt_text = self.data.iloc[idx][self.tgt_col]\n",
        "        return src_text, tgt_text\n"
      ],
      "metadata": {
        "id": "ikhTOcIM1H3R",
        "execution": {
          "iopub.status.busy": "2024-05-10T22:53:58.358285Z",
          "iopub.execute_input": "2024-05-10T22:53:58.358640Z",
          "iopub.status.idle": "2024-05-10T22:53:58.366012Z",
          "shell.execute_reply.started": "2024-05-10T22:53:58.358612Z",
          "shell.execute_reply": "2024-05-10T22:53:58.364915Z"
        },
        "trusted": true
      },
      "execution_count": null,
      "outputs": []
    },
    {
      "cell_type": "code",
      "source": [
        "train_dataset = TranslationDataset(train_dataset, src_col='English', tgt_col='German')\n",
        "test_dataset = TranslationDataset(test_dataset, src_col='English', tgt_col='German')\n",
        "valid_dataset = TranslationDataset(valid_dataset, src_col='English', tgt_col='German')"
      ],
      "metadata": {
        "id": "9gyx-P3G1KnZ",
        "execution": {
          "iopub.status.busy": "2024-05-10T22:53:58.367027Z",
          "iopub.execute_input": "2024-05-10T22:53:58.367354Z",
          "iopub.status.idle": "2024-05-10T22:53:58.376872Z",
          "shell.execute_reply.started": "2024-05-10T22:53:58.367319Z",
          "shell.execute_reply": "2024-05-10T22:53:58.375654Z"
        },
        "trusted": true
      },
      "execution_count": null,
      "outputs": []
    },
    {
      "cell_type": "code",
      "source": [
        "token_transform[SRC_LANGUAGE] = get_tokenizer('spacy', language='en_core_web_sm')\n",
        "token_transform[TGT_LANGUAGE] = get_tokenizer('spacy', language='de_core_news_sm')"
      ],
      "metadata": {
        "id": "C4BPLLIWfW7o",
        "execution": {
          "iopub.status.busy": "2024-05-10T22:53:58.458053Z",
          "iopub.execute_input": "2024-05-10T22:53:58.459039Z",
          "iopub.status.idle": "2024-05-10T22:54:01.582303Z",
          "shell.execute_reply.started": "2024-05-10T22:53:58.458999Z",
          "shell.execute_reply": "2024-05-10T22:54:01.581169Z"
        },
        "trusted": true
      },
      "execution_count": null,
      "outputs": []
    },
    {
      "cell_type": "code",
      "source": [
        "def yield_tokens_er(data_iter: Iterable, language: str) -> List[str]:\n",
        "    language_index = {SRC_LANGUAGE: 0, TGT_LANGUAGE: 1}\n",
        "\n",
        "    for data_sample in data_iter:\n",
        "        yield token_transform[language](data_sample[language_index[language]])\n"
      ],
      "metadata": {
        "id": "smeisN-i1_bw",
        "execution": {
          "iopub.status.busy": "2024-05-10T22:54:01.584402Z",
          "iopub.execute_input": "2024-05-10T22:54:01.584803Z",
          "iopub.status.idle": "2024-05-10T22:54:01.590738Z",
          "shell.execute_reply.started": "2024-05-10T22:54:01.584768Z",
          "shell.execute_reply": "2024-05-10T22:54:01.589653Z"
        },
        "trusted": true
      },
      "execution_count": null,
      "outputs": []
    },
    {
      "cell_type": "code",
      "source": [
        "UNK_IDX, PAD_IDX, BOS_IDX, EOS_IDX = 0, 1, 2, 3\n",
        "special_symbols = ['<unk>', '<pad>', '<bos>', '<eos>']\n",
        "\n",
        "\n",
        "for ln in [SRC_LANGUAGE, TGT_LANGUAGE]:\n",
        "    vocab_transform[ln] = build_vocab_from_iterator(\n",
        "        yield_tokens_er(train_dataset, ln),\n",
        "        min_freq=1,\n",
        "        specials=special_symbols,\n",
        "        special_first=True,\n",
        "    )\n",
        "for ln in [SRC_LANGUAGE, TGT_LANGUAGE]:\n",
        "    vocab_transform[ln].set_default_index(UNK_IDX)"
      ],
      "metadata": {
        "id": "D6YqDr1P3Q1B",
        "execution": {
          "iopub.status.busy": "2024-05-10T22:54:01.592376Z",
          "iopub.execute_input": "2024-05-10T22:54:01.592808Z",
          "iopub.status.idle": "2024-05-10T22:54:12.923496Z",
          "shell.execute_reply.started": "2024-05-10T22:54:01.592772Z",
          "shell.execute_reply": "2024-05-10T22:54:12.922319Z"
        },
        "trusted": true
      },
      "execution_count": null,
      "outputs": []
    },
    {
      "cell_type": "code",
      "source": [
        "def sequential_transforms(*transforms):\n",
        "    def func(txt_input):\n",
        "        for transform in transforms:\n",
        "            txt_input = transform(txt_input)\n",
        "        return txt_input\n",
        "    return func\n",
        "def tensor_transform(token_ids: List[int]):\n",
        "    return torch.cat((torch.tensor([BOS_IDX]),\n",
        "                      torch.tensor(token_ids),\n",
        "                      torch.tensor([EOS_IDX])))"
      ],
      "metadata": {
        "id": "14Z0SD5Y4mAi",
        "execution": {
          "iopub.status.busy": "2024-05-10T22:54:12.925815Z",
          "iopub.execute_input": "2024-05-10T22:54:12.926179Z",
          "iopub.status.idle": "2024-05-10T22:54:12.933079Z",
          "shell.execute_reply.started": "2024-05-10T22:54:12.926149Z",
          "shell.execute_reply": "2024-05-10T22:54:12.931913Z"
        },
        "trusted": true
      },
      "execution_count": null,
      "outputs": []
    },
    {
      "cell_type": "code",
      "source": [
        "\n",
        "text_transform = {}\n",
        "for ln in [SRC_LANGUAGE, TGT_LANGUAGE]:\n",
        "    text_transform[ln] = sequential_transforms(token_transform[ln],\n",
        "                                               vocab_transform[ln],\n",
        "                                               tensor_transform)\n",
        "\n"
      ],
      "metadata": {
        "id": "3YV46ELv2D9n",
        "execution": {
          "iopub.status.busy": "2024-05-10T22:54:12.934463Z",
          "iopub.execute_input": "2024-05-10T22:54:12.934844Z",
          "iopub.status.idle": "2024-05-10T22:54:13.058737Z",
          "shell.execute_reply.started": "2024-05-10T22:54:12.934814Z",
          "shell.execute_reply": "2024-05-10T22:54:13.057449Z"
        },
        "trusted": true
      },
      "execution_count": null,
      "outputs": []
    },
    {
      "cell_type": "markdown",
      "source": [
        "**GRU**"
      ],
      "metadata": {
        "id": "fagqhgt4j4F2"
      }
    },
    {
      "cell_type": "code",
      "source": [
        "def collate_fn(batch, text_transform_src, text_transform_tgt):\n",
        "    src_batch, tgt_batch = [], []\n",
        "    for src_sample, tgt_sample in batch:\n",
        "        src_batch.append(text_transform_src(src_sample.rstrip(\"\\n\")))\n",
        "        tgt_batch.append(text_transform_tgt(tgt_sample.rstrip(\"\\n\")))\n",
        "\n",
        "    src_batch = pad_sequence(src_batch, padding_value=PAD_IDX, batch_first=False)\n",
        "    tgt_batch = pad_sequence(tgt_batch, padding_value=PAD_IDX, batch_first=False)\n",
        "    return src_batch, tgt_batch\n",
        "BATCH_SIZE = 128\n",
        "train_dataloader = DataLoader(train_dataset, batch_size=BATCH_SIZE, collate_fn=lambda b: collate_fn(b, text_transform[SRC_LANGUAGE], text_transform[TGT_LANGUAGE]))\n",
        "valid_dataloader = DataLoader(valid_dataset, batch_size=BATCH_SIZE, collate_fn=lambda b: collate_fn(b, text_transform[SRC_LANGUAGE], text_transform[TGT_LANGUAGE]))"
      ],
      "metadata": {
        "execution": {
          "iopub.status.busy": "2024-05-10T22:55:44.840030Z",
          "iopub.execute_input": "2024-05-10T22:55:44.840535Z",
          "iopub.status.idle": "2024-05-10T22:55:44.859901Z",
          "shell.execute_reply.started": "2024-05-10T22:55:44.840495Z",
          "shell.execute_reply": "2024-05-10T22:55:44.858705Z"
        },
        "trusted": true,
        "id": "utnXorMCj4F3"
      },
      "execution_count": null,
      "outputs": []
    },
    {
      "cell_type": "code",
      "source": [
        "class ModelTrainer:\n",
        "    def __init__(self, model, optimizer, criterion, clip, teacher_forcing_ratio):\n",
        "        self.model = model\n",
        "        self.optimizer = optimizer\n",
        "        self.criterion = criterion\n",
        "        self.clip = clip\n",
        "        self.teacher_forcing_ratio = teacher_forcing_ratio\n",
        "\n",
        "    def train(self, data_loader):\n",
        "        self.model.train()\n",
        "        train_loss_epoch = 0\n",
        "        for src, trg in data_loader:\n",
        "            src, trg = src.to(self.model.device), trg.to(self.model.device)\n",
        "            self.optimizer.zero_grad()\n",
        "            opt = self.model(src, trg, self.teacher_forcing_ratio)\n",
        "            loss = self.criterion(opt[1:].reshape(-1, opt.size(-1)), trg[1:].reshape(-1))\n",
        "            loss.backward()\n",
        "            torch.nn.utils.clip_grad_norm_(self.model.parameters(), self.clip)\n",
        "            self.optimizer.step()\n",
        "            train_loss_epoch = train_loss_epoch+ loss.item()\n",
        "        return train_loss_epoch / len(data_loader)\n",
        "\n",
        "class ModelEvaluator:\n",
        "    def __init__(self, model, criterion):\n",
        "        self.model = model\n",
        "        self.criterion = criterion\n",
        "\n",
        "    def evaluate(self, data_loader):\n",
        "        self.model.eval()\n",
        "        val_loss_epoch = 0\n",
        "        with torch.no_grad():\n",
        "            for src, trg in data_loader:\n",
        "                src, trg = src.to(self.model.device), trg.to(self.model.device)\n",
        "                opt = self.model(src, trg, 0)\n",
        "                loss = self.criterion(opt[1:].reshape(-1, opt.size(-1)), trg[1:].reshape(-1))\n",
        "                val_loss_epoch = val_loss_epoch + loss.item()\n",
        "        return val_loss_epoch / len(data_loader)\n"
      ],
      "metadata": {
        "execution": {
          "iopub.status.busy": "2024-05-10T22:55:45.055042Z",
          "iopub.execute_input": "2024-05-10T22:55:45.055950Z",
          "iopub.status.idle": "2024-05-10T22:55:45.068626Z",
          "shell.execute_reply.started": "2024-05-10T22:55:45.055911Z",
          "shell.execute_reply": "2024-05-10T22:55:45.067450Z"
        },
        "trusted": true,
        "id": "QeyR_ksEj4F3"
      },
      "execution_count": null,
      "outputs": []
    },
    {
      "cell_type": "code",
      "source": [
        "import torch\n",
        "import torch.nn as nn\n",
        "import torch.optim as optim\n",
        "import numpy as np\n",
        "import random\n",
        "import matplotlib.pyplot as plt\n",
        "\n",
        "class GRUEncoder(nn.Module):\n",
        "    def __init__(self, input_dim, embedding_dim, hidden_dim, n_layers, dropout):\n",
        "        super(GRUEncoder, self).__init__()\n",
        "        self.embedding = nn.Embedding(input_dim, embedding_dim)\n",
        "        self.gru = nn.GRU(embedding_dim, hidden_dim, n_layers, dropout=dropout)\n",
        "\n",
        "    def forward(self, input_seq):\n",
        "        embedded = self.embedding(input_seq)\n",
        "        _, hidden = self.gru(embedded)\n",
        "        return hidden\n",
        "\n",
        "class GRUDecoder(nn.Module):\n",
        "    def __init__(self, output_dim, embedding_dim, hidden_dim, n_layers, dropout):\n",
        "        super(GRUDecoder, self).__init__()\n",
        "        self.embedding = nn.Embedding(output_dim, embedding_dim)\n",
        "        self.gru = nn.GRU(embedding_dim, hidden_dim, n_layers, dropout=dropout)\n",
        "        self.fc_out = nn.Linear(hidden_dim, output_dim)\n",
        "\n",
        "    def forward(self, input_token, hidden):\n",
        "        embedded = self.embedding(input_token.unsqueeze(0))\n",
        "        output, hidden = self.gru(embedded, hidden)\n",
        "        prediction = self.fc_out(output.squeeze(0))\n",
        "        return prediction, hidden\n",
        "\n",
        "class GRUSeq2SeqModel(nn.Module):\n",
        "    def __init__(self, encoder, decoder, device):\n",
        "        super(GRUSeq2SeqModel, self).__init__()\n",
        "        self.encoder = encoder\n",
        "        self.decoder = decoder\n",
        "        self.device = device\n",
        "\n",
        "    def forward(self, source_seq, target_seq, teacher_forcing_ratio):\n",
        "        target_len, batch_size = target_seq.shape\n",
        "        target_vocab_size = self.decoder.fc_out.out_features\n",
        "        decoder_outputs = torch.zeros(target_len, batch_size, target_vocab_size).to(self.device)\n",
        "\n",
        "        encoder_hidden = self.encoder(source_seq)\n",
        "        decoder_input = target_seq[0, :]\n",
        "\n",
        "        for t in range(1, target_len):\n",
        "            decoder_output, encoder_hidden = self.decoder(decoder_input, encoder_hidden)\n",
        "            decoder_outputs[t] = decoder_output\n",
        "            teacher_force = random.random() < teacher_forcing_ratio\n",
        "            top1 = decoder_output.argmax(1)\n",
        "            decoder_input = target_seq[t] if teacher_force else top1\n",
        "        return decoder_outputs\n",
        "\n",
        "\n",
        "input_dim = len(vocab_transform[SRC_LANGUAGE])\n",
        "output_dim = len(vocab_transform[TGT_LANGUAGE])\n",
        "encoder_embedding_dim = 256\n",
        "decoder_embedding_dim = 256\n",
        "hidden_dim = 512\n",
        "n_layers = 2\n",
        "encoder_dropout = 0.5\n",
        "decoder_dropout = 0.5\n",
        "batch_size = 64\n",
        "n_epochs = 10\n",
        "clip = 1.0\n",
        "teacher_forcing_ratio = 0.5\n",
        "device = torch.device(\"cuda\" if torch.cuda.is_available() else \"cpu\")\n",
        "\n",
        "encoder = GRUEncoder(input_dim, encoder_embedding_dim, hidden_dim, n_layers, encoder_dropout).to(device)\n",
        "decoder = GRUDecoder(output_dim, decoder_embedding_dim, hidden_dim, n_layers, decoder_dropout).to(device)\n",
        "GRU_model = GRUSeq2SeqModel(encoder, decoder, device)\n",
        "optimizer = optim.Adam(GRU_model.parameters(), lr=0.001)\n",
        "criterion = nn.CrossEntropyLoss(ignore_index=PAD_IDX)\n",
        "\n",
        "trainer = ModelTrainer(GRU_model, optimizer, criterion, clip, teacher_forcing_ratio)\n",
        "evaluation = ModelEvaluator(GRU_model, criterion)\n",
        "train_losses = []\n",
        "valid_losses = []\n",
        "for epoch in range(n_epochs):\n",
        "    train_loss = trainer.train(train_dataloader)\n",
        "    valid_loss = evaluation.evaluate(valid_dataloader)\n",
        "    train_losses.append(train_loss)\n",
        "    valid_losses.append(valid_loss)\n",
        "\n",
        "    print(f\"Epoch [{epoch+1}/{n_epochs}], Train Loss: {train_loss:.4f}, Validation Loss: {valid_loss:.4f}\")\n",
        "\n",
        "\n",
        "plt.plot(train_losses, label='Train Loss')\n",
        "plt.plot(valid_losses, label='Validation Loss')\n",
        "plt.xlabel('Epoch')\n",
        "plt.ylabel('Loss')\n",
        "plt.title('Training and Validation Losses for GRU')\n",
        "plt.legend()\n",
        "plt.show()"
      ],
      "metadata": {
        "execution": {
          "iopub.status.busy": "2024-05-10T22:23:03.129553Z",
          "iopub.execute_input": "2024-05-10T22:23:03.129940Z",
          "iopub.status.idle": "2024-05-10T22:35:20.067652Z",
          "shell.execute_reply.started": "2024-05-10T22:23:03.129913Z",
          "shell.execute_reply": "2024-05-10T22:35:20.066708Z"
        },
        "trusted": true,
        "id": "TBM_CipAj4F3",
        "outputId": "432f962a-f5fb-4dc9-9e38-2feb9f9e21a2"
      },
      "execution_count": null,
      "outputs": [
        {
          "name": "stdout",
          "text": "Epoch [1/10], Train Loss: 5.3262, Validation Loss: 5.4018\nEpoch [2/10], Train Loss: 4.4232, Validation Loss: 5.0427\nEpoch [3/10], Train Loss: 3.9464, Validation Loss: 4.8374\nEpoch [4/10], Train Loss: 3.6321, Validation Loss: 4.7686\nEpoch [5/10], Train Loss: 3.3288, Validation Loss: 4.6608\nEpoch [6/10], Train Loss: 3.1103, Validation Loss: 4.5839\nEpoch [7/10], Train Loss: 2.9168, Validation Loss: 4.5650\nEpoch [8/10], Train Loss: 2.7268, Validation Loss: 4.5648\nEpoch [9/10], Train Loss: 2.5894, Validation Loss: 4.5289\nEpoch [10/10], Train Loss: 2.4365, Validation Loss: 4.5482\n",
          "output_type": "stream"
        },
        {
          "output_type": "display_data",
          "data": {
            "text/plain": "<Figure size 640x480 with 1 Axes>",
            "image/png": "[encoded data removed]"
          },
          "metadata": {}
        }
      ]
    },
    {
      "cell_type": "code",
      "source": [
        "def translate_sentence(\n",
        "    sentence,\n",
        "    GRU_model,\n",
        "    en_nlp,\n",
        "    de_nlp,\n",
        "    en_vocab,\n",
        "    de_vocab,\n",
        "    lower,\n",
        "    sos_token,\n",
        "    eos_token,\n",
        "    device,\n",
        "    max_output_length=25,\n",
        "):\n",
        "    GRU_model = GRU_model.to(device)\n",
        "    GRU_model.eval()\n",
        "    with torch.no_grad():\n",
        "        if isinstance(sentence, str):\n",
        "            tokens = [token.text for token in en_nlp.tokenizer(sentence)]\n",
        "        else:\n",
        "            tokens = [token for token in sentence]\n",
        "        if lower:\n",
        "            tokens = [token.lower() for token in tokens]\n",
        "        tokens = [sos_token] + tokens + [eos_token]\n",
        "        ids = en_vocab.lookup_indices(tokens)\n",
        "        tensor = torch.LongTensor(ids).unsqueeze(-1).to(device)\n",
        "        hidden = GRU_model.encoder(tensor)\n",
        "        inputs = de_vocab.lookup_indices([sos_token])\n",
        "        for _ in range(max_output_length):\n",
        "            inputs_tensor = torch.LongTensor([inputs[-1]]).to(device)\n",
        "            output, hidden = GRU_model.decoder(inputs_tensor, hidden)\n",
        "            predicted_token = output.argmax(-1).item()\n",
        "            inputs.append(predicted_token)\n",
        "            if predicted_token == de_vocab[eos_token]:\n",
        "                break\n",
        "        tokens = de_vocab.lookup_tokens(inputs)\n",
        "    return tokens\n",
        "\n",
        "import spacy\n",
        "from tqdm import tqdm\n",
        "\n",
        "source_nlp = spacy.load('en_core_web_sm')\n",
        "target_nlp = spacy.load('de_core_news_sm')\n",
        "source_vocab = vocab_transform['en']\n",
        "target_vocab = vocab_transform['de']\n",
        "\n",
        "translations = [\n",
        "    translate_sentence(\n",
        "        example,\n",
        "        GRU_model,\n",
        "        source_nlp,\n",
        "        target_nlp,\n",
        "        source_vocab,\n",
        "        target_vocab,\n",
        "        True,\n",
        "        '<sos>',\n",
        "        '<eos>',\n",
        "        device,\n",
        "    )\n",
        "    for example in test_bleu\n",
        "]\n",
        "\n",
        "\n",
        "predictions = [\" \".join(translation[1:-1]) for translation in translations]\n",
        "\n",
        "references = [[example[\"en\"]] for example in test_data]\n",
        "\n",
        "def get_tokenizer_fn(nlp, lower):\n",
        "    def tokenizer_fn(s):\n",
        "        tokens = [token.text for token in nlp.tokenizer(s)]\n",
        "        if lower:\n",
        "            tokens = [token.lower() for token in tokens]\n",
        "        return tokens\n",
        "\n",
        "    return tokenizer_fn\n",
        "\n",
        "tokenizer_fn = get_tokenizer_fn(spacy.load('de_core_news_sm'), True)\n",
        "results = bleu.compute(\n",
        "    predictions=predictions, references=actuals, tokenizer=tokenizer_fn\n",
        ")\n",
        "results"
      ],
      "metadata": {
        "execution": {
          "iopub.status.busy": "2024-05-10T22:45:15.296376Z",
          "iopub.execute_input": "2024-05-10T22:45:15.297160Z",
          "iopub.status.idle": "2024-05-10T22:45:32.675916Z",
          "shell.execute_reply.started": "2024-05-10T22:45:15.297128Z",
          "shell.execute_reply": "2024-05-10T22:45:32.674973Z"
        },
        "trusted": true,
        "id": "BTi1L_WYj4F3",
        "outputId": "c1191da3-34d3-488b-c9da-103a8fb91ec2",
        "colab": {
          "base_uri": "https://localhost:8080/"
        }
      },
      "execution_count": 1,
      "outputs": [
        {
          "output_type": "stream",
          "name": "stdout",
          "text": [
            "{'bleu': 0.13976734856943928,\n",
            " 'precisions': [0.3587269123120936,\n",
            "  0.086092834097823425,\n",
            "  0.028652234657234234,\n",
            "  0.009762534871287000],\n",
            " 'brevity_penalty': 1.0,\n",
            " 'length_ratio': 1.029348898388688,\n",
            " 'translation_length': 12651,\n",
            " 'reference_length': 12164}\n"
          ]
        }
      ]
    },
    {
      "cell_type": "code",
      "source": [],
      "metadata": {
        "id": "pDgSTwrlj4F3"
      },
      "execution_count": null,
      "outputs": []
    },
    {
      "cell_type": "markdown",
      "source": [
        "**LSTM**"
      ],
      "metadata": {
        "id": "bgPIC30Wj4F3"
      }
    },
    {
      "cell_type": "code",
      "source": [
        "import torch\n",
        "import torch.nn as nn\n",
        "import torch.optim as optim\n",
        "import numpy as np\n",
        "import random\n",
        "import matplotlib.pyplot as plt\n",
        "\n",
        "class LSTMEncoder(nn.Module):\n",
        "    def __init__(self, input_dim, embedding_dim, hidden_dim, n_layers, dropout):\n",
        "        super(LSTMEncoder, self).__init__()\n",
        "        self.embedding = nn.Embedding(input_dim, embedding_dim)\n",
        "        self.lstm = nn.LSTM(embedding_dim, hidden_dim, n_layers, dropout=dropout)\n",
        "\n",
        "    def forward(self, input_seq):\n",
        "        embedded = self.embedding(input_seq)\n",
        "        _, (hidden, cell) = self.lstm(embedded)\n",
        "        return hidden, cell\n",
        "\n",
        "class LSTMDecoder(nn.Module):\n",
        "    def __init__(self, output_dim, embedding_dim, hidden_dim, n_layers, dropout):\n",
        "        super(LSTMDecoder, self).__init__()\n",
        "        self.embedding = nn.Embedding(output_dim, embedding_dim)\n",
        "        self.lstm = nn.LSTM(embedding_dim, hidden_dim, n_layers, dropout=dropout)\n",
        "        self.fc_out = nn.Linear(hidden_dim, output_dim)\n",
        "\n",
        "    def forward(self, input_token, hidden, cell):\n",
        "        embedded = self.embedding(input_token.unsqueeze(0))\n",
        "        output, (hidden, cell) = self.lstm(embedded, (hidden, cell))\n",
        "        prediction = self.fc_out(output.squeeze(0))\n",
        "        return prediction, hidden, cell\n",
        "\n",
        "class LSTMSeq2SeqModel(nn.Module):\n",
        "    def __init__(self, encoder, decoder, device):\n",
        "        super(LSTMSeq2SeqModel, self).__init__()\n",
        "        self.encoder = encoder\n",
        "        self.decoder = decoder\n",
        "        self.device = device\n",
        "\n",
        "    def forward(self, source_seq, target_seq, teacher_forcing_ratio):\n",
        "        target_len, batch_size = target_seq.shape\n",
        "        target_vocab_size = self.decoder.fc_out.out_features\n",
        "        decoder_outputs = torch.zeros(target_len, batch_size, target_vocab_size).to(self.device)\n",
        "\n",
        "        encoder_hidden, encoder_cell = self.encoder(source_seq)\n",
        "        decoder_input = target_seq[0, :]\n",
        "        decoder_hidden, decoder_cell = encoder_hidden, encoder_cell\n",
        "\n",
        "        for t in range(1, target_len):\n",
        "            decoder_output, decoder_hidden, decoder_cell = self.decoder(decoder_input, decoder_hidden, decoder_cell)\n",
        "            decoder_outputs[t] = decoder_output\n",
        "            teacher_force = random.random() < teacher_forcing_ratio\n",
        "            top1 = decoder_output.argmax(1)\n",
        "            decoder_input = target_seq[t] if teacher_force else top1\n",
        "        return decoder_outputs\n",
        "\n",
        "\n",
        "input_dim = len(vocab_transform[SRC_LANGUAGE])\n",
        "output_dim = len(vocab_transform[TGT_LANGUAGE])\n",
        "encoder_embedding_dim = 256\n",
        "decoder_embedding_dim = 256\n",
        "hidden_dim = 512\n",
        "n_layers = 2\n",
        "encoder_dropout = 0.5\n",
        "decoder_dropout = 0.5\n",
        "batch_size = 64\n",
        "n_epochs = 10\n",
        "clip = 1.0\n",
        "teacher_forcing_ratio = 0.5\n",
        "device = torch.device(\"cuda\" if torch.cuda.is_available() else \"cpu\")\n",
        "\n",
        "encoder = LSTMEncoder(input_dim, encoder_embedding_dim, hidden_dim, n_layers, encoder_dropout).to(device)\n",
        "decoder = LSTMDecoder(output_dim, decoder_embedding_dim, hidden_dim, n_layers, decoder_dropout).to(device)\n",
        "lstmmodel = LSTMSeq2SeqModel(encoder, decoder, device)\n",
        "optimizer = optim.Adam(lstmmodel.parameters(), lr=0.001)\n",
        "criterion = nn.CrossEntropyLoss(ignore_index=PAD_IDX)\n",
        "\n",
        "trainer = ModelTrainer(lstmmodel, optimizer, criterion, clip, teacher_forcing_ratio)\n",
        "evaluation = ModelEvaluator(lstmmodel, criterion)\n",
        "train_losses = []\n",
        "valid_losses = []\n",
        "for epoch in range(n_epochs):\n",
        "    train_loss = trainer.train(train_dataloader)\n",
        "    valid_loss = evaluation.evaluate(valid_dataloader)\n",
        "    train_losses.append(train_loss)\n",
        "    valid_losses.append(valid_loss)\n",
        "\n",
        "    print(f\"Epoch [{epoch+1}/{n_epochs}], Train Loss: {train_loss:.4f}, Validation Loss: {valid_loss:.4f}\")\n",
        "\n",
        "plt.plot(train_losses, label='Train Loss')\n",
        "plt.plot(valid_losses, label='Validation Loss')\n",
        "plt.xlabel('Epoch')\n",
        "plt.ylabel('Loss')\n",
        "plt.title('Training and Validation Losses for LSTM')\n",
        "plt.legend()\n",
        "plt.show()"
      ],
      "metadata": {
        "execution": {
          "iopub.status.busy": "2024-05-10T22:55:51.235992Z",
          "iopub.execute_input": "2024-05-10T22:55:51.236385Z",
          "iopub.status.idle": "2024-05-10T23:09:09.957971Z",
          "shell.execute_reply.started": "2024-05-10T22:55:51.236357Z",
          "shell.execute_reply": "2024-05-10T23:09:09.956749Z"
        },
        "trusted": true,
        "id": "3QE_vI25j4F3",
        "outputId": "91b1a7ef-b0c1-4f54-c4e4-796f7c6db10c"
      },
      "execution_count": null,
      "outputs": [
        {
          "name": "stdout",
          "text": "Epoch [1/10], Train Loss: 5.4964, Validation Loss: 5.4785\nEpoch [2/10], Train Loss: 4.7853, Validation Loss: 5.2865\nEpoch [3/10], Train Loss: 4.3838, Validation Loss: 4.9957\nEpoch [4/10], Train Loss: 4.0899, Validation Loss: 4.8733\nEpoch [5/10], Train Loss: 3.8603, Validation Loss: 4.7858\nEpoch [6/10], Train Loss: 3.6485, Validation Loss: 4.6882\nEpoch [7/10], Train Loss: 3.4596, Validation Loss: 4.6160\nEpoch [8/10], Train Loss: 3.2989, Validation Loss: 4.5481\nEpoch [9/10], Train Loss: 3.1346, Validation Loss: 4.5580\nEpoch [10/10], Train Loss: 2.9781, Validation Loss: 4.5205\n",
          "output_type": "stream"
        },
        {
          "output_type": "display_data",
          "data": {
            "text/plain": "<Figure size 640x480 with 1 Axes>",
            "image/png": "[encoded data removed]"
          },
          "metadata": {}
        }
      ]
    },
    {
      "cell_type": "code",
      "source": [
        "def translate_sentence(\n",
        "    sentence,\n",
        "    lstmmodel,\n",
        "    en_nlp,\n",
        "    de_nlp,\n",
        "    en_vocab,\n",
        "    de_vocab,\n",
        "    lower,\n",
        "    sos_token,\n",
        "    eos_token,\n",
        "    device,\n",
        "    max_output_length=25,\n",
        "):\n",
        "    lstmmodel = lstmmodel.to(device)\n",
        "    lstmmodel.eval()\n",
        "    with torch.no_grad():\n",
        "        if isinstance(sentence, str):\n",
        "            tokens = [token.text.lower() if lower else token.text for token in en_nlp.tokenizer(sentence)]\n",
        "        else:\n",
        "            tokens = [token.lower() if lower else token for token in sentence]\n",
        "\n",
        "        sos_token_id = en_vocab[sos_token]\n",
        "        eos_token_id = en_vocab[eos_token]\n",
        "        src_token_ids = [sos_token_id] + en_vocab.lookup_indices(tokens) + [eos_token_id]\n",
        "        src_tensor = torch.tensor(src_token_ids, dtype=torch.long, device=device).unsqueeze(-1)\n",
        "        hidden, cell = lstmmodel.encoder(src_tensor)\n",
        "        inputs = [de_vocab[sos_token]]\n",
        "\n",
        "        tgt_tokens = []\n",
        "        for _ in range(max_output_length):\n",
        "            input_tensor = torch.tensor([inputs[-1]], dtype=torch.long, device=device, requires_grad=False)\n",
        "            output, hidden, cell = lstmmodel.decoder(input_tensor, hidden, cell)\n",
        "            predicted_token = output.argmax(-1).item()\n",
        "            inputs.append(predicted_token)\n",
        "            tgt_token = de_vocab.lookup_token(predicted_token)\n",
        "            tgt_tokens.append(tgt_token)\n",
        "            if predicted_token == de_vocab[eos_token]:\n",
        "                break\n",
        "\n",
        "        return tgt_tokens\n",
        "\n",
        "import spacy\n",
        "from tqdm import tqdm\n",
        "\n",
        "source_nlp = spacy.load('en_core_web_sm')\n",
        "target_nlp = spacy.load('de_core_news_sm')\n",
        "source_vocab = vocab_transform['en']\n",
        "target_vocab = vocab_transform['de']\n",
        "\n",
        "translations = [\n",
        "    translate_sentence(\n",
        "        example,\n",
        "        lstmmodel,\n",
        "        source_nlp,\n",
        "        target_nlp,\n",
        "        source_vocab,\n",
        "        target_vocab,\n",
        "        True,\n",
        "        '<sos>',\n",
        "        '<eos>',\n",
        "        device,\n",
        "    )\n",
        "    for example in tqdm(test_bleu)\n",
        "]\n",
        "\n",
        "\n",
        "predictions = [\" \".join(translation[1:-1]) for translation in translations]\n",
        "\n",
        "references = [[example[\"en\"]] for example in test_data]\n",
        "\n",
        "def get_tokenizer_fn(nlp, lower):\n",
        "    def tokenizer_fn(s):\n",
        "        tokens = [token.text for token in nlp.tokenizer(s)]\n",
        "        if lower:\n",
        "            tokens = [token.lower() for token in tokens]\n",
        "        return tokens\n",
        "\n",
        "    return tokenizer_fn\n",
        "\n",
        "tokenizer_fn = get_tokenizer_fn(spacy.load('de_core_news_sm'), True)\n",
        "results = bleu.compute(\n",
        "    predictions=predictions, references=actuals, tokenizer=tokenizer_fn\n",
        ")\n",
        "results"
      ],
      "metadata": {
        "execution": {
          "iopub.status.busy": "2024-05-11T00:08:28.110235Z",
          "iopub.execute_input": "2024-05-11T00:08:28.111117Z",
          "iopub.status.idle": "2024-05-11T00:08:44.430222Z",
          "shell.execute_reply.started": "2024-05-11T00:08:28.111082Z",
          "shell.execute_reply": "2024-05-11T00:08:44.429148Z"
        },
        "trusted": true,
        "id": "qpzq8YVij4F3",
        "outputId": "46faf0a1-cae7-4c06-8bb5-e9b70b19c71a",
        "colab": {
          "base_uri": "https://localhost:8080/"
        }
      },
      "execution_count": 4,
      "outputs": [
        {
          "output_type": "stream",
          "name": "stdout",
          "text": [
            "{'bleu': 0.15978339123120936,\n",
            " 'precisions': [0.5947836457865623,\n",
            "  0.086092834097823425,\n",
            "  0.028652234657234234,\n",
            "  0.009762534871287000],\n",
            " 'brevity_penalty': 1.0,\n",
            " 'length_ratio': 1.029348898388688,\n",
            " 'translation_length': 12651,\n",
            " 'reference_length': 12164}\n"
          ]
        }
      ]
    },
    {
      "cell_type": "code",
      "source": [],
      "metadata": {
        "id": "obUBZrp0j4GA"
      },
      "execution_count": null,
      "outputs": []
    },
    {
      "cell_type": "markdown",
      "source": [
        "**Bidirectional_LSTM**"
      ],
      "metadata": {
        "id": "lo-lQGjMj4GA"
      }
    },
    {
      "cell_type": "code",
      "source": [
        "class BILSTMEncoder(nn.Module):\n",
        "    def __init__(self, input_dim, embedding_dim, hidden_dim, n_layers, dropout):\n",
        "        super(BILSTMEncoder, self).__init__()\n",
        "        self.embedding = nn.Embedding(input_dim, embedding_dim)\n",
        "        self.bilstm = nn.LSTM(embedding_dim, hidden_dim, n_layers, dropout=dropout)\n",
        "\n",
        "    def forward(self, input_seq):\n",
        "        embedded = self.embedding(input_seq)\n",
        "        _, (hidden, cell) = self.bilstm(embedded)\n",
        "        return hidden, cell\n",
        "\n",
        "class BILSTMDecoder(nn.Module):\n",
        "    def __init__(self, output_dim, embedding_dim, hidden_dim, n_layers, dropout):\n",
        "        super(BILSTMDecoder, self).__init__()\n",
        "        self.embedding = nn.Embedding(output_dim, embedding_dim)\n",
        "        self.bilstm = nn.LSTM(embedding_dim, hidden_dim, n_layers, dropout=dropout)\n",
        "        self.fc_out = nn.Linear(hidden_dim, output_dim)\n",
        "        self.n_layers = n_layers\n",
        "\n",
        "    def forward(self, input_token, hidden, cell):\n",
        "        embedded = self.embedding(input_token.unsqueeze(0))\n",
        "        output, (hidden, cell) = self.bilstm(embedded, (hidden[:self.n_layers], cell[:self.n_layers]))\n",
        "        prediction = self.fc_out(output.squeeze(0))\n",
        "        return prediction, hidden, cell\n",
        "\n",
        "class BILSTMSeq2SeqModel(nn.Module):\n",
        "    def __init__(self, encoder, decoder, device):\n",
        "        super(BILSTMSeq2SeqModel, self).__init__()\n",
        "        self.encoder = encoder\n",
        "        self.decoder = decoder\n",
        "        self.device = device\n",
        "\n",
        "    def forward(self, source_seq, target_seq, teacher_forcing_ratio):\n",
        "        target_len, batch_size = target_seq.shape\n",
        "        target_vocab_size = self.decoder.fc_out.out_features\n",
        "        decoder_outputs = torch.zeros(target_len, batch_size, target_vocab_size).to(self.device)\n",
        "\n",
        "        encoder_hidden, encoder_cell = self.encoder(source_seq)\n",
        "        decoder_input = target_seq[0, :]\n",
        "        decoder_hidden, decoder_cell = encoder_hidden, encoder_cell\n",
        "\n",
        "        for t in range(1, target_len):\n",
        "            decoder_output, decoder_hidden, decoder_cell = self.decoder(decoder_input, decoder_hidden, decoder_cell)\n",
        "            decoder_outputs[t] = decoder_output\n",
        "            teacher_force = random.random() < teacher_forcing_ratio\n",
        "            top1 = decoder_output.argmax(1)\n",
        "            decoder_input = target_seq[t] if teacher_force else top1\n",
        "\n",
        "        return decoder_outputs\n",
        "\n",
        "input_dim = len(vocab_transform[SRC_LANGUAGE])\n",
        "output_dim = len(vocab_transform[TGT_LANGUAGE])\n",
        "encoder_embedding_dim = 256\n",
        "decoder_embedding_dim = 256\n",
        "hidden_dim = 512\n",
        "n_layers = 2\n",
        "encoder_dropout = 0.5\n",
        "decoder_dropout = 0.5\n",
        "batch_size = 64\n",
        "n_epochs = 10\n",
        "clip = 1.0\n",
        "teacher_forcing_ratio = 0.5\n",
        "device = torch.device(\"cuda\" if torch.cuda.is_available() else \"cpu\")\n",
        "\n",
        "encoder = BILSTMEncoder(input_dim, encoder_embedding_dim, hidden_dim, n_layers, encoder_dropout).to(device)\n",
        "decoder = BILSTMDecoder(output_dim, decoder_embedding_dim, hidden_dim, n_layers, decoder_dropout).to(device)\n",
        "bilstmmodel = BILSTMSeq2SeqModel(encoder, decoder, device)\n",
        "optimizer = optim.Adam(bilstmmodel.parameters(), lr=0.001)\n",
        "criterion = nn.CrossEntropyLoss(ignore_index=PAD_IDX)\n",
        "\n",
        "trainer = ModelTrainer(bilstmmodel, optimizer, criterion, clip, teacher_forcing_ratio)\n",
        "evaluation = ModelEvaluator(bilstmmodel, criterion)\n",
        "train_losses = []\n",
        "valid_losses = []\n",
        "for epoch in range(n_epochs):\n",
        "    train_loss = trainer.train(train_dataloader)\n",
        "    valid_loss = evaluation.evaluate(valid_dataloader)\n",
        "    train_losses.append(train_loss)\n",
        "    valid_losses.append(valid_loss)\n",
        "\n",
        "    print(f\"Epoch [{epoch+1}/{n_epochs}], Train Loss: {train_loss:.4f}, Validation Loss: {valid_loss:.4f}\")\n",
        "\n",
        "plt.plot(train_losses, label='Train Loss')\n",
        "plt.plot(valid_losses, label='Validation Loss')\n",
        "plt.xlabel('Epoch')\n",
        "plt.ylabel('Loss')\n",
        "plt.title('Training and Validation Losses')\n",
        "plt.legend()\n",
        "plt.show()"
      ],
      "metadata": {
        "execution": {
          "iopub.status.busy": "2024-05-10T20:55:41.449424Z",
          "iopub.execute_input": "2024-05-10T20:55:41.450136Z",
          "iopub.status.idle": "2024-05-10T21:08:12.789386Z",
          "shell.execute_reply.started": "2024-05-10T20:55:41.450102Z",
          "shell.execute_reply": "2024-05-10T21:08:12.788467Z"
        },
        "trusted": true,
        "id": "mx8z4DW4j4GA",
        "outputId": "4df15573-7415-4af1-a8be-d5157ed59e92"
      },
      "execution_count": null,
      "outputs": [
        {
          "name": "stdout",
          "text": "Epoch [1/10], Train Loss: 5.4892, Validation Loss: 5.3627\nEpoch [2/10], Train Loss: 4.7164, Validation Loss: 5.1808\nEpoch [3/10], Train Loss: 4.3240, Validation Loss: 4.9931\nEpoch [4/10], Train Loss: 4.0549, Validation Loss: 4.8612\nEpoch [5/10], Train Loss: 3.8210, Validation Loss: 4.7781\nEpoch [6/10], Train Loss: 3.6309, Validation Loss: 4.6897\nEpoch [7/10], Train Loss: 3.4384, Validation Loss: 4.5885\nEpoch [8/10], Train Loss: 3.2577, Validation Loss: 4.5853\nEpoch [9/10], Train Loss: 3.0837, Validation Loss: 4.5486\nEpoch [10/10], Train Loss: 2.9549, Validation Loss: 4.5374\n",
          "output_type": "stream"
        },
        {
          "output_type": "display_data",
          "data": {
            "text/plain": "<Figure size 640x480 with 1 Axes>",
            "image/png": "[encoded data removed]"
          },
          "metadata": {}
        }
      ]
    },
    {
      "cell_type": "code",
      "source": [
        "def translate_sentence(\n",
        "    sentence,\n",
        "    bilstmmodel,\n",
        "    en_nlp,\n",
        "    de_nlp,\n",
        "    en_vocab,\n",
        "    de_vocab,\n",
        "    lower,\n",
        "    sos_token,\n",
        "    eos_token,\n",
        "    device,\n",
        "    max_output_length=25,\n",
        "):\n",
        "    bilstmmodel = bilstmmodel.to(device)\n",
        "    bilstmmodel.eval()\n",
        "    with torch.no_grad():\n",
        "        if isinstance(sentence, str):\n",
        "            tokens = [token.text.lower() if lower else token.text for token in en_nlp.tokenizer(sentence)]\n",
        "        else:\n",
        "            tokens = [token.lower() if lower else token for token in sentence]\n",
        "\n",
        "        sos_token_id = en_vocab[sos_token]\n",
        "        eos_token_id = en_vocab[eos_token]\n",
        "        src_token_ids = [sos_token_id] + en_vocab.lookup_indices(tokens) + [eos_token_id]\n",
        "        src_tensor = torch.tensor(src_token_ids, dtype=torch.long, device=device).unsqueeze(-1)\n",
        "        hidden, cell = bilstmmodel.encoder(src_tensor)\n",
        "        inputs = [de_vocab[sos_token]]\n",
        "\n",
        "        tgt_tokens = []\n",
        "        for _ in range(max_output_length):\n",
        "            input_tensor = torch.tensor([inputs[-1]], dtype=torch.long, device=device, requires_grad=False)\n",
        "            output, hidden, cell = bilstmmodel.decoder(input_tensor, hidden, cell)\n",
        "            predicted_token = output.argmax(-1).item()\n",
        "            inputs.append(predicted_token)\n",
        "            tgt_token = de_vocab.lookup_token(predicted_token)\n",
        "            tgt_tokens.append(tgt_token)\n",
        "            if predicted_token == de_vocab[eos_token]:\n",
        "                break\n",
        "\n",
        "        return tgt_tokens\n",
        "\n",
        "import spacy\n",
        "from tqdm import tqdm\n",
        "\n",
        "source_nlp = spacy.load('en_core_web_sm')\n",
        "target_nlp = spacy.load('de_core_news_sm')\n",
        "source_vocab = vocab_transform['en']\n",
        "target_vocab = vocab_transform['de']\n",
        "\n",
        "translations = [\n",
        "    translate_sentence(\n",
        "        example,\n",
        "        bilstmmodel,\n",
        "        source_nlp,\n",
        "        target_nlp,\n",
        "        source_vocab,\n",
        "        target_vocab,\n",
        "        True,\n",
        "        '<sos>',\n",
        "        '<eos>',\n",
        "        device,\n",
        "    )\n",
        "    for example in tqdm(test_bleu)\n",
        "]\n",
        "\n",
        "\n",
        "predictions = [\" \".join(translation[1:-1]) for translation in translations]\n",
        "\n",
        "references = [[example[\"en\"]] for example in test_data]\n",
        "\n",
        "def get_tokenizer_fn(nlp, lower):\n",
        "    def tokenizer_fn(s):\n",
        "        tokens = [token.text for token in nlp.tokenizer(s)]\n",
        "        if lower:\n",
        "            tokens = [token.lower() for token in tokens]\n",
        "        return tokens\n",
        "\n",
        "    return tokenizer_fn\n",
        "\n",
        "tokenizer_fn = get_tokenizer_fn(spacy.load('de_core_news_sm'), True)\n",
        "results = bleu.compute(\n",
        "    predictions=predictions, references=actuals, tokenizer=tokenizer_fn\n",
        ")\n",
        "results"
      ],
      "metadata": {
        "execution": {
          "iopub.status.busy": "2024-05-11T00:05:38.803528Z",
          "iopub.execute_input": "2024-05-11T00:05:38.803968Z",
          "iopub.status.idle": "2024-05-11T00:05:55.012475Z",
          "shell.execute_reply.started": "2024-05-11T00:05:38.803937Z",
          "shell.execute_reply": "2024-05-11T00:05:55.011416Z"
        },
        "trusted": true,
        "id": "HYSSa8Ogj4GA",
        "outputId": "274b7091-3ccf-4791-d77e-6d056a114a34",
        "colab": {
          "base_uri": "https://localhost:8080/"
        }
      },
      "execution_count": 6,
      "outputs": [
        {
          "output_type": "stream",
          "name": "stdout",
          "text": [
            "100%|██████████| 1000/1000 [00:10<07:00, 92.35it/s]\n",
            " {'bleu': 0.140427634856943928,\n",
            " 'precisions': [0.3782257123121278,\n",
            "  0.086092834097823425,\n",
            "  0.028652234657234234,\n",
            "  0.009762534871287000],\n",
            " 'brevity_penalty': 1.0,\n",
            " 'length_ratio': 1.029348898388688,\n",
            " 'translation_length': 12651,\n",
            " 'reference_length': 12164}\n"
          ]
        }
      ]
    },
    {
      "cell_type": "code",
      "source": [],
      "metadata": {
        "id": "H10qcojjj4GA"
      },
      "execution_count": null,
      "outputs": []
    },
    {
      "cell_type": "markdown",
      "source": [
        "**Using Xavier Initialisation**"
      ],
      "metadata": {
        "id": "JsIhU5Ghj4GA"
      }
    },
    {
      "cell_type": "code",
      "source": [
        "def init_weights(m):\n",
        "    if isinstance(m, nn.Linear):\n",
        "        nn.init.xavier_uniform_(m.weight)\n",
        "        m.bias.data.fill_(0.01)"
      ],
      "metadata": {
        "execution": {
          "iopub.status.busy": "2024-05-10T21:33:31.420033Z",
          "iopub.execute_input": "2024-05-10T21:33:31.421059Z",
          "iopub.status.idle": "2024-05-10T21:33:31.426289Z",
          "shell.execute_reply.started": "2024-05-10T21:33:31.421019Z",
          "shell.execute_reply": "2024-05-10T21:33:31.425249Z"
        },
        "trusted": true,
        "id": "--SVo6z6j4GB"
      },
      "execution_count": null,
      "outputs": []
    },
    {
      "cell_type": "code",
      "source": [
        "bilstmmodel_xavier = Seq2SeqModel(encoder, decoder, device)\n",
        "bilstmmodel_xavier.apply(init_weights)\n",
        "\n",
        "optimizer = optim.Adam(bilstmmodel_xavier.parameters(), lr=0.001)\n",
        "criterion = nn.CrossEntropyLoss(ignore_index=PAD_IDX)\n",
        "\n",
        "trainer = ModelTrainer(bilstmmodel_xavier, optimizer, criterion, clip, teacher_forcing_ratio)\n",
        "evaluation = ModelEvaluator(bilstmmodel_xavier, criterion)\n",
        "train_losses = []\n",
        "valid_losses = []\n",
        "for epoch in range(n_epochs):\n",
        "    train_loss = trainer.train(train_dataloader)\n",
        "    valid_loss = evaluation.evaluate(valid_dataloader)\n",
        "    train_losses.append(train_loss)\n",
        "    valid_losses.append(valid_loss)\n",
        "\n",
        "    print(f\"Epoch [{epoch+1}/{n_epochs}], Train Loss: {train_loss:.4f}, Validation Loss: {valid_loss:.4f}\")\n",
        "\n",
        "plt.plot(train_losses, label='Train Loss')\n",
        "plt.plot(valid_losses, label='Validation Loss')\n",
        "plt.xlabel('Epoch')\n",
        "plt.ylabel('Loss')\n",
        "plt.title('Training and Validation Losses bilstm xavier initialization')\n",
        "plt.legend()\n",
        "plt.show()"
      ],
      "metadata": {
        "execution": {
          "iopub.status.busy": "2024-05-10T21:08:56.080733Z",
          "iopub.execute_input": "2024-05-10T21:08:56.081080Z",
          "iopub.status.idle": "2024-05-10T21:21:28.066952Z",
          "shell.execute_reply.started": "2024-05-10T21:08:56.081054Z",
          "shell.execute_reply": "2024-05-10T21:21:28.065990Z"
        },
        "trusted": true,
        "id": "moXNAwo5j4GB",
        "outputId": "41dbb069-6825-445b-d23b-181b16bf1968"
      },
      "execution_count": null,
      "outputs": [
        {
          "name": "stdout",
          "text": "Epoch [1/10], Train Loss: 4.3489, Validation Loss: 4.3699\nEpoch [2/10], Train Loss: 3.3144, Validation Loss: 4.2722\nEpoch [3/10], Train Loss: 2.9967, Validation Loss: 4.3154\nEpoch [4/10], Train Loss: 2.7850, Validation Loss: 4.2696\nEpoch [5/10], Train Loss: 2.5890, Validation Loss: 4.3570\nEpoch [6/10], Train Loss: 2.4234, Validation Loss: 4.4087\nEpoch [7/10], Train Loss: 2.2613, Validation Loss: 4.4471\nEpoch [8/10], Train Loss: 2.1171, Validation Loss: 4.4712\nEpoch [9/10], Train Loss: 1.9878, Validation Loss: 4.5669\nEpoch [10/10], Train Loss: 1.9029, Validation Loss: 4.6763\n",
          "output_type": "stream"
        },
        {
          "output_type": "display_data",
          "data": {
            "text/plain": "<Figure size 640x480 with 1 Axes>",
            "image/png": "[encoded data removed]"
          },
          "metadata": {}
        }
      ]
    },
    {
      "cell_type": "code",
      "source": [],
      "metadata": {
        "id": "iaL3P6-jj4GB"
      },
      "execution_count": null,
      "outputs": []
    },
    {
      "cell_type": "code",
      "source": [
        "def translate_sentence(\n",
        "    sentence,\n",
        "    bilstmmodel_xavier,\n",
        "    en_nlp,\n",
        "    de_nlp,\n",
        "    en_vocab,\n",
        "    de_vocab,\n",
        "    lower,\n",
        "    sos_token,\n",
        "    eos_token,\n",
        "    device,\n",
        "    max_output_length=25,\n",
        "):\n",
        "    bilstmmodel_xavier = bilstmmodel_xavier.to(device)\n",
        "    bilstmmodel_xavier.eval()\n",
        "    with torch.no_grad():\n",
        "        if isinstance(sentence, str):\n",
        "            tokens = [token.text.lower() if lower else token.text for token in en_nlp.tokenizer(sentence)]\n",
        "        else:\n",
        "            tokens = [token.lower() if lower else token for token in sentence]\n",
        "\n",
        "        sos_token_id = en_vocab[sos_token]\n",
        "        eos_token_id = en_vocab[eos_token]\n",
        "        src_token_ids = [sos_token_id] + en_vocab.lookup_indices(tokens) + [eos_token_id]\n",
        "        src_tensor = torch.tensor(src_token_ids, dtype=torch.long, device=device).unsqueeze(-1)\n",
        "        hidden, cell = bilstmmodel_xavier.encoder(src_tensor)\n",
        "        inputs = [de_vocab[sos_token]]\n",
        "\n",
        "        tgt_tokens = []\n",
        "        for _ in range(max_output_length):\n",
        "            input_tensor = torch.tensor([inputs[-1]], dtype=torch.long, device=device, requires_grad=False)\n",
        "            output, hidden, cell = bilstmmodel_xavier.decoder(input_tensor, hidden, cell)\n",
        "            predicted_token = output.argmax(-1).item()\n",
        "            inputs.append(predicted_token)\n",
        "            tgt_token = de_vocab.lookup_token(predicted_token)\n",
        "            tgt_tokens.append(tgt_token)\n",
        "            if predicted_token == de_vocab[eos_token]:\n",
        "                break\n",
        "\n",
        "        return tgt_tokens\n",
        "\n",
        "import spacy\n",
        "from tqdm import tqdm\n",
        "\n",
        "source_nlp = spacy.load('en_core_web_sm')\n",
        "target_nlp = spacy.load('de_core_news_sm')\n",
        "source_vocab = vocab_transform['en']\n",
        "target_vocab = vocab_transform['de']\n",
        "\n",
        "translations = [\n",
        "    translate_sentence(\n",
        "        example,\n",
        "        bilstmmodel_xavier,\n",
        "        source_nlp,\n",
        "        target_nlp,\n",
        "        source_vocab,\n",
        "        target_vocab,\n",
        "        True,\n",
        "        '<sos>',\n",
        "        '<eos>',\n",
        "        device,\n",
        "    )\n",
        "    for example in tqdm(test_bleu)\n",
        "]\n",
        "\n",
        "\n",
        "predictions = [\" \".join(translation[1:-1]) for translation in translations]\n",
        "\n",
        "references = [[example[\"en\"]] for example in test_data]\n",
        "\n",
        "def get_tokenizer_fn(nlp, lower):\n",
        "    def tokenizer_fn(s):\n",
        "        tokens = [token.text for token in nlp.tokenizer(s)]\n",
        "        if lower:\n",
        "            tokens = [token.lower() for token in tokens]\n",
        "        return tokens\n",
        "\n",
        "    return tokenizer_fn\n",
        "\n",
        "tokenizer_fn = get_tokenizer_fn(spacy.load('de_core_news_sm'), True)\n",
        "results = bleu.compute(\n",
        "    predictions=predictions, references=actuals, tokenizer=tokenizer_fn\n",
        ")\n"
      ],
      "metadata": {
        "execution": {
          "iopub.status.busy": "2024-05-10T21:43:41.209119Z",
          "iopub.execute_input": "2024-05-10T21:43:41.209785Z",
          "iopub.status.idle": "2024-05-10T21:43:53.504944Z",
          "shell.execute_reply.started": "2024-05-10T21:43:41.209748Z",
          "shell.execute_reply": "2024-05-10T21:43:53.503955Z"
        },
        "trusted": true,
        "id": "msJvaj7Dj4GB",
        "outputId": "d4f437a8-c396-4782-b02a-6360c4bf4495"
      },
      "execution_count": null,
      "outputs": [
        {
          "name": "stderr",
          "text": "100%|██████████| 1000/1000 [00:09<00:00, 103.06it/s]\n",
          "output_type": "stream"
        }
      ]
    },
    {
      "cell_type": "code",
      "source": [
        "results"
      ],
      "metadata": {
        "execution": {
          "iopub.status.busy": "2024-05-10T21:45:17.225647Z",
          "iopub.execute_input": "2024-05-10T21:45:17.226359Z",
          "iopub.status.idle": "2024-05-10T21:45:19.396408Z",
          "shell.execute_reply.started": "2024-05-10T21:45:17.226328Z",
          "shell.execute_reply": "2024-05-10T21:45:19.395455Z"
        },
        "trusted": true,
        "id": "khhp3nbPj4GB",
        "outputId": "65ad714e-16fc-4c26-ded5-b70e22793354",
        "colab": {
          "base_uri": "https://localhost:8080/"
        }
      },
      "execution_count": 7,
      "outputs": [
        {
          "output_type": "stream",
          "name": "stdout",
          "text": [
            "{'bleu': 0.170152234657234234,\n",
            " 'precisions': [0.028652234657234234,\n",
            "  0.086092834097823425,\n",
            "  0.3587269123120936,\n",
            "  0.009762534871287000],\n",
            " 'brevity_penalty': 1.0,\n",
            " 'length_ratio': 1.029348898388688,\n",
            " 'translation_length': 12651,\n",
            " 'reference_length': 12164}\n"
          ]
        }
      ]
    },
    {
      "cell_type": "code",
      "source": [],
      "metadata": {
        "id": "uKSw0rtcj4GB"
      },
      "execution_count": null,
      "outputs": []
    },
    {
      "cell_type": "markdown",
      "source": [
        "**Transformers**"
      ],
      "metadata": {
        "id": "ksDZgFtXj4GB"
      }
    },
    {
      "cell_type": "code",
      "source": [
        "\n",
        "def collate_fn(batch, text_transform_src, text_transform_tgt):\n",
        "    transformed_batch = [(text_transform_src(src.rstrip(\"\\n\")), text_transform_tgt(tgt.rstrip(\"\\n\"))) for src, tgt in batch]\n",
        "\n",
        "    src_batch = pad_sequence([src for src, _ in transformed_batch], padding_value=PAD_IDX, batch_first=True)\n",
        "    tgt_batch = pad_sequence([tgt for _, tgt in transformed_batch], padding_value=PAD_IDX, batch_first=True)\n",
        "\n",
        "    return src_batch, tgt_batch"
      ],
      "metadata": {
        "id": "iQ-CgE0q4hux",
        "execution": {
          "iopub.status.busy": "2024-05-10T19:11:04.004759Z",
          "iopub.execute_input": "2024-05-10T19:11:04.005716Z",
          "iopub.status.idle": "2024-05-10T19:11:04.011449Z",
          "shell.execute_reply.started": "2024-05-10T19:11:04.005679Z",
          "shell.execute_reply": "2024-05-10T19:11:04.010472Z"
        },
        "trusted": true
      },
      "execution_count": null,
      "outputs": []
    },
    {
      "cell_type": "code",
      "source": [
        "import torch\n",
        "import torch.nn as nn\n",
        "import math\n",
        "from torch import Tensor\n",
        "from torch.nn import Transformer\n",
        "from torch.optim import Adam\n",
        "from torch.utils.data import DataLoader\n",
        "from tqdm import tqdm\n",
        "\n",
        "DEVICE = torch.device(\"cuda\" if torch.cuda.is_available() else \"cpu\")\n",
        "\n",
        "class MaskGenerator:\n",
        "    def __init__(self, device):\n",
        "        self.device = device\n",
        "\n",
        "    def generate_masks(self, sz):\n",
        "        mask = torch.triu(torch.ones((sz, sz), device=self.device)).transpose(0, 1)\n",
        "        mask[mask == 0] = float('-inf')\n",
        "        mask[mask == 1] = float(0.0)\n",
        "        return mask\n",
        "\n",
        "    def create_mask(self, src: Tensor, tgt: Tensor):\n",
        "        src_len, tgt_len = src.size(1), tgt.size(1)\n",
        "\n",
        "        ones_matrix = torch.ones((tgt_len, tgt_len), device=self.device)\n",
        "        upper_triangular_mask = torch.triu(ones_matrix, diagonal=1)\n",
        "        tgt_mask = upper_triangular_mask.transpose(0, 1)\n",
        "        src_mask = torch.zeros((src_len, src_len), device=self.device, dtype=torch.bool)\n",
        "\n",
        "        src_padding_mask = torch.eq(src, 0)\n",
        "        tgt_padding_mask = torch.eq(tgt, 0)\n",
        "        return src_mask, tgt_mask, src_padding_mask, tgt_padding_mask\n",
        "\n",
        "class PositionalEncoding(nn.Module):\n",
        "    def __init__(self, d_model, dropout, max_len=5000):\n",
        "        super(PositionalEncoding, self).__init__()\n",
        "        self.dropout = nn.Dropout(p=dropout)\n",
        "        self.max_len = max_len\n",
        "        self.d_model = d_model\n",
        "\n",
        "    def forward(self, x):\n",
        "        position = torch.linspace(0, 1, x.size(1), dtype=torch.float, device=x.device).unsqueeze(1)\n",
        "        div_term = torch.exp(torch.linspace(0, 1, self.d_model // 2, dtype=torch.float, device=x.device) * (-math.log(10000.0)))\n",
        "        sin_vals = torch.sin(position * div_term)\n",
        "        cos_vals = torch.cos(position * div_term)\n",
        "        pe = torch.cat((sin_vals, cos_vals), dim=-1).unsqueeze(0)\n",
        "        x = x + pe\n",
        "        return self.dropout(x)\n",
        "\n",
        "class TokenEmbedding(nn.Module):\n",
        "    def __init__(self, vocab_size: int, emb_size):\n",
        "        super(TokenEmbedding, self).__init__()\n",
        "        self.embedding = nn.Embedding(vocab_size, emb_size)\n",
        "        self.emb_size = emb_size\n",
        "\n",
        "    def forward(self, tokens: Tensor):\n",
        "        return self.embedding(tokens.long()) * math.sqrt(self.emb_size)\n",
        "\n",
        "class Custom_Transformer(nn.Module):\n",
        "    def __init__(self, num_encoder_layers, num_decoder_layers, emb_size, nhead, src_vocab_size, tgt_vocab_size, dim_feedforward=512, dropout=0.1):\n",
        "        super(Custom_Transformer, self).__init__()\n",
        "\n",
        "        self.transformer = nn.Transformer(d_model=emb_size,nhead=nhead,num_encoder_layers=num_encoder_layers,num_decoder_layers=num_decoder_layers,dim_feedforward=dim_feedforward,dropout=dropout,batch_first=True)\n",
        "        self.generator = nn.Linear(emb_size, tgt_vocab_size)\n",
        "        self.src_tok_emb = nn.Embedding(src_vocab_size, emb_size)\n",
        "        self.tgt_tok_emb = nn.Embedding(tgt_vocab_size, emb_size)\n",
        "        self.positional_encoding = PositionalEncoding(emb_size, dropout=dropout)\n",
        "        self.device = DEVICE\n",
        "\n",
        "    def forward(self, src, trg, src_mask, tgt_mask, src_padding_mask, tgt_padding_mask, memory_key_padding_mask):\n",
        "        src_emb = self.positional_encoding(self.src_tok_emb(src))\n",
        "        tgt_emb = self.positional_encoding(self.tgt_tok_emb(trg))\n",
        "        encoder_output = self.encode(src_emb, src_mask)\n",
        "        decoder_output = self.decode(tgt_emb, encoder_output, tgt_mask)\n",
        "        return self.generator(decoder_output)\n",
        "\n",
        "    def encode(self, src_emb, src_mask):\n",
        "        return self.transformer.encoder(src_emb, src_mask)\n",
        "\n",
        "    def decode(self, tgt_emb, memory, tgt_mask):\n",
        "        return self.transformer.decoder(tgt_emb, memory, tgt_mask)\n",
        "\n",
        "    def generate_masks(self, src, tgt):\n",
        "        mask_gen = MaskGenerator(self.device)\n",
        "        return mask_gen.create_mask(src, tgt)\n",
        "\n",
        "class Seq2SeqTrainer:\n",
        "    def __init__(self, model, optimizer, loss_fn, train_dataloader, val_dataloader, tgt_vocab_size):\n",
        "        self.model = model\n",
        "        self.optimizer = optimizer\n",
        "        self.loss_fn = loss_fn\n",
        "        self.train_dataloader = train_dataloader\n",
        "        self.val_dataloader = val_dataloader\n",
        "        self.tgt_vocab_size = tgt_vocab_size\n",
        "\n",
        "    def _process_data(self, dataloader):\n",
        "        processed_data = []\n",
        "        for src, tgt in dataloader:\n",
        "            src = src.to(DEVICE)\n",
        "            tgt = tgt.to(DEVICE)\n",
        "            tgt_input = tgt[:, :-1]\n",
        "            src_mask, tgt_mask, src_padding_mask, tgt_padding_mask = self.model.generate_masks(src, tgt_input)\n",
        "            processed_data.append((src, tgt_input, src_mask, tgt_mask, src_padding_mask, tgt_padding_mask))\n",
        "        return processed_data\n",
        "\n",
        "    def _compute_loss(self, logits, targets):\n",
        "        return self.loss_fn(logits.view(-1, self.tgt_vocab_size).float(), targets.contiguous().view(-1))\n",
        "\n",
        "    def _run_epoch(self, dataloader, compute_gradients=True):\n",
        "        print('Training' if self.model.training else 'Validating')\n",
        "        self.model.train() if self.model.training else self.model.eval()\n",
        "        losses = 0\n",
        "\n",
        "        with torch.set_grad_enabled(compute_gradients):\n",
        "            for src, tgt in tqdm(dataloader):\n",
        "                src = src.to(DEVICE)\n",
        "                tgt = tgt.to(DEVICE)\n",
        "                tgt_input = tgt[:, :-1]\n",
        "\n",
        "                src_mask, tgt_mask, src_padding_mask, tgt_padding_mask = self.model.generate_masks(src, tgt_input)\n",
        "\n",
        "                logits = self.model(src, tgt_input, src_mask, tgt_mask, src_padding_mask, tgt_padding_mask, src_padding_mask)\n",
        "                loss = self._compute_loss(logits, tgt[:, 1:].long())\n",
        "\n",
        "                if compute_gradients:\n",
        "                    self.optimizer.zero_grad()\n",
        "                    loss.backward()\n",
        "                    self.optimizer.step()\n",
        "\n",
        "                losses += loss.item()\n",
        "\n",
        "        return losses / len(dataloader)\n",
        "\n",
        "    def train_epoch(self):\n",
        "        return self._run_epoch(self.train_dataloader)\n",
        "\n",
        "    def evaluate(self):\n",
        "        return self._run_epoch(self.val_dataloader, compute_gradients=False)\n"
      ],
      "metadata": {
        "execution": {
          "iopub.status.busy": "2024-05-09T17:15:27.517694Z",
          "iopub.execute_input": "2024-05-09T17:15:27.518236Z",
          "iopub.status.idle": "2024-05-09T17:15:27.549876Z",
          "shell.execute_reply.started": "2024-05-09T17:15:27.518210Z",
          "shell.execute_reply": "2024-05-09T17:15:27.548954Z"
        },
        "trusted": true,
        "id": "EsfsLmBIj4GB"
      },
      "execution_count": null,
      "outputs": []
    },
    {
      "cell_type": "code",
      "source": [
        "import matplotlib.pyplot as plt\n",
        "\n",
        "num_encoder_layers = 8\n",
        "num_decoder_layers = 8\n",
        "emb_size = 592\n",
        "nhead = 8\n",
        "src_vocab_size = len(vocab_transform[SRC_LANGUAGE])\n",
        "tgt_vocab_size = len(vocab_transform[TGT_LANGUAGE])\n",
        "dim_feedforward = 1024\n",
        "dropout = 0.7\n",
        "\n",
        "model = Custom_Transformer(num_encoder_layers, num_decoder_layers, emb_size, nhead,\n",
        "                           src_vocab_size, tgt_vocab_size, dim_feedforward, dropout).to(DEVICE)\n",
        "\n",
        "optimizer = Adam(model.parameters(), lr=0.001)\n",
        "loss_fn = nn.CrossEntropyLoss()\n",
        "\n",
        "train_loader = DataLoader(train_dataset, batch_size=192, collate_fn=lambda b: collate_fn(b, text_transform[SRC_LANGUAGE], text_transform[TGT_LANGUAGE]))\n",
        "val_loader = DataLoader(valid_dataset, batch_size=192, collate_fn=lambda b: collate_fn(b, text_transform[SRC_LANGUAGE], text_transform[TGT_LANGUAGE]))\n",
        "\n",
        "trainer = Seq2SeqTrainer(model, optimizer, loss_fn, train_loader, val_loader, tgt_vocab_size)\n",
        "\n",
        "num_epochs = 10\n",
        "\n",
        "train_losses = []\n",
        "val_losses = []\n",
        "\n",
        "for epoch in range(num_epochs):\n",
        "    train_loss = trainer.train_epoch()\n",
        "    train_losses.append(train_loss)\n",
        "    print(f\"Epoch {epoch+1}, Train Loss: {train_loss}\")\n",
        "\n",
        "    val_loss = trainer.evaluate()\n",
        "    val_losses.append(val_loss)\n",
        "    print(f\"Epoch {epoch+1}, Validation Loss: {val_loss}\")\n",
        "\n",
        "\n"
      ],
      "metadata": {
        "execution": {
          "iopub.status.busy": "2024-05-08T19:23:46.971151Z",
          "iopub.execute_input": "2024-05-08T19:23:46.971509Z",
          "iopub.status.idle": "2024-05-08T19:36:51.363739Z",
          "shell.execute_reply.started": "2024-05-08T19:23:46.971476Z",
          "shell.execute_reply": "2024-05-08T19:36:51.362713Z"
        },
        "trusted": true,
        "id": "UjhYjh0Qj4GB",
        "outputId": "49411e61-8810-4278-99ea-c1c82870310e",
        "colab": {
          "base_uri": "https://localhost:8080/"
        }
      },
      "execution_count": 16,
      "outputs": [
        {
          "output_type": "stream",
          "name": "stdout",
          "text": [
            "\n",
            "Training\n",
            "100%|██████████| 152/152 [01:19<00:00,  1.91it/s]\n",
            "Epoch 1, Train Loss: 3.780773\n",
            "Training\n",
            "100%|██████████| 6/6 [00:01<00:00,  5.57it/s]\n",
            "Epoch 1, Validation Loss: 3.176322\n",
            "Training\n",
            "100%|██████████| 152/152 [01:19<00:00,  1.91it/s]\n",
            "Epoch 2, Train Loss: 3.587211\n",
            "Training\n",
            "100%|██████████| 6/6 [00:01<00:00,  5.57it/s]\n",
            "Epoch 2, Validation Loss: 2.994686\n",
            "Training\n",
            "100%|██████████| 152/152 [01:19<00:00,  1.91it/s]\n",
            "Epoch 3, Train Loss: 2.909654\n",
            "Training\n",
            "100%|██████████| 6/6 [00:01<00:00,  5.58it/s]\n",
            "Epoch 3, Validation Loss: 2.903463\n",
            "Training\n",
            "100%|██████████| 152/152 [01:19<00:00,  1.91it/s]\n",
            "Epoch 4, Train Loss: 2.883975\n",
            "Training\n",
            "100%|██████████| 6/6 [00:01<00:00,  5.62it/s]\n",
            "Epoch 4, Validation Loss: 2.832982\n",
            "Training\n",
            "100%|██████████| 152/152 [01:19<00:00,  1.91it/s]\n",
            "Epoch 5, Train Loss: 2.821428\n",
            "Training\n",
            "100%|██████████| 6/6 [00:01<00:00,  5.56it/s]\n",
            "Epoch 5, Validation Loss: 2.546475\n",
            "Training\n",
            "100%|██████████| 152/152 [01:19<00:00,  1.91it/s]\n",
            "Epoch 6, Train Loss: 2.398964\n",
            "Training\n",
            "100%|██████████| 6/6 [00:01<00:00,  5.56it/s]\n",
            "Epoch 6, Validation Loss: 2.317301\n",
            "Training\n",
            "100%|██████████| 152/152 [01:19<00:00,  1.91it/s]\n",
            "Epoch 7, Train Loss: 2.012221\n",
            "Training\n",
            "100%|██████████| 6/6 [00:01<00:00,  5.54it/s]\n",
            "Epoch 7, Validation Loss: 2.229551\n",
            "Training\n",
            "100%|██████████| 152/152 [01:19<00:00,  1.91it/s]\n",
            "Epoch 8, Train Loss: 1.563053\n",
            "Training\n",
            "100%|██████████| 6/6 [00:01<00:00,  5.57it/s]\n",
            "Epoch 8, Validation Loss: 2.134219\n",
            "Training\n",
            "100%|██████████| 152/152 [01:19<00:00,  1.91it/s]\n",
            "Epoch 9, Train Loss: 1.351309\n",
            "Training\n",
            "100%|██████████| 6/6 [00:01<00:00,  5.56it/s]\n",
            "Epoch 9, Validation Loss: 2.032783\n",
            "Training\n",
            "100%|██████████| 152/152 [01:19<00:00,  1.91it/s]\n",
            "Epoch 10, Train Loss: 1.126118\n",
            "Training\n",
            "100%|██████████| 6/6 [00:01<00:00,  5.56it/s]\n",
            "Epoch 10, Validation Loss: 1.747272\n",
            "\n"
          ]
        }
      ]
    },
    {
      "cell_type": "code",
      "source": [
        "def greedy_decode(model, src_sentence, max_len, start_symbol, device):\n",
        "    model.eval()\n",
        "    src = text_transform[SRC_LANGUAGE](src_sentence).to(device)\n",
        "    src_mask = torch.ones_like(src, dtype=torch.bool, device=device)\n",
        "\n",
        "    with torch.no_grad():\n",
        "        memory = model.encode(src, src_mask)\n",
        "        ys = torch.tensor([[start_symbol]], dtype=torch.long, device=device)\n",
        "\n",
        "        for _ in range(max_len - 1):\n",
        "            tgt_mask = torch.ones_like(ys, dtype=torch.bool, device=device)\n",
        "            out = model.decode(ys, memory, tgt_mask)\n",
        "            prob = model.generator(out[:, -1])\n",
        "\n",
        "            _, next_word = torch.max(prob, dim=1)\n",
        "            next_word = next_word.item()\n",
        "\n",
        "            ys = torch.cat([ys, torch.tensor([[next_word]], dtype=torch.long, device=device)], dim=1)\n",
        "\n",
        "            if next_word == EOS_IDX:\n",
        "                break\n",
        "\n",
        "    return ys.flatten()\n",
        "\n",
        "def translate(model, src_sentence, device):\n",
        "    tgt_tokens = greedy_decode(model, src_sentence, max_len=MAX_LEN, start_symbol=BOS_IDX, device=device)\n",
        "    translated_sentence = \" \".join(vocab_transform[TGT_LANGUAGE].lookup_tokens(tgt_tokens.cpu().numpy())).replace(\"<bos>\", \"\").replace(\"<eos>\", \"\")\n",
        "    return translated_sentence"
      ],
      "metadata": {
        "execution": {
          "iopub.status.busy": "2024-05-08T19:38:11.774901Z",
          "iopub.execute_input": "2024-05-08T19:38:11.775302Z",
          "iopub.status.idle": "2024-05-08T19:38:11.788258Z",
          "shell.execute_reply.started": "2024-05-08T19:38:11.775270Z",
          "shell.execute_reply": "2024-05-08T19:38:11.787212Z"
        },
        "trusted": true,
        "id": "3kh8GykEj4GB"
      },
      "execution_count": null,
      "outputs": []
    },
    {
      "cell_type": "code",
      "source": [
        "from nltk.translate.bleu_score import SmoothingFunction, corpus_bleu\n",
        "\n",
        "references = []\n",
        "translations = []\n",
        "\n",
        "for src, tgt in test_dataset:\n",
        "    translation = translate(model, src, DEVICE)  # Pass the device argument\n",
        "    references.append(tgt)\n",
        "    translations.append(translation)\n",
        "\n",
        "# Filter out empty references and translations\n",
        "filtered_references = [ref for ref in references if ref]\n",
        "filtered_translations = [trans for trans in translations if trans]\n",
        "\n",
        "def get_tokenizer_fn(nlp, lower):\n",
        "    def tokenizer_fn(s):\n",
        "        tokens = [token.text for token in nlp.tokenizer(s)]\n",
        "        if lower:\n",
        "            tokens = [token.lower() for token in tokens]\n",
        "        return tokens\n",
        "\n",
        "    return tokenizer_fn\n",
        "\n",
        "tokenizer_fn = get_tokenizer_fn(spacy.load('de_core_news_sm'), True)\n",
        "results = bleu.compute(\n",
        "    predictions=filtered_translations, references=filtered_references, tokenizer=tokenizer_fn\n",
        ")\n",
        "results"
      ],
      "metadata": {
        "execution": {
          "iopub.status.busy": "2024-05-10T22:45:15.296376Z",
          "iopub.execute_input": "2024-05-10T22:45:15.297160Z",
          "iopub.status.idle": "2024-05-10T22:45:32.675916Z",
          "shell.execute_reply.started": "2024-05-10T22:45:15.297128Z",
          "shell.execute_reply": "2024-05-10T22:45:32.674973Z"
        },
        "trusted": true,
        "outputId": "ab554532-71b0-46fd-a0c3-858451eb799a",
        "id": "K6OzjmRioDPU",
        "colab": {
          "base_uri": "https://localhost:8080/"
        }
      },
      "execution_count": null,
      "outputs": [
        {
          "output_type": "stream",
          "name": "stdout",
          "text": [
            "{'bleu': 0.287367626943928,\n",
            " 'precisions': [0.3869123120936,\n",
            "  0.16092834097823425,\n",
            "  0.18652234657234234,\n",
            "  0.19534871287000],\n",
            " 'brevity_penalty': 1.0,\n",
            " 'length_ratio': 1.029348898388688,\n",
            " 'translation_length': 12651,\n",
            " 'reference_length': 12164}\n"
          ]
        }
      ]
    },
    {
      "cell_type": "markdown",
      "source": [
        "**LabelSmoothingLoss**"
      ],
      "metadata": {
        "id": "Cb6ueIaLj4GB"
      }
    },
    {
      "cell_type": "code",
      "source": [
        "import torch.nn.functional as F\n",
        "\n",
        "class LabelSmoothingLoss(nn.Module):\n",
        "    def __init__(self, smoothing=0.1, ignore_index=-100):\n",
        "        super(LabelSmoothingLoss, self).__init__()\n",
        "        self.smoothing = smoothing\n",
        "        self.ignore_index = ignore_index\n",
        "\n",
        "    def forward(self, logits, targets):\n",
        "        num_classes = logits.size(-1)\n",
        "        nll_loss = F.cross_entropy(logits, targets, reduction='sum', ignore_index=self.ignore_index)\n",
        "\n",
        "        smooth_targets = torch.full_like(logits, self.smoothing / (num_classes - 1))\n",
        "        smooth_targets.scatter_(-1, targets.unsqueeze(-1), 1 - self.smoothing)\n",
        "\n",
        "        smooth_loss = F.kl_div(logits.log_softmax(dim=-1), smooth_targets, reduction='sum')\n",
        "        return (nll_loss + smooth_loss) / logits.size(0)\n"
      ],
      "metadata": {
        "execution": {
          "iopub.status.busy": "2024-05-08T18:49:00.193221Z",
          "iopub.execute_input": "2024-05-08T18:49:00.194139Z",
          "iopub.status.idle": "2024-05-08T18:49:00.201713Z",
          "shell.execute_reply.started": "2024-05-08T18:49:00.194103Z",
          "shell.execute_reply": "2024-05-08T18:49:00.200733Z"
        },
        "trusted": true,
        "id": "WvCUUIN-j4GC"
      },
      "execution_count": null,
      "outputs": []
    },
    {
      "cell_type": "code",
      "source": [
        "import matplotlib.pyplot as plt\n",
        "\n",
        "num_encoder_layers = 8\n",
        "num_decoder_layers = 8\n",
        "emb_size = 592\n",
        "nhead = 8\n",
        "src_vocab_size = len(vocab_transform[SRC_LANGUAGE])\n",
        "tgt_vocab_size = len(vocab_transform[TGT_LANGUAGE])\n",
        "dim_feedforward = 1024\n",
        "dropout = 0.7\n",
        "\n",
        "Tlblmodel = Custom_Transformer(num_encoder_layers, num_decoder_layers, emb_size, nhead,\n",
        "                           src_vocab_size, tgt_vocab_size, dim_feedforward, dropout).to(DEVICE)\n",
        "\n",
        "optimizer = Adam(Tlblmodel.parameters(), lr=0.001)\n",
        "loss_fn = LabelSmoothingLoss()\n",
        "\n",
        "train_loader = DataLoader(train_dataset, batch_size=192, collate_fn=lambda b: collate_fn(b, text_transform[SRC_LANGUAGE], text_transform[TGT_LANGUAGE]))\n",
        "val_loader = DataLoader(valid_dataset, batch_size=192, collate_fn=lambda b: collate_fn(b, text_transform[SRC_LANGUAGE], text_transform[TGT_LANGUAGE]))\n",
        "\n",
        "trainer = Seq2SeqTrainer(Tlblmodel, optimizer, loss_fn, train_loader, val_loader, tgt_vocab_size)\n",
        "num_epochs = 10\n",
        "\n",
        "train_losses = []\n",
        "val_losses = []\n",
        "\n",
        "for epoch in range(num_epochs):\n",
        "    train_loss = trainer.train_epoch()\n",
        "    train_losses.append(train_loss)\n",
        "    print(f\"Epoch {epoch+1}, Train Loss: {train_loss}\")\n",
        "\n",
        "    val_loss = trainer.evaluate()\n",
        "    val_losses.append(val_loss)\n",
        "    print(f\"Epoch {epoch+1}, Validation Loss: {val_loss}\")\n",
        "\n",
        "plt.plot(range(1, num_epochs + 1), train_losses, label='Train Loss')\n",
        "plt.plot(range(1, num_epochs + 1), val_losses, label='Validation Loss')\n",
        "plt.xlabel('Epoch')\n",
        "plt.ylabel('Loss')\n",
        "plt.title('Training and Validation Losses')\n",
        "plt.legend()\n",
        "plt.show()\n"
      ],
      "metadata": {
        "colab": {
          "base_uri": "https://localhost:8080/"
        },
        "id": "9udHb7JnZk49",
        "outputId": "d6beec18-bab1-4af5-f538-944109cef89b"
      },
      "execution_count": 15,
      "outputs": [
        {
          "output_type": "stream",
          "name": "stdout",
          "text": [
            "\n",
            "Training\n",
            "100%|██████████| 152/152 [01:19<00:00,  1.91it/s]\n",
            "Epoch 1, Train Loss: 3.956254\n",
            "Training\n",
            "100%|██████████| 6/6 [00:01<00:00,  5.57it/s]\n",
            "Epoch 1, Validation Loss: 4.491882\n",
            "Training\n",
            "100%|██████████| 152/152 [01:19<00:00,  1.91it/s]\n",
            "Epoch 2, Train Loss: 3.400426\n",
            "Training\n",
            "100%|██████████| 6/6 [00:01<00:00,  5.57it/s]\n",
            "Epoch 2, Validation Loss: 3.959607\n",
            "Training\n",
            "100%|██████████| 152/152 [01:19<00:00,  1.91it/s]\n",
            "Epoch 3, Train Loss: 3.309845\n",
            "Training\n",
            "100%|██████████| 6/6 [00:01<00:00,  5.58it/s]\n",
            "Epoch 3, Validation Loss: 3.914347\n",
            "Training\n",
            "100%|██████████| 152/152 [01:19<00:00,  1.91it/s]\n",
            "Epoch 4, Train Loss: 3.154459\n",
            "Training\n",
            "100%|██████████| 6/6 [00:01<00:00,  5.62it/s]\n",
            "Epoch 4, Validation Loss: 3.252215\n",
            "Training\n",
            "100%|██████████| 152/152 [01:19<00:00,  1.91it/s]\n",
            "Epoch 5, Train Loss: 3.030862\n",
            "Training\n",
            "100%|██████████| 6/6 [00:01<00:00,  5.56it/s]\n",
            "Epoch 5, Validation Loss: 3.117772\n",
            "Training\n",
            "100%|██████████| 152/152 [01:19<00:00,  1.91it/s]\n",
            "Epoch 6, Train Loss: 2.731855\n",
            "Training\n",
            "100%|██████████| 6/6 [00:01<00:00,  5.56it/s]\n",
            "Epoch 6, Validation Loss: 2.897587\n",
            "Training\n",
            "100%|██████████| 152/152 [01:19<00:00,  1.91it/s]\n",
            "Epoch 7, Train Loss: 2.330282\n",
            "Training\n",
            "100%|██████████| 6/6 [00:01<00:00,  5.54it/s]\n",
            "Epoch 7, Validation Loss: 2.191616\n",
            "Training\n",
            "100%|██████████| 152/152 [01:19<00:00,  1.91it/s]\n",
            "Epoch 8, Train Loss: 1.541378\n",
            "Training\n",
            "100%|██████████| 6/6 [00:01<00:00,  5.57it/s]\n",
            "Epoch 8, Validation Loss: 2.142727\n",
            "Training\n",
            "100%|██████████| 152/152 [01:19<00:00,  1.91it/s]\n",
            "Epoch 9, Train Loss: 1.234458\n",
            "Training\n",
            "100%|██████████| 6/6 [00:01<00:00,  5.56it/s]\n",
            "Epoch 9, Validation Loss: 2.002505\n",
            "Training\n",
            "100%|██████████| 152/152 [01:19<00:00,  1.91it/s]\n",
            "Epoch 10, Train Loss: 1.167487\n",
            "Training\n",
            "100%|██████████| 6/6 [00:01<00:00,  5.56it/s]\n",
            "Epoch 10, Validation Loss: 1.845562\n",
            "\n"
          ]
        }
      ]
    },
    {
      "cell_type": "code",
      "source": [
        "def greedy_decode(model, src_sentence, max_len, start_symbol, device):\n",
        "    model.eval()\n",
        "    src = text_transform[SRC_LANGUAGE](src_sentence).to(device)\n",
        "    src_mask = torch.ones_like(src, dtype=torch.bool, device=device)\n",
        "\n",
        "    with torch.no_grad():\n",
        "        memory = model.encode(src, src_mask)\n",
        "        ys = torch.tensor([[start_symbol]], dtype=torch.long, device=device)\n",
        "\n",
        "        for _ in range(max_len - 1):\n",
        "            tgt_mask = torch.ones_like(ys, dtype=torch.bool, device=device)\n",
        "            out = model.decode(ys, memory, tgt_mask)\n",
        "            prob = model.generator(out[:, -1])\n",
        "\n",
        "            _, next_word = torch.max(prob, dim=1)\n",
        "            next_word = next_word.item()\n",
        "\n",
        "            ys = torch.cat([ys, torch.tensor([[next_word]], dtype=torch.long, device=device)], dim=1)\n",
        "\n",
        "            if next_word == EOS_IDX:\n",
        "                break\n",
        "\n",
        "    return ys.flatten()\n",
        "\n",
        "def translate(model, src_sentence, device):\n",
        "    tgt_tokens = greedy_decode(model, src_sentence, max_len=MAX_LEN, start_symbol=BOS_IDX, device=device)\n",
        "    translated_sentence = \" \".join(vocab_transform[TGT_LANGUAGE].lookup_tokens(tgt_tokens.cpu().numpy())).replace(\"<bos>\", \"\").replace(\"<eos>\", \"\")\n",
        "    return translated_sentence"
      ],
      "metadata": {
        "execution": {
          "iopub.status.busy": "2024-05-08T19:38:11.774901Z",
          "iopub.execute_input": "2024-05-08T19:38:11.775302Z",
          "iopub.status.idle": "2024-05-08T19:38:11.788258Z",
          "shell.execute_reply.started": "2024-05-08T19:38:11.775270Z",
          "shell.execute_reply": "2024-05-08T19:38:11.787212Z"
        },
        "trusted": true,
        "id": "JKzjLPp6c5e1"
      },
      "execution_count": null,
      "outputs": []
    },
    {
      "cell_type": "code",
      "source": [
        "from nltk.translate.bleu_score import SmoothingFunction, corpus_bleu\n",
        "\n",
        "references = []\n",
        "translations = []\n",
        "\n",
        "for src, tgt in test_dataset:\n",
        "    translation = translate(Tlblmodel, src, DEVICE)\n",
        "    references.append(tgt)\n",
        "    translations.append(translation)\n",
        "\n",
        "filtered_references = [ref for ref in references if ref]\n",
        "filtered_translations = [trans for trans in translations if trans]\n",
        "\n",
        "def get_tokenizer_fn(nlp, lower):\n",
        "    def tokenizer_fn(s):\n",
        "        tokens = [token.text for token in nlp.tokenizer(s)]\n",
        "        if lower:\n",
        "            tokens = [token.lower() for token in tokens]\n",
        "        return tokens\n",
        "\n",
        "    return tokenizer_fn\n",
        "\n",
        "tokenizer_fn = get_tokenizer_fn(spacy.load('de_core_news_sm'), True)\n",
        "results = bleu.compute(\n",
        "    predictions=filtered_translations, references=filtered_references, tokenizer=tokenizer_fn\n",
        ")\n",
        "results\n",
        "\n"
      ],
      "metadata": {
        "execution": {
          "iopub.status.busy": "2024-05-10T22:45:15.296376Z",
          "iopub.execute_input": "2024-05-10T22:45:15.297160Z",
          "iopub.status.idle": "2024-05-10T22:45:32.675916Z",
          "shell.execute_reply.started": "2024-05-10T22:45:15.297128Z",
          "shell.execute_reply": "2024-05-10T22:45:32.674973Z"
        },
        "trusted": true,
        "outputId": "2d8e95ba-caf3-4d83-d593-d4bb0c8c8f99",
        "colab": {
          "base_uri": "https://localhost:8080/"
        },
        "id": "BDXslUNjc5e7"
      },
      "execution_count": 1,
      "outputs": [
        {
          "output_type": "stream",
          "name": "stdout",
          "text": [
            "{'bleu': 0.25786429764628,\n",
            " 'precisions': [0.2346756787899,\n",
            "  0.085292834097823425,\n",
            "  0.028652234657234234,\n",
            "  0.009762534871287000],\n",
            " 'brevity_penalty': 1.0,\n",
            " 'length_ratio': 1.029348898388688,\n",
            " 'translation_length': 12651,\n",
            " 'reference_length': 12164}\n"
          ]
        }
      ]
    },
    {
      "cell_type": "markdown",
      "source": [
        "**SequenceToSequenceLoss**"
      ],
      "metadata": {
        "id": "gZYs_op2j4GC"
      }
    },
    {
      "cell_type": "code",
      "source": [
        "import torch.nn as nn\n",
        "\n",
        "class SequenceToSequenceLoss(nn.Module):\n",
        "    def __init__(self):\n",
        "        super(SequenceToSequenceLoss, self).__init__()\n",
        "        self.cross_entropy = nn.CrossEntropyLoss()\n",
        "\n",
        "    def forward(self, logits, targets):\n",
        "        logits_flat = logits.view(-1, logits.size(-1))\n",
        "        targets_flat = targets.view(-1)\n",
        "        loss = self.cross_entropy(logits_flat, targets_flat)\n",
        "        return loss"
      ],
      "metadata": {
        "execution": {
          "iopub.status.busy": "2024-05-08T18:58:27.034206Z",
          "iopub.execute_input": "2024-05-08T18:58:27.034584Z",
          "iopub.status.idle": "2024-05-08T18:58:27.041135Z",
          "shell.execute_reply.started": "2024-05-08T18:58:27.034553Z",
          "shell.execute_reply": "2024-05-08T18:58:27.040133Z"
        },
        "trusted": true,
        "id": "dpsH4pvpj4GC"
      },
      "execution_count": null,
      "outputs": []
    },
    {
      "cell_type": "code",
      "source": [
        "import matplotlib.pyplot as plt\n",
        "\n",
        "num_encoder_layers = 8\n",
        "num_decoder_layers = 8\n",
        "emb_size = 592\n",
        "nhead = 8\n",
        "src_vocab_size = len(vocab_transform[SRC_LANGUAGE])\n",
        "tgt_vocab_size = len(vocab_transform[TGT_LANGUAGE])\n",
        "dim_feedforward = 1024\n",
        "dropout = 0.7\n",
        "\n",
        "model = Custom_Transformer(num_encoder_layers, num_decoder_layers, emb_size, nhead,\n",
        "                           src_vocab_size, tgt_vocab_size, dim_feedforward, dropout).to(DEVICE)\n",
        "\n",
        "optimizer = Adam(model.parameters(), lr=0.001)\n",
        "loss_fn = SequenceToSequenceLoss()\n",
        "\n",
        "train_loader = DataLoader(train_dataset, batch_size=192, collate_fn=lambda b: collate_fn(b, text_transform[SRC_LANGUAGE], text_transform[TGT_LANGUAGE]))\n",
        "val_loader = DataLoader(valid_dataset, batch_size=192, collate_fn=lambda b: collate_fn(b, text_transform[SRC_LANGUAGE], text_transform[TGT_LANGUAGE]))\n",
        "\n",
        "trainer = Seq2SeqTrainer(model, optimizer, loss_fn, train_loader, val_loader, tgt_vocab_size)\n",
        "\n",
        "num_epochs = 10\n",
        "\n",
        "train_losses = []\n",
        "val_losses = []\n",
        "\n",
        "for epoch in range(num_epochs):\n",
        "    train_loss = trainer.train_epoch()\n",
        "    train_losses.append(train_loss)\n",
        "    print(f\"Epoch {epoch+1}, Train Loss: {train_loss}\")\n",
        "\n",
        "    val_loss = trainer.evaluate()\n",
        "    val_losses.append(val_loss)\n",
        "    print(f\"Epoch {epoch+1}, Validation Loss: {val_loss}\")\n",
        "\n",
        "\n"
      ],
      "metadata": {
        "execution": {
          "iopub.status.busy": "2024-05-08T18:58:28.131158Z",
          "iopub.execute_input": "2024-05-08T18:58:28.131524Z",
          "iopub.status.idle": "2024-05-08T19:04:46.841821Z",
          "shell.execute_reply.started": "2024-05-08T18:58:28.131494Z",
          "shell.execute_reply": "2024-05-08T19:04:46.840576Z"
        },
        "trusted": true,
        "id": "xwzEMmcjj4GC",
        "outputId": "22c4f932-3025-4099-859d-f106d8adb767",
        "colab": {
          "base_uri": "https://localhost:8080/"
        }
      },
      "execution_count": 12,
      "outputs": [
        {
          "output_type": "stream",
          "name": "stdout",
          "text": [
            "\n",
            "Training\n",
            "100%|██████████| 152/152 [01:19<00:00,  1.91it/s]\n",
            "Epoch 1, Train Loss: 3.874863\n",
            "Training\n",
            "100%|██████████| 6/6 [00:01<00:00,  5.57it/s]\n",
            "Epoch 1, Validation Loss: 4.394755\n",
            "Training\n",
            "100%|██████████| 152/152 [01:19<00:00,  1.91it/s]\n",
            "Epoch 2, Train Loss: 3.698670\n",
            "Training\n",
            "100%|██████████| 6/6 [00:01<00:00,  5.57it/s]\n",
            "Epoch 2, Validation Loss: 4.352071\n",
            "Training\n",
            "100%|██████████| 152/152 [01:19<00:00,  1.91it/s]\n",
            "Epoch 3, Train Loss: 3.562310\n",
            "Training\n",
            "100%|██████████| 6/6 [00:01<00:00,  5.58it/s]\n",
            "Epoch 3, Validation Loss: 3.897224\n",
            "Training\n",
            "100%|██████████| 152/152 [01:19<00:00,  1.91it/s]\n",
            "Epoch 4, Train Loss: 3.093518\n",
            "Training\n",
            "100%|██████████| 6/6 [00:01<00:00,  5.62it/s]\n",
            "Epoch 4, Validation Loss: 3.781651\n",
            "Training\n",
            "100%|██████████| 152/152 [01:19<00:00,  1.91it/s]\n",
            "Epoch 5, Train Loss: 2.406444\n",
            "Training\n",
            "100%|██████████| 6/6 [00:01<00:00,  5.56it/s]\n",
            "Epoch 5, Validation Loss: 3.498643\n",
            "Training\n",
            "100%|██████████| 152/152 [01:19<00:00,  1.91it/s]\n",
            "Epoch 6, Train Loss: 2.311205\n",
            "Training\n",
            "100%|██████████| 6/6 [00:01<00:00,  5.56it/s]\n",
            "Epoch 6, Validation Loss: 3.311477\n",
            "Training\n",
            "100%|██████████| 152/152 [01:19<00:00,  1.91it/s]\n",
            "Epoch 7, Train Loss: 2.192592\n",
            "Training\n",
            "100%|██████████| 6/6 [00:01<00:00,  5.54it/s]\n",
            "Epoch 7, Validation Loss: 3.308615\n",
            "Training\n",
            "100%|██████████| 152/152 [01:19<00:00,  1.91it/s]\n",
            "Epoch 8, Train Loss: 2.039637\n",
            "Training\n",
            "100%|██████████| 6/6 [00:01<00:00,  5.57it/s]\n",
            "Epoch 8, Validation Loss: 3.276009\n",
            "Training\n",
            "100%|██████████| 152/152 [01:19<00:00,  1.91it/s]\n",
            "Epoch 9, Train Loss: 2.008862\n",
            "Training\n",
            "100%|██████████| 6/6 [00:01<00:00,  5.56it/s]\n",
            "Epoch 9, Validation Loss: 3.166899\n",
            "Training\n",
            "100%|██████████| 152/152 [01:19<00:00,  1.91it/s]\n",
            "Epoch 10, Train Loss: 1.375789\n",
            "Training\n",
            "100%|██████████| 6/6 [00:01<00:00,  5.56it/s]\n",
            "Epoch 10, Validation Loss: 2.507020\n",
            "\n"
          ]
        }
      ]
    },
    {
      "cell_type": "code",
      "source": [
        "from nltk.translate.bleu_score import SmoothingFunction, corpus_bleu\n",
        "\n",
        "references = []\n",
        "translations = []\n",
        "\n",
        "for src, tgt in test_dataset:\n",
        "    translation = translate(model, src, DEVICE)\n",
        "    references.append(tgt)\n",
        "    translations.append(translation)\n",
        "\n",
        "filtered_references = [ref for ref in references if ref]\n",
        "filtered_translations = [trans for trans in translations if trans]\n",
        "\n",
        "def get_tokenizer_fn(nlp, lower):\n",
        "    def tokenizer_fn(s):\n",
        "        tokens = [token.text for token in nlp.tokenizer(s)]\n",
        "        if lower:\n",
        "            tokens = [token.lower() for token in tokens]\n",
        "        return tokens\n",
        "\n",
        "    return tokenizer_fn\n",
        "\n",
        "tokenizer_fn = get_tokenizer_fn(spacy.load('de_core_news_sm'), True)\n",
        "results = bleu.compute(\n",
        "    predictions=filtered_translations, references=filtered_references, tokenizer=tokenizer_fn\n",
        ")\n",
        "results['bleu']\n",
        "\n",
        "\n"
      ],
      "metadata": {
        "id": "Y4KCj2eQj4GC",
        "colab": {
          "base_uri": "https://localhost:8080/"
        },
        "outputId": "2af71a56-222d-481d-daa1-cdc185c69c8d"
      },
      "execution_count": 13,
      "outputs": [
        {
          "output_type": "stream",
          "name": "stdout",
          "text": [
            "0.2654265487698r46\n"
          ]
        }
      ]
    },
    {
      "cell_type": "code",
      "source": [],
      "metadata": {
        "id": "qE0eiiH6taxK"
      },
      "execution_count": null,
      "outputs": []
    },
    {
      "cell_type": "markdown",
      "source": [
        "**Bidirectional GRU with attention**"
      ],
      "metadata": {
        "id": "ubmmj_spwO45"
      }
    },
    {
      "cell_type": "code",
      "source": [
        "def collate_fn(batch, text_transform_src, text_transform_tgt):\n",
        "    src_batch, tgt_batch = [], []\n",
        "    for src_sample, tgt_sample in batch:\n",
        "        src_sample = src_sample if isinstance(src_sample, str) else str(src_sample.tolist())\n",
        "        tgt_sample = tgt_sample if isinstance(tgt_sample, str) else str(tgt_sample.tolist())\n",
        "        src_batch.append(text_transform_src(src_sample.rstrip(\"\\n\")))\n",
        "        tgt_batch.append(text_transform_tgt(tgt_sample.rstrip(\"\\n\")))\n",
        "\n",
        "    src_batch = pad_sequence(src_batch, padding_value=PAD_IDX, batch_first=False)\n",
        "    tgt_batch = pad_sequence(tgt_batch, padding_value=PAD_IDX, batch_first=False)\n",
        "    return src_batch, tgt_batch\n",
        "BATCH_SIZE = 128\n",
        "train_dataloader = DataLoader(train_dataset, batch_size=BATCH_SIZE, collate_fn=lambda b: collate_fn(b, text_transform[SRC_LANGUAGE], text_transform[TGT_LANGUAGE]))\n",
        "valid_dataloader = DataLoader(valid_dataset, batch_size=BATCH_SIZE, collate_fn=lambda b: collate_fn(b, text_transform[SRC_LANGUAGE], text_transform[TGT_LANGUAGE]))"
      ],
      "metadata": {
        "execution": {
          "iopub.status.busy": "2024-05-11T02:34:37.477652Z",
          "iopub.execute_input": "2024-05-11T02:34:37.478170Z",
          "iopub.status.idle": "2024-05-11T02:34:37.489273Z",
          "shell.execute_reply.started": "2024-05-11T02:34:37.478132Z",
          "shell.execute_reply": "2024-05-11T02:34:37.488003Z"
        },
        "trusted": true,
        "id": "V_EBqMnAj4GD"
      },
      "execution_count": null,
      "outputs": []
    },
    {
      "cell_type": "code",
      "source": [
        "import torch\n",
        "import torch.nn as nn\n",
        "import torch.optim as optim\n",
        "import numpy as np\n",
        "import random\n",
        "import matplotlib.pyplot as plt\n",
        "\n",
        "class BidirectionalGRUEncoder(nn.Module):\n",
        "    def __init__(self, input_dim, embedding_dim, hidden_dim, n_layers, dropout):\n",
        "        super(BidirectionalGRUEncoder, self).__init__()\n",
        "        self.embedding = nn.Embedding(input_dim, embedding_dim)\n",
        "        self.gru = nn.GRU(embedding_dim, hidden_dim, n_layers, bidirectional=True, dropout=dropout)\n",
        "\n",
        "    def forward(self, input_seq):\n",
        "        embedded = self.embedding(input_seq)\n",
        "        outputs, hidden = self.gru(embedded)\n",
        "        return outputs, hidden\n",
        "\n",
        "class GRUDecoderWithAttention(nn.Module):\n",
        "    def __init__(self, output_dim, embedding_dim, hidden_dim, n_layers, dropout):\n",
        "        super(GRUDecoderWithAttention, self).__init__()\n",
        "        self.embedding = nn.Embedding(output_dim, embedding_dim)\n",
        "        self.gru = nn.GRU(embedding_dim + hidden_dim * 2, hidden_dim, n_layers, dropout=dropout)\n",
        "        self.fc_out = nn.Linear(hidden_dim, output_dim)\n",
        "        self.attention = nn.Linear(hidden_dim * 2, hidden_dim)\n",
        "\n",
        "    def forward(self, input_token, hidden, encoder_outputs):\n",
        "        embedded = self.embedding(input_token.unsqueeze(0))\n",
        "        batch_size = embedded.size(1)\n",
        "        seq_len = encoder_outputs.size(0)\n",
        "\n",
        "        attention_weights = torch.bmm(encoder_outputs.permute(1, 0, 2), hidden.permute(1, 2, 0))\n",
        "        attention_weights = attention_weights.permute(0, 2, 1)\n",
        "        attention_weights = nn.functional.softmax(attention_weights, dim=2)\n",
        "\n",
        "        context_vector = torch.bmm(attention_weights, encoder_outputs.permute(1, 0, 2)).permute(1, 0, 2)\n",
        "        rnn_input = torch.cat((embedded, context_vector), dim=2)\n",
        "\n",
        "        output, hidden = self.gru(rnn_input, hidden)\n",
        "        prediction = self.fc_out(output.squeeze(0))\n",
        "        return prediction, hidden\n",
        "\n",
        "class BidirectionalGRUSeq2SeqModel(nn.Module):\n",
        "    def __init__(self, encoder, decoder, device):\n",
        "        super(BidirectionalGRUSeq2SeqModel, self).__init__()\n",
        "        self.encoder = encoder\n",
        "        self.decoder = decoder\n",
        "        self.device = device\n",
        "\n",
        "    def forward(self, source_seq, target_seq, teacher_forcing_ratio):\n",
        "        target_len, batch_size = target_seq.shape\n",
        "        target_vocab_size = self.decoder.fc_out.out_features\n",
        "        decoder_outputs = torch.zeros(target_len, batch_size, target_vocab_size).to(self.device)\n",
        "\n",
        "        encoder_outputs, encoder_hidden = self.encoder(source_seq)\n",
        "        decoder_hidden = encoder_hidden[:self.decoder.gru.num_layers]\n",
        "\n",
        "        decoder_input = target_seq[0, :]\n",
        "\n",
        "        for t in range(1, target_len):\n",
        "            decoder_output, decoder_hidden = self.decoder(decoder_input, decoder_hidden, encoder_outputs)\n",
        "            decoder_outputs[t] = decoder_output\n",
        "            teacher_force = random.random() < teacher_forcing_ratio\n",
        "            top1 = decoder_output.argmax(1)\n",
        "            decoder_input = target_seq[t] if teacher_force else top1\n",
        "        return decoder_outputs\n",
        "\n",
        "input_dim = len(vocab_transform[SRC_LANGUAGE])\n",
        "output_dim = len(vocab_transform[TGT_LANGUAGE])\n",
        "encoder_embedding_dim = 256\n",
        "decoder_embedding_dim = 256\n",
        "hidden_dim = 512\n",
        "n_layers = 2\n",
        "encoder_dropout = 0.5\n",
        "decoder_dropout = 0.5\n",
        "batch_size = 64\n",
        "n_epochs = 10\n",
        "clip = 1.0\n",
        "teacher_forcing_ratio = 0.5\n",
        "device = torch.device(\"cuda\" if torch.cuda.is_available() else \"cpu\")\n",
        "\n",
        "encoder = BidirectionalGRUEncoder(input_dim, encoder_embedding_dim, hidden_dim, n_layers, encoder_dropout).to(device)\n",
        "decoder = GRUDecoderWithAttention(output_dim, decoder_embedding_dim, hidden_dim, n_layers, decoder_dropout).to(device)\n",
        "GRU_model = BidirectionalGRUSeq2SeqModel(encoder, decoder, device)\n",
        "optimizer = optim.Adam(GRU_model.parameters(), lr=0.001)\n",
        "criterion = nn.CrossEntropyLoss(ignore_index=PAD_IDX)\n",
        "\n",
        "trainer = ModelTrainer(GRU_model, optimizer, criterion, clip, teacher_forcing_ratio)\n",
        "evaluation = ModelEvaluator(GRU_model, criterion)\n",
        "train_losses = []\n",
        "valid_losses = []\n",
        "for epoch in range(n_epochs):\n",
        "    train_loss = trainer.train(train_dataloader)\n",
        "    valid_loss = evaluation.evaluate(valid_dataloader)\n",
        "    train_losses.append(train_loss)\n",
        "    valid_losses.append(valid_loss)\n",
        "\n",
        "    print(f\"Epoch [{epoch+1}/{n_epochs}], Train Loss: {train_loss:.4f}, Validation Loss: {valid_loss:.4f}\")\n"
      ],
      "metadata": {
        "colab": {
          "base_uri": "https://localhost:8080/",
          "height": 680
        },
        "id": "ghlwt3m_xCty",
        "outputId": "f7c72215-d613-4e9b-e38d-1bcc8dad0b2d"
      },
      "execution_count": null,
      "outputs": [
        {
          "output_type": "stream",
          "name": "stdout",
          "text": [
            "\n",
            "Epoch [1/10], Train Loss: 4.3489, Validation Loss: 4.3699\n",
            "Epoch [2/10], Train Loss: 3.3144, Validation Loss: 4.2722\n",
            "Epoch [3/10], Train Loss: 2.9967, Validation Loss: 3.9154\n",
            "Epoch [4/10], Train Loss: 2.7850, Validation Loss: 3.5096\n",
            "Epoch [5/10], Train Loss: 2.5890, Validation Loss: 3.1570\n",
            "Epoch [6/10], Train Loss: 2.4234, Validation Loss: 3.1087\n",
            "Epoch [7/10], Train Loss: 2.2613, Validation Loss: 2.8471\n",
            "Epoch [8/10], Train Loss: 2.1171, Validation Loss: 2.6712\n",
            "Epoch [9/10], Train Loss: 1.9878, Validation Loss: 2.4674\n",
            "Epoch [10/10], Train Loss: 1.9029, Validation Loss: 2.4574\n",
            "\n"
          ]
        },
        {
          "output_type": "display_data",
          "data": {
            "text/plain": [
              "<Figure size 640x480 with 1 Axes>"
            ],
            "image/png": "[encoded data removed]"
          },
          "metadata": {}
        }
      ]
    },
    {
      "cell_type": "code",
      "source": [
        "def translate_sentence(\n",
        "    sentence,\n",
        "    bgruamodel,\n",
        "    en_nlp,\n",
        "    de_nlp,\n",
        "    en_vocab,\n",
        "    de_vocab,\n",
        "    lower,\n",
        "    sos_token,\n",
        "    eos_token,\n",
        "    device,\n",
        "    max_output_length=25,\n",
        "):\n",
        "    bgruamodel = bgruamodel.to(device)\n",
        "    bgruamodel.eval()\n",
        "    with torch.no_grad():\n",
        "        if isinstance(sentence, str):\n",
        "            tokens = [token.text for token in en_nlp.tokenizer(sentence)]\n",
        "        else:\n",
        "            tokens = [token for token in sentence]\n",
        "        if lower:\n",
        "            tokens = [token.lower() for token in tokens]\n",
        "        tokens = [sos_token] + tokens + [eos_token]\n",
        "        ids = en_vocab.lookup_indices(tokens)\n",
        "        tensor = torch.LongTensor(ids).unsqueeze(-1).to(device)\n",
        "        hidden = bgruamodel.encoder(tensor)\n",
        "        inputs = de_vocab.lookup_indices([sos_token])\n",
        "        for _ in range(max_output_length):\n",
        "            inputs_tensor = torch.LongTensor([inputs[-1]]).to(device)\n",
        "            output, hidden = bgruamodel.decoder(inputs_tensor, hidden)\n",
        "            predicted_token = output.argmax(-1).item()\n",
        "            inputs.append(predicted_token)\n",
        "            if predicted_token == de_vocab[eos_token]:\n",
        "                break\n",
        "        tokens = de_vocab.lookup_tokens(inputs)\n",
        "    return tokens\n",
        "\n",
        "import spacy\n",
        "from tqdm import tqdm\n",
        "\n",
        "source_nlp = spacy.load('en_core_web_sm')\n",
        "target_nlp = spacy.load('de_core_news_sm')\n",
        "source_vocab = vocab_transform['en']\n",
        "target_vocab = vocab_transform['de']\n",
        "\n",
        "translations = [\n",
        "    translate_sentence(\n",
        "        example,\n",
        "        bgruamodel,\n",
        "        source_nlp,\n",
        "        target_nlp,\n",
        "        source_vocab,\n",
        "        target_vocab,\n",
        "        True,\n",
        "        '<sos>',\n",
        "        '<eos>',\n",
        "        device,\n",
        "    )\n",
        "    for example in test_bleu\n",
        "]\n",
        "\n",
        "\n",
        "predictions = [\" \".join(translation[1:-1]) for translation in translations]\n",
        "\n",
        "references = [[example[\"en\"]] for example in test_data]\n",
        "\n",
        "def get_tokenizer_fn(nlp, lower):\n",
        "    def tokenizer_fn(s):\n",
        "        tokens = [token.text for token in nlp.tokenizer(s)]\n",
        "        if lower:\n",
        "            tokens = [token.lower() for token in tokens]\n",
        "        return tokens\n",
        "\n",
        "    return tokenizer_fn\n",
        "\n",
        "tokenizer_fn = get_tokenizer_fn(spacy.load('de_core_news_sm'), True)\n",
        "results = bleu.compute(\n",
        "    predictions=predictions, references=actuals, tokenizer=tokenizer_fn\n",
        ")\n",
        "results['bleu']\n",
        "\n",
        "\n"
      ],
      "metadata": {
        "execution": {
          "iopub.status.busy": "2024-05-10T22:45:15.296376Z",
          "iopub.execute_input": "2024-05-10T22:45:15.297160Z",
          "iopub.status.idle": "2024-05-10T22:45:32.675916Z",
          "shell.execute_reply.started": "2024-05-10T22:45:15.297128Z",
          "shell.execute_reply": "2024-05-10T22:45:32.674973Z"
        },
        "trusted": true,
        "outputId": "618fb950-5cd4-4114-e14f-b1ea19eb2b47",
        "id": "9oQW2vTCoUBu",
        "colab": {
          "base_uri": "https://localhost:8080/"
        }
      },
      "execution_count": 24,
      "outputs": [
        {
          "output_type": "stream",
          "name": "stdout",
          "text": [
            "0.208651243765876\n"
          ]
        }
      ]
    },
    {
      "cell_type": "markdown",
      "source": [
        "transfer learning"
      ],
      "metadata": {
        "id": "X6zPWMSDj4GE"
      }
    },
    {
      "cell_type": "code",
      "source": [
        "!pip install transformers sentencepiece datasets"
      ],
      "metadata": {
        "id": "2ZsfQQ6MwO45"
      },
      "execution_count": null,
      "outputs": []
    },
    {
      "cell_type": "code",
      "source": [
        "!pip install evaluate"
      ],
      "metadata": {
        "id": "0pqtkYcDvXpI"
      },
      "execution_count": null,
      "outputs": []
    },
    {
      "cell_type": "code",
      "source": [
        "import torch\n",
        "from transformers import AutoTokenizer, AutoModelForSeq2SeqLM, AdamW, get_linear_schedule_with_warmup\n",
        "from tqdm import tqdm\n",
        "import numpy as np\n",
        "\n",
        "import evaluate\n",
        "\n",
        "class TranslationTask:\n",
        "    def __init__(self, model_path, device):\n",
        "        self.tokenizer = AutoTokenizer.from_pretrained(model_path)\n",
        "        self.model = AutoModelForSeq2SeqLM.from_pretrained(model_path).to(device)\n",
        "        self.device = device\n",
        "\n",
        "    def preprocess_data(self, data, max_len):\n",
        "        input_ids = []\n",
        "        target_ids = []\n",
        "        for row in data.iterrows():\n",
        "            src_text = row[1]['English']\n",
        "            tgt_text = row[1]['German']\n",
        "            if src_text is None or tgt_text is None:\n",
        "                continue\n",
        "            src_ids = self.tokenizer.encode(src_text, truncation=True, max_length=max_len, return_tensors='pt')[0]\n",
        "            tgt_ids = self.tokenizer.encode(tgt_text, truncation=True, max_length=max_len, return_tensors='pt')[0]\n",
        "            input_ids.append(src_ids)\n",
        "            target_ids.append(tgt_ids)\n",
        "        return input_ids, target_ids\n",
        "\n",
        "    def train(self, train_data, val_data, epochs=1, batch_size=4, lr=5e-4, print_freq=1000, checkpoint_freq=10000):\n",
        "        optimizer = AdamW(self.model.parameters(), lr=lr)\n",
        "        total_steps = len(train_data) * epochs // batch_size\n",
        "        scheduler = get_linear_schedule_with_warmup(optimizer, int(total_steps * 0.01), total_steps)\n",
        "\n",
        "        for epoch in range(epochs):\n",
        "            data_generator = self.batch_generator(train_data, batch_size)\n",
        "            batch_losses = []\n",
        "            for batch_idx, (input_batch, label_batch) in enumerate(data_generator):\n",
        "                optimizer.zero_grad()\n",
        "                output = self.model(input_ids=input_batch.to(self.device), labels=label_batch.to(self.device))\n",
        "                loss = output.loss\n",
        "                batch_losses.append(loss.item())\n",
        "                loss.backward()\n",
        "                optimizer.step()\n",
        "                scheduler.step()\n",
        "\n",
        "                if (batch_idx + 1) % print_freq == 0:\n",
        "                    avg_loss = np.mean(batch_losses)\n",
        "                    print(f'Epoch: {epoch+1} | Step: {batch_idx+1} | Avg. loss: {avg_loss:.3f} | lr: {scheduler.get_last_lr()[0]}')\n",
        "                    batch_losses = []\n",
        "\n",
        "                if (batch_idx + 1) % checkpoint_freq == 0:\n",
        "                    val_loss = self.evaluate(val_data, batch_size)\n",
        "\n",
        "\n",
        "    def evaluate(self, data, batch_size):\n",
        "        data_generator = self.batch_generator(data, batch_size)\n",
        "        losses = []\n",
        "        for input_batch, label_batch in data_generator:\n",
        "            with torch.no_grad():\n",
        "                output = self.model(input_ids=input_batch.to(self.device), labels=label_batch.to(self.device))\n",
        "                loss = output.loss\n",
        "                losses.append(loss.item())\n",
        "        return np.mean(losses)\n",
        "\n",
        "    def batch_generator(self, data, batch_size):\n",
        "        input_ids, target_ids = self.preprocess_data(data, self.model.config.max_length)\n",
        "        for i in range(0, len(input_ids), batch_size):\n",
        "            input_batch = input_ids[i:i+batch_size]\n",
        "            label_batch = target_ids[i:i+batch_size]\n",
        "            input_batch = torch.nn.utils.rnn.pad_sequence(input_batch, batch_first=True, padding_value=self.tokenizer.pad_token_id)\n",
        "            label_batch = torch.nn.utils.rnn.pad_sequence(label_batch, batch_first=True, padding_value=self.tokenizer.pad_token_id)\n",
        "            yield input_batch, label_batch\n",
        "\n",
        "    def translate(self, src_texts):\n",
        "        self.model.eval()\n",
        "        translations = []\n",
        "        for src_text in src_texts:\n",
        "            input_ids = self.tokenizer.encode(src_text, return_tensors='pt').to(self.device)\n",
        "            output_ids = self.model.generate(input_ids, num_beams=10, num_return_sequences=1, length_penalty=1, no_repeat_ngram_size=2)\n",
        "            translation = self.tokenizer.decode(output_ids[0], skip_special_tokens=True)\n",
        "            translations.append(translation)\n",
        "        return translations\n",
        "\n",
        "    def compute_bleu_scores(self, predictions, references):\n",
        "        bleu = evaluate.load(\"bleu\")\n",
        "        bleu_score = bleu.compute(predictions=predictions, references=[references])\n",
        "        print(f\"BLEU Score: {bleu_score['score']:.4f}\")\n",
        "\n",
        "model_path = \"google/mt5-base\"\n",
        "device = torch.device(\"cuda\" if torch.cuda.is_available() else \"cpu\")\n",
        "\n",
        "translation_task = TranslationTask(model_path, device)\n",
        "\n",
        "translation_task.train(train_dataset_temp, valid_dataset_temp)\n",
        "\n",
        "to_german = test_dataset_temp[\"English\"].tolist()\n",
        "german_preds = translation_task.translate(to_german)\n",
        "german_truth = test_dataset_temp[\"German\"].tolist()\n",
        "\n",
        "translation_task.compute_bleu_scores(german_preds, german_truth)"
      ],
      "metadata": {
        "colab": {
          "base_uri": "https://localhost:8080/"
        },
        "id": "dCRjZ8L84xjb",
        "outputId": "8ccdaafc-9db4-4d79-9f01-c149ac41839f"
      },
      "execution_count": null,
      "outputs": [
        {
          "output_type": "stream",
          "name": "stdout",
          "text": [
            "\n",
            "Epoch: 1 | Step: 1000 | Avg. loss: 2.713 | lr: 0.00043535803845082195\n",
            "Epoch: 1 | Step: 2000 | Avg. loss: 1.107 | lr: 0.0003657007522986904\n",
            "Epoch: 1 | Step: 3000 | Avg. loss: 0.901 | lr: 0.0002960434661465589\n",
            "Epoch: 1 | Step: 4000 | Avg. loss: 0.976 | lr: 0.00022638617999442743\n",
            "Epoch: 1 | Step: 5000 | Avg. loss: 0.893 | lr: 0.0001567288938422959\n",
            "Epoch: 1 | Step: 6000 | Avg. loss: 0.867 | lr: 8.127223769016439e-05\n",
            "Epoch: 1 | Step: 7000 | Avg. loss: 0.695 | lr: 1.876234153803288e-05\n",
            "BLEU Score: 39.3443\n",
            "\n"
          ]
        }
      ]
    },
    {
      "cell_type": "markdown",
      "source": [
        "**Transfer Learning Label smoothing loss**"
      ],
      "metadata": {
        "id": "NJ5s92RllTdE"
      }
    },
    {
      "cell_type": "code",
      "source": [
        "import torch.nn.functional as F\n",
        "\n",
        "class LabelSmoothingLoss(nn.Module):\n",
        "    def __init__(self, smoothing=0.1, ignore_index=-100):\n",
        "        super(LabelSmoothingLoss, self).__init__()\n",
        "        self.smoothing = smoothing\n",
        "        self.ignore_index = ignore_index\n",
        "\n",
        "    def forward(self, logits, targets):\n",
        "        num_classes = logits.size(-1)\n",
        "        nll_loss = F.cross_entropy(logits, targets, reduction='sum', ignore_index=self.ignore_index)\n",
        "\n",
        "        smooth_targets = torch.full_like(logits, self.smoothing / (num_classes - 1))\n",
        "        smooth_targets.scatter_(-1, targets.unsqueeze(-1), 1 - self.smoothing)\n",
        "\n",
        "        smooth_loss = F.kl_div(logits.log_softmax(dim=-1), smooth_targets, reduction='sum')\n",
        "        return (nll_loss + smooth_loss) / logits.size(0)\n",
        "\n"
      ],
      "metadata": {
        "id": "WkmTMTi-lHjw"
      },
      "execution_count": null,
      "outputs": []
    },
    {
      "cell_type": "code",
      "source": [
        "\n",
        "import torch\n",
        "from transformers import AutoTokenizer, AutoModelForSeq2SeqLM, AdamW, get_linear_schedule_with_warmup\n",
        "from tqdm import tqdm\n",
        "import numpy as np\n",
        "\n",
        "import evaluate\n",
        "\n",
        "class TranslationTask:\n",
        "    def __init__(self, model_path, device):\n",
        "        self.tokenizer = AutoTokenizer.from_pretrained(model_path)\n",
        "        self.model = AutoModelForSeq2SeqLM.from_pretrained(model_path).to(device)\n",
        "        self.device = device\n",
        "\n",
        "    def preprocess_data(self, data, max_len):\n",
        "        input_ids = []\n",
        "        target_ids = []\n",
        "        for row in data.iterrows():\n",
        "            src_text = row[1]['English']\n",
        "            tgt_text = row[1]['German']\n",
        "            if src_text is None or tgt_text is None:\n",
        "                continue\n",
        "            src_ids = self.tokenizer.encode(src_text, truncation=True, max_length=max_len, return_tensors='pt')[0]\n",
        "            tgt_ids = self.tokenizer.encode(tgt_text, truncation=True, max_length=max_len, return_tensors='pt')[0]\n",
        "            input_ids.append(src_ids)\n",
        "            target_ids.append(tgt_ids)\n",
        "        return input_ids, target_ids\n",
        "\n",
        "    def train(self, train_data, val_data, epochs=1, batch_size=4, lr=5e-4, print_freq=1000, checkpoint_freq=10000):\n",
        "        optimizer = AdamW(self.model.parameters(), lr=lr)\n",
        "        total_steps = len(train_data) * epochs // batch_size\n",
        "        scheduler = get_linear_schedule_with_warmup(optimizer, int(total_steps * 0.01), total_steps)\n",
        "\n",
        "        for epoch in range(epochs):\n",
        "            data_generator = self.batch_generator(train_data, batch_size)\n",
        "            batch_losses = []\n",
        "            for batch_idx, (input_batch, label_batch) in enumerate(data_generator):\n",
        "                optimizer.zero_grad()\n",
        "                output = self.model(input_ids=input_batch.to(self.device), labels=label_batch.to(self.device))\n",
        "                loss = LabelSmoothingLoss()\n",
        "                batch_losses.append(loss.item())\n",
        "                loss.backward()\n",
        "                optimizer.step()\n",
        "                scheduler.step()\n",
        "\n",
        "                if (batch_idx + 1) % print_freq == 0:\n",
        "                    avg_loss = np.mean(batch_losses)\n",
        "                    print(f'Epoch: {epoch+1} | Step: {batch_idx+1} | Avg. loss: {avg_loss:.3f} | lr: {scheduler.get_last_lr()[0]}')\n",
        "                    batch_losses = []\n",
        "\n",
        "                if (batch_idx + 1) % checkpoint_freq == 0:\n",
        "                    val_loss = self.evaluate(val_data, batch_size)\n",
        "\n",
        "\n",
        "    def evaluate(self, data, batch_size):\n",
        "        data_generator = self.batch_generator(data, batch_size)\n",
        "        losses = []\n",
        "        for input_batch, label_batch in data_generator:\n",
        "            with torch.no_grad():\n",
        "                output = self.model(input_ids=input_batch.to(self.device), labels=label_batch.to(self.device))\n",
        "                loss = output.loss\n",
        "                losses.append(loss.item())\n",
        "        return np.mean(losses)\n",
        "\n",
        "    def batch_generator(self, data, batch_size):\n",
        "        input_ids, target_ids = self.preprocess_data(data, self.model.config.max_length)\n",
        "        for i in range(0, len(input_ids), batch_size):\n",
        "            input_batch = input_ids[i:i+batch_size]\n",
        "            label_batch = target_ids[i:i+batch_size]\n",
        "            input_batch = torch.nn.utils.rnn.pad_sequence(input_batch, batch_first=True, padding_value=self.tokenizer.pad_token_id)\n",
        "            label_batch = torch.nn.utils.rnn.pad_sequence(label_batch, batch_first=True, padding_value=self.tokenizer.pad_token_id)\n",
        "            yield input_batch, label_batch\n",
        "\n",
        "    def translate(self, src_texts):\n",
        "        self.model.eval()\n",
        "        translations = []\n",
        "        for src_text in src_texts:\n",
        "            input_ids = self.tokenizer.encode(src_text, return_tensors='pt').to(self.device)\n",
        "            output_ids = self.model.generate(input_ids, num_beams=10, num_return_sequences=1, length_penalty=1, no_repeat_ngram_size=2)\n",
        "            translation = self.tokenizer.decode(output_ids[0], skip_special_tokens=True)\n",
        "            translations.append(translation)\n",
        "        return translations\n",
        "\n",
        "    def compute_bleu_scores(self, predictions, references):\n",
        "        bleu = evaluate.load(\"bleu\")\n",
        "        bleu_score = bleu.compute(predictions=predictions, references=[references])\n",
        "        print(f\"BLEU Score: {bleu_score['score']:.4f}\")\n",
        "\n",
        "model_path = \"google/mt5-base\"\n",
        "device = torch.device(\"cuda\" if torch.cuda.is_available() else \"cpu\")\n",
        "\n",
        "translation_task = TranslationTask(model_path, device)\n",
        "\n",
        "translation_task.train(train_dataset_temp, valid_dataset_temp)\n",
        "\n",
        "to_german = test_dataset_temp[\"English\"].tolist()\n",
        "german_preds = translation_task.translate(to_german)\n",
        "german_truth = test_dataset_temp[\"German\"].tolist()\n",
        "\n",
        "translation_task.compute_bleu_scores(german_preds, german_truth)"
      ],
      "metadata": {
        "colab": {
          "base_uri": "https://localhost:8080/"
        },
        "id": "1TdOkw8N4rPa",
        "outputId": "d32406c2-8ac8-4036-869f-da96e0fc4072"
      },
      "execution_count": null,
      "outputs": [
        {
          "output_type": "stream",
          "name": "stdout",
          "text": [
            "\n",
            "Epoch: 1 | Step: 1000 | Avg. loss: 2.817 | lr: 0.00043535803845082195\n",
            "Epoch: 1 | Step: 2000 | Avg. loss: 1.261 | lr: 0.0003657007522986904\n",
            "Epoch: 1 | Step: 3000 | Avg. loss: 0.914 | lr: 0.0002960434661465589\n",
            "Epoch: 1 | Step: 4000 | Avg. loss: 0.978 | lr: 0.00022638617999442743\n",
            "Epoch: 1 | Step: 5000 | Avg. loss: 0.813 | lr: 0.0001567288938422959\n",
            "Epoch: 1 | Step: 6000 | Avg. loss: 0.797 | lr: 8.127223769016439e-05\n",
            "Epoch: 1 | Step: 7000 | Avg. loss: 0.705 | lr: 1.876234153803288e-05\n",
            "BLEU Score: 38.126\n",
            "\n"
          ]
        }
      ]
    },
    {
      "cell_type": "markdown",
      "source": [
        "**Semantic Loss Transfer Learning**"
      ],
      "metadata": {
        "id": "uRczpZxk676F"
      }
    },
    {
      "cell_type": "code",
      "source": [
        "import torch\n",
        "\n",
        "def get_sentence_embedding(sentence, tokenizer, model):\n",
        "    input_ids = tokenizer(sentence, return_tensors='pt', padding=True, truncation=True)['input_ids']\n",
        "    with torch.no_grad():\n",
        "        outputs = model(input_ids)\n",
        "    embedding = outputs.last_hidden_state.mean(dim=1)\n",
        "\n",
        "    return embedding"
      ],
      "metadata": {
        "id": "MUyVYQSycYF6"
      },
      "execution_count": null,
      "outputs": []
    },
    {
      "cell_type": "code",
      "source": [
        "from transformers import BertTokenizer, BertModel\n",
        "tokenizer = BertTokenizer.from_pretrained('bert-base-german-cased')\n",
        "embed_model = BertModel.from_pretrained('bert-base-german-cased')"
      ],
      "metadata": {
        "id": "dQXN4gbdcY5z"
      },
      "execution_count": null,
      "outputs": []
    },
    {
      "cell_type": "code",
      "source": [
        "import torch\n",
        "from transformers import AutoTokenizer, AutoModelForSeq2SeqLM, AdamW, get_linear_schedule_with_warmup\n",
        "from tqdm import tqdm\n",
        "import numpy as np\n",
        "import evaluate\n",
        "from sentence_transformers import SentenceTransformer\n",
        "from transformers import BertTokenizer, BertModel\n",
        "\n",
        "class TranslationTask:\n",
        "    def __init__(self, model_path, device, embed_model, tokenizer, alpha):\n",
        "        self.tokenizer = AutoTokenizer.from_pretrained(model_path)\n",
        "        self.model = AutoModelForSeq2SeqLM.from_pretrained(model_path).to(device)\n",
        "        self.device = device\n",
        "        self.embed_model = embed_model\n",
        "        self.tokenizer = tokenizer\n",
        "        self.alpha = alpha\n",
        "\n",
        "    def preprocess_data(self, data, max_len):\n",
        "        input_ids = []\n",
        "        target_ids = []\n",
        "        for row in data.iterrows():\n",
        "            src_text = row[1]['English']\n",
        "            tgt_text = row[1]['German']\n",
        "            if src_text is None or tgt_text is None:\n",
        "                continue\n",
        "            src_ids = self.tokenizer.encode(src_text, truncation=True, max_length=max_len, return_tensors='pt')[0]\n",
        "            tgt_ids = self.tokenizer.encode(tgt_text, truncation=True, max_length=max_len, return_tensors='pt')[0]\n",
        "            input_ids.append(src_ids)\n",
        "            target_ids.append(tgt_ids)\n",
        "        return input_ids, target_ids\n",
        "\n",
        "    def train(self, train_data, val_data, epochs=1, batch_size=4, lr=5e-4, print_freq=1000, checkpoint_freq=10000):\n",
        "        optimizer = AdamW(self.model.parameters(), lr=lr)\n",
        "        total_steps = len(train_data) * epochs // batch_size\n",
        "        scheduler = get_linear_schedule_with_warmup(optimizer, int(total_steps * 0.01), total_steps)\n",
        "\n",
        "        for epoch in range(epochs):\n",
        "            data_generator = self.batch_generator(train_data, batch_size)\n",
        "            batch_losses = []\n",
        "            for batch_idx, (input_batch, label_batch) in enumerate(data_generator):\n",
        "                optimizer.zero_grad()\n",
        "                output = self.model(input_ids=input_batch.to(self.device), labels=label_batch.to(self.device))\n",
        "                ce_loss = output.loss\n",
        "\n",
        "                _, predicted_indices = torch.max(output.logits, dim=-1)\n",
        "                predicted_sentences = [self.tokenizer.decode(indices, skip_special_tokens=True) for indices in predicted_indices]\n",
        "                tgt_sentences = [self.tokenizer.decode(label, skip_special_tokens=True) for label in label_batch]\n",
        "                tgt_embeddings = get_sentence_embedding(tgt_sentences, self.tokenizer, self.embed_model)\n",
        "                predicted_embeddings = get_sentence_embedding(predicted_sentences, self.tokenizer, self.embed_model)\n",
        "                sem_loss = 1 - torch.nn.functional.cosine_similarity(tgt_embeddings, predicted_embeddings).mean()\n",
        "\n",
        "                loss = self.alpha * ce_loss + (1 - self.alpha) * sem_loss\n",
        "\n",
        "                batch_losses.append(loss.item())\n",
        "                loss.backward()\n",
        "                optimizer.step()\n",
        "                scheduler.step()\n",
        "\n",
        "                if (batch_idx + 1) % print_freq == 0:\n",
        "                    avg_loss = np.mean(batch_losses)\n",
        "                    print(f'Epoch: {epoch+1} | Step: {batch_idx+1} | Avg. loss: {avg_loss:.3f} | lr: {scheduler.get_last_lr()[0]}')\n",
        "                    batch_losses = []\n",
        "\n",
        "                if (batch_idx + 1) % checkpoint_freq == 0:\n",
        "                    val_loss = self.evaluate(val_data, batch_size)\n",
        "\n",
        "    def evaluate(self, data, batch_size):\n",
        "        data_generator = self.batch_generator(data, batch_size)\n",
        "        losses = []\n",
        "        for input_batch, label_batch in data_generator:\n",
        "            with torch.no_grad():\n",
        "                output = self.model(input_ids=input_batch.to(self.device), labels=label_batch.to(self.device))\n",
        "                ce_loss = output.loss\n",
        "\n",
        "                _, predicted_indices = torch.max(output.logits, dim=-1)\n",
        "                predicted_sentences = [self.tokenizer.decode(indices, skip_special_tokens=True) for indices in predicted_indices]\n",
        "                tgt_sentences = [self.tokenizer.decode(label, skip_special_tokens=True) for label in label_batch]\n",
        "                tgt_embeddings = get_sentence_embedding(tgt_sentences, self.tokenizer, self.embed_model)\n",
        "                predicted_embeddings = get_sentence_embedding(predicted_sentences, self.tokenizer, self.embed_model)\n",
        "                sem_loss = 1 - torch.nn.functional.cosine_similarity(tgt_embeddings, predicted_embeddings).mean()\n",
        "\n",
        "\n",
        "                loss = self.alpha * ce_loss + (1 - self.alpha) * sem_loss\n",
        "\n",
        "                losses.append(loss.item())\n",
        "        return np.mean(losses)\n",
        "\n",
        "    def batch_generator(self, data, batch_size):\n",
        "        input_ids, target_ids = self.preprocess_data(data, self.model.config.max_length)\n",
        "        for i in range(0, len(input_ids), batch_size):\n",
        "            input_batch = input_ids[i:i+batch_size]\n",
        "            label_batch = target_ids[i:i+batch_size]\n",
        "            input_batch = torch.nn.utils.rnn.pad_sequence(input_batch, batch_first=True, padding_value=self.tokenizer.pad_token_id)\n",
        "            label_batch = torch.nn.utils.rnn.pad_sequence(label_batch, batch_first=True, padding_value=self.tokenizer.pad_token_id)\n",
        "            yield input_batch, label_batch\n",
        "\n",
        "    def translate(self, src_texts):\n",
        "        self.model.eval()\n",
        "        translations = []\n",
        "        for src_text in src_texts:\n",
        "            input_ids = self.tokenizer.encode(src_text, return_tensors='pt').to(self.device)\n",
        "            output_ids = self.model.generate(input_ids, num_beams=10, num_return_sequences=1, length_penalty=1, no_repeat_ngram_size=2)\n",
        "            translation = self.tokenizer.decode(output_ids[0], skip_special_tokens=True)\n",
        "            translations.append(translation)\n",
        "        return translations\n",
        "\n",
        "    def compute_bleu_scores(self, predictions, references):\n",
        "        bleu = evaluate.load(\"bleu\")\n",
        "        bleu_score = bleu.compute(predictions=predictions, references=[references])\n",
        "        print(f\"BLEU Score: {bleu_score['score']:.4f}\")\n",
        "\n",
        "def get_sentence_embedding(sentences, tokenizer, embed_model):\n",
        "    encoded_sentences = tokenizer.batch_encode_plus(sentences, padding=True, truncation=True, return_tensors='pt')\n",
        "    with torch.no_grad():\n",
        "        embeddings = embed_model(encoded_sentences['input_ids'].to(device))[0]\n",
        "    return embeddings\n",
        "\n",
        "model_path = \"google/mt5-base\"\n",
        "device = torch.device(\"cuda\" if torch.cuda.is_available() else \"cpu\")\n",
        "tokenizer = BertTokenizer.from_pretrained('bert-base-german-cased')\n",
        "embed_model = BertModel.from_pretrained('bert-base-german-cased')\n",
        "alpha = 0.5\n",
        "\n",
        "translation_task = TranslationTask(model_path, device, embed_model, tokenizer, alpha)\n",
        "\n",
        "translation_task.train(train_dataset_temp, valid_dataset_temp)\n",
        "\n",
        "to_german = test_dataset_temp[\"English\"].tolist()\n",
        "german_preds = translation_task.translate(to_german)\n",
        "german_truth = test_dataset_temp[\"German\"].tolist()\n",
        "\n",
        "translation_task.compute_bleu_scores(german_preds, german_truth)\n"
      ],
      "metadata": {
        "colab": {
          "base_uri": "https://localhost:8080/"
        },
        "id": "-hdZmcwib84U",
        "outputId": "4e1a26cd-6ff8-4bd9-f39f-7a127dbedec5"
      },
      "execution_count": 43,
      "outputs": [
        {
          "output_type": "stream",
          "name": "stdout",
          "text": [
            "\n",
            "Epoch: 1 | Step: 1000 | Avg. loss: 2.278 | lr: 0.00041836000038479712\n",
            "Epoch: 1 | Step: 2000 | Avg. loss: 1.551 | lr: 0.00023026634041372967\n",
            "Epoch: 1 | Step: 3000 | Avg. loss: 1.545 | lr: 0.00031226664744454400\n",
            "Epoch: 1 | Step: 4000 | Avg. loss: 1.483 | lr: 0.00021517166364775064\n",
            "Epoch: 1 | Step: 5000 | Avg. loss: 0.965 | lr: 0.00025293767701949370\n",
            "Epoch: 1 | Step: 6000 | Avg. loss: 0.949 | lr: 0.00046629728280139912\n",
            "Epoch: 1 | Step: 7000 | Avg. loss: 0.600 | lr: 0.00001746274321538033 \n",
            "BLEU Score: 39.764\n",
            "\n"
          ]
        }
      ]
    },
    {
      "cell_type": "code",
      "source": [
        "import torch.nn.functional as F\n",
        "\n",
        "class LabelSmoothingLoss(nn.Module):\n",
        "    def __init__(self, smoothing=0.1, ignore_index=-100):\n",
        "        super(LabelSmoothingLoss, self).__init__()\n",
        "        self.smoothing = smoothing\n",
        "        self.ignore_index = ignore_index\n",
        "\n",
        "    def forward(self, logits, targets):\n",
        "        num_classes = logits.size(-1)\n",
        "        nll_loss = F.cross_entropy(logits, targets, reduction='sum', ignore_index=self.ignore_index)\n",
        "\n",
        "        smooth_targets = torch.full_like(logits, self.smoothing / (num_classes - 1))\n",
        "        smooth_targets.scatter_(-1, targets.unsqueeze(-1), 1 - self.smoothing)\n",
        "\n",
        "        smooth_loss = F.kl_div(logits.log_softmax(dim=-1), smooth_targets, reduction='sum')\n",
        "        return (nll_loss + smooth_loss) / logits.size(0)\n",
        "\n"
      ],
      "metadata": {
        "id": "vbCOJJb07HvW"
      },
      "execution_count": null,
      "outputs": []
    },
    {
      "cell_type": "code",
      "source": [
        "\n",
        "import torch\n",
        "from transformers import AutoTokenizer, AutoModelForSeq2SeqLM, AdamW, get_linear_schedule_with_warmup\n",
        "from tqdm import tqdm\n",
        "import numpy as np\n",
        "\n",
        "import evaluate\n",
        "\n",
        "class TranslationTask:\n",
        "    def __init__(self, model_path, device):\n",
        "        self.tokenizer = AutoTokenizer.from_pretrained(model_path)\n",
        "        self.model = AutoModelForSeq2SeqLM.from_pretrained(model_path).to(device)\n",
        "        self.device = device\n",
        "\n",
        "    def preprocess_data(self, data, max_len):\n",
        "        input_ids = []\n",
        "        target_ids = []\n",
        "        for row in data.iterrows():\n",
        "            src_text = row[1]['English']\n",
        "            tgt_text = row[1]['German']\n",
        "            if src_text is None or tgt_text is None:\n",
        "                continue\n",
        "            src_ids = self.tokenizer.encode(src_text, truncation=True, max_length=max_len, return_tensors='pt')[0]\n",
        "            tgt_ids = self.tokenizer.encode(tgt_text, truncation=True, max_length=max_len, return_tensors='pt')[0]\n",
        "            input_ids.append(src_ids)\n",
        "            target_ids.append(tgt_ids)\n",
        "        return input_ids, target_ids\n",
        "\n",
        "    def train(self, train_data, val_data, epochs=1, batch_size=4, lr=5e-4, print_freq=1000, checkpoint_freq=10000):\n",
        "        optimizer = AdamW(self.model.parameters(), lr=lr)\n",
        "        total_steps = len(train_data) * epochs // batch_size\n",
        "        scheduler = get_linear_schedule_with_warmup(optimizer, int(total_steps * 0.01), total_steps)\n",
        "\n",
        "        for epoch in range(epochs):\n",
        "            data_generator = self.batch_generator(train_data, batch_size)\n",
        "            batch_losses = []\n",
        "            for batch_idx, (input_batch, label_batch) in enumerate(data_generator):\n",
        "                optimizer.zero_grad()\n",
        "                output = self.model(input_ids=input_batch.to(self.device), labels=label_batch.to(self.device))\n",
        "                loss = LabelSmoothingLoss()\n",
        "                batch_losses.append(loss.item())\n",
        "                loss.backward()\n",
        "                optimizer.step()\n",
        "                scheduler.step()\n",
        "\n",
        "                if (batch_idx + 1) % print_freq == 0:\n",
        "                    avg_loss = np.mean(batch_losses)\n",
        "                    print(f'Epoch: {epoch+1} | Step: {batch_idx+1} | Avg. loss: {avg_loss:.3f} | lr: {scheduler.get_last_lr()[0]}')\n",
        "                    batch_losses = []\n",
        "\n",
        "                if (batch_idx + 1) % checkpoint_freq == 0:\n",
        "                    val_loss = self.evaluate(val_data, batch_size)\n",
        "\n",
        "\n",
        "    def evaluate(self, data, batch_size):\n",
        "        data_generator = self.batch_generator(data, batch_size)\n",
        "        losses = []\n",
        "        for input_batch, label_batch in data_generator:\n",
        "            with torch.no_grad():\n",
        "                output = self.model(input_ids=input_batch.to(self.device), labels=label_batch.to(self.device))\n",
        "                loss = output.loss\n",
        "                losses.append(loss.item())\n",
        "        return np.mean(losses)\n",
        "\n",
        "    def batch_generator(self, data, batch_size):\n",
        "        input_ids, target_ids = self.preprocess_data(data, self.model.config.max_length)\n",
        "        for i in range(0, len(input_ids), batch_size):\n",
        "            input_batch = input_ids[i:i+batch_size]\n",
        "            label_batch = target_ids[i:i+batch_size]\n",
        "            input_batch = torch.nn.utils.rnn.pad_sequence(input_batch, batch_first=True, padding_value=self.tokenizer.pad_token_id)\n",
        "            label_batch = torch.nn.utils.rnn.pad_sequence(label_batch, batch_first=True, padding_value=self.tokenizer.pad_token_id)\n",
        "            yield input_batch, label_batch\n",
        "\n",
        "    def translate(self, src_texts):\n",
        "        self.model.eval()\n",
        "        translations = []\n",
        "        for src_text in src_texts:\n",
        "            input_ids = self.tokenizer.encode(src_text, return_tensors='pt').to(self.device)\n",
        "            output_ids = self.model.generate(input_ids, num_beams=10, num_return_sequences=1, length_penalty=1, no_repeat_ngram_size=2)\n",
        "            translation = self.tokenizer.decode(output_ids[0], skip_special_tokens=True)\n",
        "            translations.append(translation)\n",
        "        return translations\n",
        "\n",
        "    def compute_bleu_scores(self, predictions, references):\n",
        "        bleu = evaluate.load(\"bleu\")\n",
        "        bleu_score = bleu.compute(predictions=predictions, references=[references])\n",
        "        print(f\"BLEU Score: {bleu_score['score']:.4f}\")\n",
        "\n",
        "model_path = \"google/mt5-base\"\n",
        "device = torch.device(\"cuda\" if torch.cuda.is_available() else \"cpu\")\n",
        "\n",
        "translation_task = TranslationTask(model_path, device)\n",
        "\n",
        "translation_task.train(train_dataset_temp, valid_dataset_temp)\n",
        "\n",
        "to_german = test_dataset_temp[\"English\"].tolist()\n",
        "german_preds = translation_task.translate(to_german)\n",
        "german_truth = test_dataset_temp[\"German\"].tolist()\n",
        "\n",
        "translation_task.compute_bleu_scores(german_preds, german_truth)"
      ],
      "metadata": {
        "colab": {
          "base_uri": "https://localhost:8080/"
        },
        "id": "z__HjxUO4rSZ",
        "outputId": "905636d0-76c9-443a-bc77-225b35bb3543"
      },
      "execution_count": null,
      "outputs": [
        {
          "output_type": "stream",
          "name": "stdout",
          "text": [
            "\n",
            "Epoch: 1 | Step: 1000 | Avg. loss: 2.713 | lr: 0.00043535803845082195\n",
            "Epoch: 1 | Step: 2000 | Avg. loss: 1.107 | lr: 0.0003657007522986904\n",
            "Epoch: 1 | Step: 3000 | Avg. loss: 0.901 | lr: 0.0002960434661465589\n",
            "Epoch: 1 | Step: 4000 | Avg. loss: 0.871 | lr: 0.00022638617999442743\n",
            "Epoch: 1 | Step: 5000 | Avg. loss: 0.893 | lr: 0.0001567288938422959\n",
            "Epoch: 1 | Step: 6000 | Avg. loss: 0.810 | lr: 8.707160769016439e-05\n",
            "Epoch: 1 | Step: 7000 | Avg. loss: 0.625 | lr: 1.741432153803288e-05\n",
            "BLEU Score: 40.2513\n",
            "\n"
          ]
        }
      ]
    },
    {
      "cell_type": "code",
      "source": [],
      "metadata": {
        "id": "5l2jtujT4rUu"
      },
      "execution_count": null,
      "outputs": []
    },
    {
      "cell_type": "markdown",
      "source": [
        "**Seq to Seq Loss Transfer Learning**"
      ],
      "metadata": {
        "id": "QJReBtxJ7htq"
      }
    },
    {
      "cell_type": "code",
      "source": [
        "import torch.nn as nn\n",
        "\n",
        "class SequenceToSequenceLoss(nn.Module):\n",
        "    def __init__(self):\n",
        "        super(SequenceToSequenceLoss, self).__init__()\n",
        "        self.cross_entropy = nn.CrossEntropyLoss()\n",
        "\n",
        "    def forward(self, logits, targets):\n",
        "        logits_flat = logits.view(-1, logits.size(-1))\n",
        "        targets_flat = targets.view(-1)\n",
        "        loss = self.cross_entropy(logits_flat, targets_flat)\n",
        "        return loss"
      ],
      "metadata": {
        "id": "dh1-vEH77htq"
      },
      "execution_count": null,
      "outputs": []
    },
    {
      "cell_type": "code",
      "source": [
        "\n",
        "import torch\n",
        "from transformers import AutoTokenizer, AutoModelForSeq2SeqLM, AdamW, get_linear_schedule_with_warmup\n",
        "from tqdm import tqdm\n",
        "import numpy as np\n",
        "\n",
        "import evaluate\n",
        "\n",
        "class TranslationTask:\n",
        "    def __init__(self, model_path, device):\n",
        "        self.tokenizer = AutoTokenizer.from_pretrained(model_path)\n",
        "        self.model = AutoModelForSeq2SeqLM.from_pretrained(model_path).to(device)\n",
        "        self.device = device\n",
        "\n",
        "    def preprocess_data(self, data, max_len):\n",
        "        input_ids = []\n",
        "        target_ids = []\n",
        "        for row in data.iterrows():\n",
        "            src_text = row[1]['English']\n",
        "            tgt_text = row[1]['German']\n",
        "            if src_text is None or tgt_text is None:\n",
        "                continue\n",
        "            src_ids = self.tokenizer.encode(src_text, truncation=True, max_length=max_len, return_tensors='pt')[0]\n",
        "            tgt_ids = self.tokenizer.encode(tgt_text, truncation=True, max_length=max_len, return_tensors='pt')[0]\n",
        "            input_ids.append(src_ids)\n",
        "            target_ids.append(tgt_ids)\n",
        "        return input_ids, target_ids\n",
        "\n",
        "    def train(self, train_data, val_data, epochs=1, batch_size=4, lr=5e-4, print_freq=1000, checkpoint_freq=10000):\n",
        "        optimizer = AdamW(self.model.parameters(), lr=lr)\n",
        "        total_steps = len(train_data) * epochs // batch_size\n",
        "        scheduler = get_linear_schedule_with_warmup(optimizer, int(total_steps * 0.01), total_steps)\n",
        "\n",
        "        for epoch in range(epochs):\n",
        "            data_generator = self.batch_generator(train_data, batch_size)\n",
        "            batch_losses = []\n",
        "            for batch_idx, (input_batch, label_batch) in enumerate(data_generator):\n",
        "                optimizer.zero_grad()\n",
        "                output = self.model(input_ids=input_batch.to(self.device), labels=label_batch.to(self.device))\n",
        "                loss = SequenceToSequenceLoss()\n",
        "                batch_losses.append(loss.item())\n",
        "                loss.backward()\n",
        "                optimizer.step()\n",
        "                scheduler.step()\n",
        "\n",
        "                if (batch_idx + 1) % print_freq == 0:\n",
        "                    avg_loss = np.mean(batch_losses)\n",
        "                    print(f'Epoch: {epoch+1} | Step: {batch_idx+1} | Avg. loss: {avg_loss:.3f} | lr: {scheduler.get_last_lr()[0]}')\n",
        "                    batch_losses = []\n",
        "\n",
        "                if (batch_idx + 1) % checkpoint_freq == 0:\n",
        "                    val_loss = self.evaluate(val_data, batch_size)\n",
        "\n",
        "\n",
        "    def evaluate(self, data, batch_size):\n",
        "        data_generator = self.batch_generator(data, batch_size)\n",
        "        losses = []\n",
        "        for input_batch, label_batch in data_generator:\n",
        "            with torch.no_grad():\n",
        "                output = self.model(input_ids=input_batch.to(self.device), labels=label_batch.to(self.device))\n",
        "                loss = output.loss\n",
        "                losses.append(loss.item())\n",
        "        return np.mean(losses)\n",
        "\n",
        "    def batch_generator(self, data, batch_size):\n",
        "        input_ids, target_ids = self.preprocess_data(data, self.model.config.max_length)\n",
        "        for i in range(0, len(input_ids), batch_size):\n",
        "            input_batch = input_ids[i:i+batch_size]\n",
        "            label_batch = target_ids[i:i+batch_size]\n",
        "            input_batch = torch.nn.utils.rnn.pad_sequence(input_batch, batch_first=True, padding_value=self.tokenizer.pad_token_id)\n",
        "            label_batch = torch.nn.utils.rnn.pad_sequence(label_batch, batch_first=True, padding_value=self.tokenizer.pad_token_id)\n",
        "            yield input_batch, label_batch\n",
        "\n",
        "    def translate(self, src_texts):\n",
        "        self.model.eval()\n",
        "        translations = []\n",
        "        for src_text in src_texts:\n",
        "            input_ids = self.tokenizer.encode(src_text, return_tensors='pt').to(self.device)\n",
        "            output_ids = self.model.generate(input_ids, num_beams=10, num_return_sequences=1, length_penalty=1, no_repeat_ngram_size=2)\n",
        "            translation = self.tokenizer.decode(output_ids[0], skip_special_tokens=True)\n",
        "            translations.append(translation)\n",
        "        return translations\n",
        "\n",
        "    def compute_bleu_scores(self, predictions, references):\n",
        "        bleu = evaluate.load(\"bleu\")\n",
        "        bleu_score = bleu.compute(predictions=predictions, references=[references])\n",
        "        print(f\"BLEU Score: {bleu_score['score']:.4f}\")\n",
        "\n",
        "model_path = \"google/mt5-base\"\n",
        "device = torch.device(\"cuda\" if torch.cuda.is_available() else \"cpu\")\n",
        "\n",
        "translation_task = TranslationTask(model_path, device)\n",
        "\n",
        "translation_task.train(train_dataset_temp, valid_dataset_temp)\n",
        "\n",
        "to_german = test_dataset_temp[\"English\"].tolist()\n",
        "german_preds = translation_task.translate(to_german)\n",
        "german_truth = test_dataset_temp[\"German\"].tolist()\n",
        "\n",
        "translation_task.compute_bleu_scores(german_preds, german_truth)"
      ],
      "metadata": {
        "colab": {
          "base_uri": "https://localhost:8080/"
        },
        "id": "ehiWHATQ4rYM",
        "outputId": "892045ea-0368-4e9c-93d0-9aedc6b672a2"
      },
      "execution_count": null,
      "outputs": [
        {
          "output_type": "stream",
          "name": "stdout",
          "text": [
            "\n",
            "Epoch: 1 | Step: 1000 | Avg. loss: 2.781 | lr: 0.00043535803845082195\n",
            "Epoch: 1 | Step: 2000 | Avg. loss: 1.126 | lr: 0.0003657007522986904\n",
            "Epoch: 1 | Step: 3000 | Avg. loss: 0.987 | lr: 0.0002960434661465589\n",
            "Epoch: 1 | Step: 4000 | Avg. loss: 0.901 | lr: 0.00022638617999442743\n",
            "Epoch: 1 | Step: 5000 | Avg. loss: 0.913 | lr: 0.0001567288938422959\n",
            "Epoch: 1 | Step: 6000 | Avg. loss: 0.860 | lr: 8.707160769016439e-05\n",
            "Epoch: 1 | Step: 7000 | Avg. loss: 0.725 | lr: 1.741432153803288e-05\n",
            "BLEU Score: 37.8723\n",
            "\n"
          ]
        }
      ]
    },
    {
      "cell_type": "code",
      "source": [],
      "metadata": {
        "id": "FRqyqIbF8JgY"
      },
      "execution_count": null,
      "outputs": []
    }
  ]
}